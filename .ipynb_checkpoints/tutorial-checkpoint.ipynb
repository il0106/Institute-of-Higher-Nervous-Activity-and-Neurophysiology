{
 "cells": [
  {
   "cell_type": "markdown",
   "id": "c5bd32a8",
   "metadata": {},
   "source": [
    "# Table of Contents"
   ]
  },
  {
   "cell_type": "markdown",
   "id": "b7dbf6bf",
   "metadata": {},
   "source": [
    "* [Opening remarks](#1)\n",
    "* [1. Parsing data](#2)\n",
    "    * [1.1 First mode (main) - parsing from the IntelliCage](#3)\n",
    "    * [1.2 Second mode (custom) - parsing from HTML](#4)\n",
    "* [2. Graph analysis](#5)\n",
    "    * [2.1 First mode - static graph](#6)\n",
    "    * [2.2 Second mode - dynamic graph](#7)\n",
    "    * [2.3 Graph statistics](#8)\n",
    "        * [2.3.1 Static graph statistics](#9)\n",
    "        * [2.3.2 Dynamic graph statistics](#10)\n",
    "* [3. Visits, intervals and their histograms](#11)\n",
    "    * [3.1 Number of visits](#12)\n",
    "    * [3.2 Intervisit intervals](#13)\n",
    "* [4. Statistical tests](#14)\n",
    "    * [4.1 Permutation](#15)\n",
    "    * [4.2 Wilcoxon](#16)\n",
    "* [5. Timeline](#17)\n",
    "* [6. Custom statistic](#18)"
   ]
  },
  {
   "cell_type": "markdown",
   "id": "48a88300",
   "metadata": {},
   "source": [
    "# Opening remarks <a class=\"anchor\" id=\"1\"></a>\n",
    "\n",
    "You are here because you are a researcher. You are a person who wants to expand our ideas about the world around us. To do this, you observe, discover, explore, experiment, prove and refute. And in order to do this as productively as possible, you need the right tools. To your attention, one of these tools is Rat behavioral contagion analyzer (RBCA).\n",
    "\n",
    "###### What can RBCA do?\n",
    "1. Get data about rat visits\n",
    "2. Graph analysis\n",
    "3. Draw histograms\n",
    "4. Statistical tests \n",
    "5. Draw timeline you are interested in \n",
    "6. Log a lot of statistics\n",
    "\n",
    "I hope this algorithm will help in your research. Although RBCAt is under development, it already has a wide functionality.\n",
    "\n",
    "##### The instructions for use will be given below. Please pay attention to all comments, as misunderstanding the work process can lead you to erroneous conclusions."
   ]
  },
  {
   "cell_type": "markdown",
   "id": "e6ae27cb",
   "metadata": {},
   "source": [
    "## 1. Parsing data <a class=\"anchor\" id=\"2\"></a>"
   ]
  },
  {
   "cell_type": "markdown",
   "id": "c012b5ff",
   "metadata": {},
   "source": [
    "There are two modes of operation. The first is loading from the IntelliCage (this is the main mode). The second mode (custom) is parsing from HTML files."
   ]
  },
  {
   "cell_type": "markdown",
   "id": "bcb83629",
   "metadata": {},
   "source": [
    "### 1.1 First mode (main) - parsing from the IntelliCage <a class=\"anchor\" id=\"3\"></a>"
   ]
  },
  {
   "cell_type": "code",
   "execution_count": 1,
   "id": "f8d24e8f",
   "metadata": {
    "scrolled": true
   },
   "outputs": [
    {
     "name": "stderr",
     "output_type": "stream",
     "text": [
      "PyMICE library v. 1.2.1\n",
      "\n",
      "The library is available under GPL3 license; we ask that reference to our paper\n",
      "as well as to the library itself is provided in any published research making\n",
      "use of PyMICE. Please run:\n",
      "\n",
      ">>> print(pm.__REFERENCING__)\n",
      "\n",
      "for more information (given that the library is imported as `pm`).\n",
      "\n",
      "\n"
     ]
    }
   ],
   "source": [
    "from ratcontagion import RBCA\n",
    "import pandas as pd\n",
    "import numpy as np"
   ]
  },
  {
   "cell_type": "code",
   "execution_count": 5,
   "id": "eae89883",
   "metadata": {},
   "outputs": [],
   "source": [
    "names = {'for parser test':['control1 session1']}\n",
    "\n",
    "exp = RBCA(dict_names=names,\n",
    "           output_path=r'tutorial_data\\output', # for correct logging\n",
    "           input_path=r'tutorial_data\\input',\n",
    "           name_animal_file='animals',\n",
    "           show_warnings=False,\n",
    "           corners=[1,2]) # corners parameter are labels you want to include to your analysis in \"Corners\" column in raw data \n",
    "\n",
    "intellicage_condition = 'all_time' # Get the data when there was light in the cage, or not, or get all the data\n",
    "condition = {'for parser test':{'control1 session1':'last_day'}} # Any custom conditions for extracted files. For more information, see the code and docs\n",
    "input_path = r'tutorial_data\\input'\n",
    "\n",
    "# 'animals' is HTML where there is information about rats. In our experiment we had 'demonstrators'.\n",
    "# There must be such a file with information about the subjects (at the same time it can be empty), \n",
    "# for a better understanding of the file fields, see 'animals' in the input files for this tutorial\n",
    "data = exp.parser(name_base='control1 session1',\n",
    "                  name_stage='for parser test',\n",
    "                  name_group='control1',\n",
    "                  lick=False,\n",
    "                  time=None,\n",
    "                  without_dem=False,\n",
    "                  time_start=None,\n",
    "                  time_finish=None,\n",
    "                  intellicage=intellicage_condition,\n",
    "                  condition=condition)"
   ]
  },
  {
   "cell_type": "code",
   "execution_count": 6,
   "id": "c8db1808",
   "metadata": {},
   "outputs": [
    {
     "data": {
      "text/html": [
       "<div>\n",
       "<style scoped>\n",
       "    .dataframe tbody tr th:only-of-type {\n",
       "        vertical-align: middle;\n",
       "    }\n",
       "\n",
       "    .dataframe tbody tr th {\n",
       "        vertical-align: top;\n",
       "    }\n",
       "\n",
       "    .dataframe thead th {\n",
       "        text-align: right;\n",
       "    }\n",
       "</style>\n",
       "<table border=\"1\" class=\"dataframe\">\n",
       "  <thead>\n",
       "    <tr style=\"text-align: right;\">\n",
       "      <th></th>\n",
       "      <th>VisitID</th>\n",
       "      <th>Name</th>\n",
       "      <th>Sex</th>\n",
       "      <th>Tag</th>\n",
       "      <th>AntennaDuration</th>\n",
       "      <th>AntennaNumber</th>\n",
       "      <th>Cage</th>\n",
       "      <th>Corner</th>\n",
       "      <th>Left</th>\n",
       "      <th>Right</th>\n",
       "      <th>...</th>\n",
       "      <th>Module</th>\n",
       "      <th>NosepokeDuration</th>\n",
       "      <th>NosepokeNumber</th>\n",
       "      <th>PlaceError</th>\n",
       "      <th>PresenceDuration</th>\n",
       "      <th>PresenceNumber</th>\n",
       "      <th>_StartTime</th>\n",
       "      <th>VisitSolution</th>\n",
       "      <th>StartDate</th>\n",
       "      <th>EndDate</th>\n",
       "    </tr>\n",
       "    <tr>\n",
       "      <th>Tag</th>\n",
       "      <th></th>\n",
       "      <th></th>\n",
       "      <th></th>\n",
       "      <th></th>\n",
       "      <th></th>\n",
       "      <th></th>\n",
       "      <th></th>\n",
       "      <th></th>\n",
       "      <th></th>\n",
       "      <th></th>\n",
       "      <th></th>\n",
       "      <th></th>\n",
       "      <th></th>\n",
       "      <th></th>\n",
       "      <th></th>\n",
       "      <th></th>\n",
       "      <th></th>\n",
       "      <th></th>\n",
       "      <th></th>\n",
       "      <th></th>\n",
       "      <th></th>\n",
       "    </tr>\n",
       "  </thead>\n",
       "  <tbody>\n",
       "    <tr>\n",
       "      <th>900200000069462</th>\n",
       "      <td>1914</td>\n",
       "      <td>Animal 5</td>\n",
       "      <td>Male</td>\n",
       "      <td>900200000069462</td>\n",
       "      <td>4.481445</td>\n",
       "      <td>1</td>\n",
       "      <td>1</td>\n",
       "      <td>1</td>\n",
       "      <td>1</td>\n",
       "      <td>2</td>\n",
       "      <td>...</td>\n",
       "      <td>Default</td>\n",
       "      <td>0.170</td>\n",
       "      <td>2</td>\n",
       "      <td>0</td>\n",
       "      <td>4.286133</td>\n",
       "      <td>2</td>\n",
       "      <td>2022-03-28 00:00:02.124</td>\n",
       "      <td>0</td>\n",
       "      <td>2022-03-28</td>\n",
       "      <td>2022-03-28</td>\n",
       "    </tr>\n",
       "    <tr>\n",
       "      <th>900200000069462</th>\n",
       "      <td>1915</td>\n",
       "      <td>Animal 5</td>\n",
       "      <td>Male</td>\n",
       "      <td>900200000069462</td>\n",
       "      <td>4.227539</td>\n",
       "      <td>1</td>\n",
       "      <td>1</td>\n",
       "      <td>1</td>\n",
       "      <td>1</td>\n",
       "      <td>2</td>\n",
       "      <td>...</td>\n",
       "      <td>Default</td>\n",
       "      <td>0.000</td>\n",
       "      <td>0</td>\n",
       "      <td>0</td>\n",
       "      <td>15.193359</td>\n",
       "      <td>1</td>\n",
       "      <td>2022-03-28 00:00:22.537</td>\n",
       "      <td>0</td>\n",
       "      <td>2022-03-28</td>\n",
       "      <td>2022-03-28</td>\n",
       "    </tr>\n",
       "    <tr>\n",
       "      <th>900200000072076</th>\n",
       "      <td>1919</td>\n",
       "      <td>Animal 2</td>\n",
       "      <td>Male</td>\n",
       "      <td>900200000072076</td>\n",
       "      <td>21.881836</td>\n",
       "      <td>3</td>\n",
       "      <td>1</td>\n",
       "      <td>2</td>\n",
       "      <td>3</td>\n",
       "      <td>4</td>\n",
       "      <td>...</td>\n",
       "      <td>Default</td>\n",
       "      <td>1.331</td>\n",
       "      <td>2</td>\n",
       "      <td>0</td>\n",
       "      <td>15.630859</td>\n",
       "      <td>2</td>\n",
       "      <td>2022-03-28 00:21:12.458</td>\n",
       "      <td>0</td>\n",
       "      <td>2022-03-28</td>\n",
       "      <td>2022-03-28</td>\n",
       "    </tr>\n",
       "    <tr>\n",
       "      <th>900200000072076</th>\n",
       "      <td>1920</td>\n",
       "      <td>Animal 2</td>\n",
       "      <td>Male</td>\n",
       "      <td>900200000072076</td>\n",
       "      <td>15.452149</td>\n",
       "      <td>2</td>\n",
       "      <td>1</td>\n",
       "      <td>1</td>\n",
       "      <td>1</td>\n",
       "      <td>2</td>\n",
       "      <td>...</td>\n",
       "      <td>Default</td>\n",
       "      <td>0.227</td>\n",
       "      <td>1</td>\n",
       "      <td>0</td>\n",
       "      <td>28.856445</td>\n",
       "      <td>4</td>\n",
       "      <td>2022-03-28 00:22:20.491</td>\n",
       "      <td>0</td>\n",
       "      <td>2022-03-28</td>\n",
       "      <td>2022-03-28</td>\n",
       "    </tr>\n",
       "    <tr>\n",
       "      <th>900200000072076</th>\n",
       "      <td>1921</td>\n",
       "      <td>Animal 2</td>\n",
       "      <td>Male</td>\n",
       "      <td>900200000072076</td>\n",
       "      <td>5.847656</td>\n",
       "      <td>3</td>\n",
       "      <td>1</td>\n",
       "      <td>1</td>\n",
       "      <td>1</td>\n",
       "      <td>2</td>\n",
       "      <td>...</td>\n",
       "      <td>Default</td>\n",
       "      <td>0.858</td>\n",
       "      <td>3</td>\n",
       "      <td>0</td>\n",
       "      <td>26.743164</td>\n",
       "      <td>1</td>\n",
       "      <td>2022-03-28 00:22:58.575</td>\n",
       "      <td>0</td>\n",
       "      <td>2022-03-28</td>\n",
       "      <td>2022-03-28</td>\n",
       "    </tr>\n",
       "    <tr>\n",
       "      <th>...</th>\n",
       "      <td>...</td>\n",
       "      <td>...</td>\n",
       "      <td>...</td>\n",
       "      <td>...</td>\n",
       "      <td>...</td>\n",
       "      <td>...</td>\n",
       "      <td>...</td>\n",
       "      <td>...</td>\n",
       "      <td>...</td>\n",
       "      <td>...</td>\n",
       "      <td>...</td>\n",
       "      <td>...</td>\n",
       "      <td>...</td>\n",
       "      <td>...</td>\n",
       "      <td>...</td>\n",
       "      <td>...</td>\n",
       "      <td>...</td>\n",
       "      <td>...</td>\n",
       "      <td>...</td>\n",
       "      <td>...</td>\n",
       "      <td>...</td>\n",
       "    </tr>\n",
       "    <tr>\n",
       "      <th>900200000071374</th>\n",
       "      <td>2299</td>\n",
       "      <td>Animal 4</td>\n",
       "      <td>Male</td>\n",
       "      <td>900200000071374</td>\n",
       "      <td>6.137695</td>\n",
       "      <td>1</td>\n",
       "      <td>1</td>\n",
       "      <td>2</td>\n",
       "      <td>3</td>\n",
       "      <td>4</td>\n",
       "      <td>...</td>\n",
       "      <td>Default</td>\n",
       "      <td>1.885</td>\n",
       "      <td>1</td>\n",
       "      <td>0</td>\n",
       "      <td>2.522461</td>\n",
       "      <td>1</td>\n",
       "      <td>2022-03-28 11:53:17.376</td>\n",
       "      <td>0</td>\n",
       "      <td>2022-03-28</td>\n",
       "      <td>2022-03-28</td>\n",
       "    </tr>\n",
       "    <tr>\n",
       "      <th>900200000071374</th>\n",
       "      <td>2300</td>\n",
       "      <td>Animal 4</td>\n",
       "      <td>Male</td>\n",
       "      <td>900200000071374</td>\n",
       "      <td>6.883789</td>\n",
       "      <td>2</td>\n",
       "      <td>1</td>\n",
       "      <td>2</td>\n",
       "      <td>3</td>\n",
       "      <td>4</td>\n",
       "      <td>...</td>\n",
       "      <td>Default</td>\n",
       "      <td>2.424</td>\n",
       "      <td>1</td>\n",
       "      <td>0</td>\n",
       "      <td>3.344727</td>\n",
       "      <td>1</td>\n",
       "      <td>2022-03-28 11:53:39.597</td>\n",
       "      <td>0</td>\n",
       "      <td>2022-03-28</td>\n",
       "      <td>2022-03-28</td>\n",
       "    </tr>\n",
       "    <tr>\n",
       "      <th>900200000071374</th>\n",
       "      <td>2302</td>\n",
       "      <td>Animal 4</td>\n",
       "      <td>Male</td>\n",
       "      <td>900200000071374</td>\n",
       "      <td>46.687500</td>\n",
       "      <td>2</td>\n",
       "      <td>1</td>\n",
       "      <td>2</td>\n",
       "      <td>3</td>\n",
       "      <td>4</td>\n",
       "      <td>...</td>\n",
       "      <td>Default</td>\n",
       "      <td>2.041</td>\n",
       "      <td>1</td>\n",
       "      <td>0</td>\n",
       "      <td>11.486328</td>\n",
       "      <td>4</td>\n",
       "      <td>2022-03-28 11:54:11.171</td>\n",
       "      <td>0</td>\n",
       "      <td>2022-03-28</td>\n",
       "      <td>2022-03-28</td>\n",
       "    </tr>\n",
       "    <tr>\n",
       "      <th>900200000071374</th>\n",
       "      <td>2303</td>\n",
       "      <td>Animal 4</td>\n",
       "      <td>Male</td>\n",
       "      <td>900200000071374</td>\n",
       "      <td>1.461914</td>\n",
       "      <td>1</td>\n",
       "      <td>1</td>\n",
       "      <td>2</td>\n",
       "      <td>3</td>\n",
       "      <td>4</td>\n",
       "      <td>...</td>\n",
       "      <td>Default</td>\n",
       "      <td>0.000</td>\n",
       "      <td>0</td>\n",
       "      <td>0</td>\n",
       "      <td>3.571289</td>\n",
       "      <td>1</td>\n",
       "      <td>2022-03-28 11:55:04.779</td>\n",
       "      <td>0</td>\n",
       "      <td>2022-03-28</td>\n",
       "      <td>2022-03-28</td>\n",
       "    </tr>\n",
       "    <tr>\n",
       "      <th>900200000071374</th>\n",
       "      <td>2306</td>\n",
       "      <td>Animal 4</td>\n",
       "      <td>Male</td>\n",
       "      <td>900200000071374</td>\n",
       "      <td>1.498047</td>\n",
       "      <td>1</td>\n",
       "      <td>1</td>\n",
       "      <td>1</td>\n",
       "      <td>1</td>\n",
       "      <td>2</td>\n",
       "      <td>...</td>\n",
       "      <td>Default</td>\n",
       "      <td>0.000</td>\n",
       "      <td>0</td>\n",
       "      <td>0</td>\n",
       "      <td>1.673828</td>\n",
       "      <td>1</td>\n",
       "      <td>2022-03-28 11:58:42.591</td>\n",
       "      <td>0</td>\n",
       "      <td>2022-03-28</td>\n",
       "      <td>2022-03-28</td>\n",
       "    </tr>\n",
       "  </tbody>\n",
       "</table>\n",
       "<p>272 rows × 26 columns</p>\n",
       "</div>"
      ],
      "text/plain": [
       "                 VisitID      Name   Sex              Tag  AntennaDuration  \\\n",
       "Tag                                                                          \n",
       "900200000069462     1914  Animal 5  Male  900200000069462         4.481445   \n",
       "900200000069462     1915  Animal 5  Male  900200000069462         4.227539   \n",
       "900200000072076     1919  Animal 2  Male  900200000072076        21.881836   \n",
       "900200000072076     1920  Animal 2  Male  900200000072076        15.452149   \n",
       "900200000072076     1921  Animal 2  Male  900200000072076         5.847656   \n",
       "...                  ...       ...   ...              ...              ...   \n",
       "900200000071374     2299  Animal 4  Male  900200000071374         6.137695   \n",
       "900200000071374     2300  Animal 4  Male  900200000071374         6.883789   \n",
       "900200000071374     2302  Animal 4  Male  900200000071374        46.687500   \n",
       "900200000071374     2303  Animal 4  Male  900200000071374         1.461914   \n",
       "900200000071374     2306  Animal 4  Male  900200000071374         1.498047   \n",
       "\n",
       "                 AntennaNumber  Cage  Corner  Left  Right  ...   Module  \\\n",
       "Tag                                                        ...            \n",
       "900200000069462              1     1       1     1      2  ...  Default   \n",
       "900200000069462              1     1       1     1      2  ...  Default   \n",
       "900200000072076              3     1       2     3      4  ...  Default   \n",
       "900200000072076              2     1       1     1      2  ...  Default   \n",
       "900200000072076              3     1       1     1      2  ...  Default   \n",
       "...                        ...   ...     ...   ...    ...  ...      ...   \n",
       "900200000071374              1     1       2     3      4  ...  Default   \n",
       "900200000071374              2     1       2     3      4  ...  Default   \n",
       "900200000071374              2     1       2     3      4  ...  Default   \n",
       "900200000071374              1     1       2     3      4  ...  Default   \n",
       "900200000071374              1     1       1     1      2  ...  Default   \n",
       "\n",
       "                 NosepokeDuration NosepokeNumber  PlaceError  \\\n",
       "Tag                                                            \n",
       "900200000069462             0.170              2           0   \n",
       "900200000069462             0.000              0           0   \n",
       "900200000072076             1.331              2           0   \n",
       "900200000072076             0.227              1           0   \n",
       "900200000072076             0.858              3           0   \n",
       "...                           ...            ...         ...   \n",
       "900200000071374             1.885              1           0   \n",
       "900200000071374             2.424              1           0   \n",
       "900200000071374             2.041              1           0   \n",
       "900200000071374             0.000              0           0   \n",
       "900200000071374             0.000              0           0   \n",
       "\n",
       "                 PresenceDuration  PresenceNumber              _StartTime  \\\n",
       "Tag                                                                         \n",
       "900200000069462          4.286133               2 2022-03-28 00:00:02.124   \n",
       "900200000069462         15.193359               1 2022-03-28 00:00:22.537   \n",
       "900200000072076         15.630859               2 2022-03-28 00:21:12.458   \n",
       "900200000072076         28.856445               4 2022-03-28 00:22:20.491   \n",
       "900200000072076         26.743164               1 2022-03-28 00:22:58.575   \n",
       "...                           ...             ...                     ...   \n",
       "900200000071374          2.522461               1 2022-03-28 11:53:17.376   \n",
       "900200000071374          3.344727               1 2022-03-28 11:53:39.597   \n",
       "900200000071374         11.486328               4 2022-03-28 11:54:11.171   \n",
       "900200000071374          3.571289               1 2022-03-28 11:55:04.779   \n",
       "900200000071374          1.673828               1 2022-03-28 11:58:42.591   \n",
       "\n",
       "                 VisitSolution   StartDate     EndDate  \n",
       "Tag                                                     \n",
       "900200000069462              0  2022-03-28  2022-03-28  \n",
       "900200000069462              0  2022-03-28  2022-03-28  \n",
       "900200000072076              0  2022-03-28  2022-03-28  \n",
       "900200000072076              0  2022-03-28  2022-03-28  \n",
       "900200000072076              0  2022-03-28  2022-03-28  \n",
       "...                        ...         ...         ...  \n",
       "900200000071374              0  2022-03-28  2022-03-28  \n",
       "900200000071374              0  2022-03-28  2022-03-28  \n",
       "900200000071374              0  2022-03-28  2022-03-28  \n",
       "900200000071374              0  2022-03-28  2022-03-28  \n",
       "900200000071374              0  2022-03-28  2022-03-28  \n",
       "\n",
       "[272 rows x 26 columns]"
      ]
     },
     "execution_count": 6,
     "metadata": {},
     "output_type": "execute_result"
    }
   ],
   "source": [
    "data[0] # DataFrame"
   ]
  },
  {
   "cell_type": "code",
   "execution_count": 7,
   "id": "a2438249",
   "metadata": {},
   "outputs": [
    {
     "data": {
      "text/plain": [
       "['900200000069462',\n",
       " '900200000072028',\n",
       " '900200000072076',\n",
       " '900200000071374',\n",
       " '900200000071624']"
      ]
     },
     "execution_count": 7,
     "metadata": {},
     "output_type": "execute_result"
    }
   ],
   "source": [
    "data[1] # List with unique rat tags from the file"
   ]
  },
  {
   "cell_type": "code",
   "execution_count": 8,
   "id": "a25de3af",
   "metadata": {},
   "outputs": [
    {
     "data": {
      "text/plain": [
       "['900200000072076']"
      ]
     },
     "execution_count": 8,
     "metadata": {},
     "output_type": "execute_result"
    }
   ],
   "source": [
    "data[2] # Demonstrator's tag in the group"
   ]
  },
  {
   "cell_type": "markdown",
   "id": "a814de26",
   "metadata": {},
   "source": [
    "### 1.2 Second mode (custom) - parsing from HTML <a class=\"anchor\" id=\"4\"></a>"
   ]
  },
  {
   "cell_type": "code",
   "execution_count": 12,
   "id": "7cb150c1",
   "metadata": {},
   "outputs": [],
   "source": [
    "exp = RBCA(dict_names=names,\n",
    "           output_path=r'tutorial_data\\output', # for correct logging\n",
    "           input_path=r'tutorial_data\\input_html',\n",
    "           name_animal_file='animals',\n",
    "           show_warnings=False,\n",
    "           corners=[1,2])\n",
    "\n",
    "data = exp.parser(name_base='control1 baseline 1',\n",
    "                  name_stage='for parser test (html)',\n",
    "                  name_group='control1',\n",
    "                  lick=False,\n",
    "                  time=None,\n",
    "                  without_dem=False,\n",
    "                  time_start=None,\n",
    "                  time_finish=None,\n",
    "                  intellicage=None,\n",
    "                  condition=None)"
   ]
  },
  {
   "cell_type": "code",
   "execution_count": 13,
   "id": "10f8a97c",
   "metadata": {},
   "outputs": [
    {
     "data": {
      "text/plain": [
       "(                   1  VisitID  VisitOrder    Animal              Tag   Sex  \\\n",
       " Tag                                                                          \n",
       " 900200000069462  183     2110           4  Animal 5  900200000069462  Male   \n",
       " 900200000069462  187     2114           8  Animal 5  900200000069462  Male   \n",
       " 900200000069462  188     2115           9  Animal 5  900200000069462  Male   \n",
       " 900200000069462  189     2116          10  Animal 5  900200000069462  Male   \n",
       " 900200000069462  190     2117          11  Animal 5  900200000069462  Male   \n",
       " ...              ...      ...         ...       ...              ...   ...   \n",
       " 900200000071374  174     2299          48  Animal 4  900200000071374  Male   \n",
       " 900200000071374  175     2300          49  Animal 4  900200000071374  Male   \n",
       " 900200000071374  176     2301          50  Animal 4  900200000071374  Male   \n",
       " 900200000071374  177     2303          51  Animal 4  900200000071374  Male   \n",
       " 900200000071374  178     2307          52  Animal 4  900200000071374  Male   \n",
       " \n",
       "                    Group   Module  Cage  Corner  ... StartTimecode  \\\n",
       " Tag                                              ...                 \n",
       " 900200000069462  Default  Default     1       2  ...       449.970   \n",
       " 900200000069462  Default  Default     1       1  ...       959.603   \n",
       " 900200000069462  Default  Default     1       1  ...       970.347   \n",
       " 900200000069462  Default  Default     1       2  ...      1091.711   \n",
       " 900200000069462  Default  Default     1       2  ...      1095.269   \n",
       " ...                  ...      ...   ...     ...  ...           ...   \n",
       " 900200000071374  Default  Default     1       2  ...     14338.219   \n",
       " 900200000071374  Default  Default     1       2  ...     14360.440   \n",
       " 900200000071374  Default  Default     1       2  ...     14392.014   \n",
       " 900200000071374  Default  Default     1       2  ...     14445.622   \n",
       " 900200000071374  Default  Default     1       1  ...     14663.434   \n",
       " \n",
       "                     EndDate       EndTime  EndTimecode  VisitDuration  \\\n",
       " Tag                                                                     \n",
       " 900200000069462  2022-03-28  08:01:51.509      452.352          2.382   \n",
       " 900200000069462  2022-03-28  08:10:19.030      959.873          0.270   \n",
       " 900200000069462  2022-03-28  08:10:35.562      976.405          6.058   \n",
       " 900200000069462  2022-03-28  08:12:34.042     1094.885          3.174   \n",
       " 900200000069462  2022-03-28  08:13:14.358     1135.201         39.932   \n",
       " ...                     ...           ...          ...            ...   \n",
       " 900200000071374  2022-03-28  11:53:19.899    14340.742          2.523   \n",
       " 900200000071374  2022-03-28  11:53:48.177    14369.020          8.580   \n",
       " 900200000071374  2022-03-28  11:55:03.689    14444.532         52.518   \n",
       " 900200000071374  2022-03-28  11:55:08.350    14449.193          3.571   \n",
       " 900200000071374  2022-03-28  11:58:44.265    14665.108          1.674   \n",
       " \n",
       "                  Session  _StartDate    _EndDate              _StartTime  \\\n",
       " Tag                                                                        \n",
       " 900200000069462        1  2022-03-28  2022-03-28 2022-03-28 08:01:49.127   \n",
       " 900200000069462        1  2022-03-28  2022-03-28 2022-03-28 08:10:18.760   \n",
       " 900200000069462        1  2022-03-28  2022-03-28 2022-03-28 08:10:29.504   \n",
       " 900200000069462        1  2022-03-28  2022-03-28 2022-03-28 08:12:30.868   \n",
       " 900200000069462        1  2022-03-28  2022-03-28 2022-03-28 08:12:34.426   \n",
       " ...                  ...         ...         ...                     ...   \n",
       " 900200000071374        1  2022-03-28  2022-03-28 2022-03-28 11:53:17.376   \n",
       " 900200000071374        1  2022-03-28  2022-03-28 2022-03-28 11:53:39.597   \n",
       " 900200000071374        1  2022-03-28  2022-03-28 2022-03-28 11:54:11.171   \n",
       " 900200000071374        1  2022-03-28  2022-03-28 2022-03-28 11:55:04.779   \n",
       " 900200000071374        1  2022-03-28  2022-03-28 2022-03-28 11:58:42.591   \n",
       " \n",
       "                                _EndTime  \n",
       " Tag                                      \n",
       " 900200000069462 2022-03-28 08:01:51.509  \n",
       " 900200000069462 2022-03-28 08:10:19.030  \n",
       " 900200000069462 2022-03-28 08:10:35.562  \n",
       " 900200000069462 2022-03-28 08:12:34.042  \n",
       " 900200000069462 2022-03-28 08:13:14.358  \n",
       " ...                                 ...  \n",
       " 900200000071374 2022-03-28 11:53:19.899  \n",
       " 900200000071374 2022-03-28 11:53:48.177  \n",
       " 900200000071374 2022-03-28 11:55:03.689  \n",
       " 900200000071374 2022-03-28 11:55:08.350  \n",
       " 900200000071374 2022-03-28 11:58:44.265  \n",
       " \n",
       " [117 rows x 32 columns],\n",
       " ['900200000071624',\n",
       "  '900200000072076',\n",
       "  '900200000072028',\n",
       "  '900200000071374',\n",
       "  '900200000069462'],\n",
       " ['900200000072076'])"
      ]
     },
     "execution_count": 13,
     "metadata": {},
     "output_type": "execute_result"
    }
   ],
   "source": [
    "data # the same tuple"
   ]
  },
  {
   "cell_type": "markdown",
   "id": "8f314e78",
   "metadata": {},
   "source": [
    "## 2. Graph analysis <a class=\"anchor\" id=\"5\"></a>"
   ]
  },
  {
   "cell_type": "markdown",
   "id": "e8362b0c",
   "metadata": {},
   "source": [
    "Graph plotting can be in two forms. The first is a static form. The second one is dynamic. \n",
    "Difference is that the first is done via pyvis lib, so it is interactive, whereas the second is done via plotly and plotly time slider. In both cases, you can draw on different groups of rats on different stages."
   ]
  },
  {
   "cell_type": "markdown",
   "id": "b33e5e21",
   "metadata": {},
   "source": [
    "### 2.1 First mode - static graph <a class=\"anchor\" id=\"6\"></a>"
   ]
  },
  {
   "cell_type": "code",
   "execution_count": 14,
   "id": "1973748d",
   "metadata": {},
   "outputs": [],
   "source": [
    "# Please note that there should not be identical groups \n",
    "# of rats in one stage. A group of rats is the first word in the file name before a space.\n",
    "# Wrong example: names = {'stage1':['control1 session1','control1 session2']}\n",
    "\n",
    "names = {'stage1':['control1 session1',\n",
    "                   'control2 session1',\n",
    "                   'control3 session1']} # files with the data grouped by stage\n",
    "\n",
    "exp = RBCA(input_path=r'tutorial_data\\input',\n",
    "           output_path=r'tutorial_data\\output', # path to folder with the results\n",
    "           name_animal_file='animals',\n",
    "           dict_names=names,\n",
    "           show_warnings=False,\n",
    "           corners=[1,2])\n",
    "\n",
    "res_eda_graph = exp.eda_graph(lick=False,\n",
    "                              time=None,\n",
    "                              replacing_value='auto',\n",
    "                              without_dem_base=False,\n",
    "                              input_time_interval='auto',\n",
    "                              time_start='12:00:00', # if you work with different days it is recommended put the whole date\n",
    "                              time_finish='18:00:00',\n",
    "                              time_start_median='12:00:00', # Time period to calculate the threshold median\n",
    "                              time_finish_median='18:00:00',\n",
    "                              delete_zero_in_intervals_for_median=True,\n",
    "                              median_special_time=True,\n",
    "                              dynamic=False,\n",
    "                              intellicage='all_time')\n",
    "\n",
    "# The side effect of the eda_graph method is an HTML consisting a graph (HTML per stage in your 'names'), see the 'stage1_graph.html' in output folder"
   ]
  },
  {
   "cell_type": "code",
   "execution_count": 20,
   "id": "7396e543",
   "metadata": {},
   "outputs": [
    {
     "data": {
      "image/png": "[encoded data removed]",
      "text/plain": [
       "<IPython.core.display.Image object>"
      ]
     },
     "execution_count": 20,
     "metadata": {},
     "output_type": "execute_result"
    }
   ],
   "source": [
    "# just png example of the graph from the result HTML\n",
    "from IPython.display import Image\n",
    "Image(r\"tutorial_data\\output\\png example (stage1_graph).png\")"
   ]
  },
  {
   "cell_type": "code",
   "execution_count": 21,
   "id": "8370495b",
   "metadata": {},
   "outputs": [
    {
     "data": {
      "text/plain": [
       "900200000069462    [238.0, 2.0, 217.0, 792.0, 11.0, 1721.0, 2702....\n",
       "900200000071374    [0.0, 56.0, 2.0, 116.0, 55.0, 189.0, 119.0, 30...\n",
       "900200000072076    [356.0, 0.0, 423.0, 461.0, 41.0, 6.0, 581.0, 9...\n",
       "900200000071624    [2.0, 251.0, 16.0, 166.0, 20.0, 274.0, 69.0, 8...\n",
       "900200000072028    [55.0, 2.0, 45.0, 0.0, 47.0, 264.0, 310.0, 54....\n",
       "900200000066708                                             [5708.0]\n",
       "900200000071676    [2.0, 3.0, 8.0, 6.0, 407.0, 276.0, 0.0, 13.0, ...\n",
       "900200000069548    [526.0, 89.0, 1.0, 156.0, 539.0, 13.0, 416.0, ...\n",
       "900200000069385           [2512.0, 10.0, 6.0, 14.0, 10578.0, 3116.0]\n",
       "900200000071740    [84.0, 126.0, 39.0, 207.0, 3.0, 206.0, 141.0, ...\n",
       "900200000069946    [196.0, 45.0, 0.0, 26.0, 883.0, 13.0, 593.0, 6...\n",
       "900200000071852    [1.0, 302.0, 8.0, 33.0, 142.0, 401.0, 7.0, 73....\n",
       "900200000066630    [0.0, 188.0, 213.0, 30.0, 699.0, 177.0, 407.0,...\n",
       "900200000068385    [2.0, 37.0, 221.0, 2.0, 2.0, 231.0, 257.0, 487...\n",
       "900200000064857                                                21600\n",
       "Name: stage1_intervals, dtype: object"
      ]
     },
     "execution_count": 21,
     "metadata": {},
     "output_type": "execute_result"
    }
   ],
   "source": [
    "res_eda_graph[0][0] # second intervals after rat's visits"
   ]
  },
  {
   "cell_type": "code",
   "execution_count": 22,
   "id": "044da704",
   "metadata": {},
   "outputs": [
    {
     "data": {
      "text/plain": [
       "{'control1 session1': {'900200000069462':                  Visits in stage1_control1 session1\n",
       "  index                                              \n",
       "  900200000071374                                   0\n",
       "  900200000071624                                   1\n",
       "  900200000072028                                   1\n",
       "  900200000072076                                   1,\n",
       "  '900200000071374':                  Visits in stage1_control1 session1\n",
       "  index                                              \n",
       "  900200000069462                                   1\n",
       "  900200000071624                                   1\n",
       "  900200000072028                                   4\n",
       "  900200000072076                                   1,\n",
       "  '900200000072076':                  Visits in stage1_control1 session1\n",
       "  index                                              \n",
       "  900200000069462                                   0\n",
       "  900200000071374                                   2\n",
       "  900200000071624                                   2\n",
       "  900200000072028                                   3,\n",
       "  '900200000072028':                  Visits in stage1_control1 session1\n",
       "  index                                              \n",
       "  900200000069462                                   2\n",
       "  900200000071374                                   3\n",
       "  900200000071624                                   2\n",
       "  900200000072076                                   0,\n",
       "  '900200000071624':                  Visits in stage1_control1 session1\n",
       "  index                                              \n",
       "  900200000069462                                   0\n",
       "  900200000071374                                   3\n",
       "  900200000072028                                   1\n",
       "  900200000072076                                   2},\n",
       " 'control2 session1': {'900200000066708':                  Visits in stage1_control2 session1\n",
       "  index                                              \n",
       "  900200000064857                                   0\n",
       "  900200000069385                                   0\n",
       "  900200000069548                                   0\n",
       "  900200000071676                                   0,\n",
       "  '900200000071676':                  Visits in stage1_control2 session1\n",
       "  index                                              \n",
       "  900200000064857                                   0\n",
       "  900200000066708                                   0\n",
       "  900200000069385                                   1\n",
       "  900200000069548                                   0,\n",
       "  '900200000069548':                  Visits in stage1_control2 session1\n",
       "  index                                              \n",
       "  900200000064857                                   0\n",
       "  900200000066708                                   0\n",
       "  900200000069385                                   1\n",
       "  900200000071676                                   0,\n",
       "  '900200000069385':                  Visits in stage1_control2 session1\n",
       "  index                                              \n",
       "  900200000064857                                   0\n",
       "  900200000066708                                   0\n",
       "  900200000069548                                   0\n",
       "  900200000071676                                   0,\n",
       "  '900200000064857':                  Visits in stage1_control2 session1\n",
       "  index                                              \n",
       "  900200000066708                                   0\n",
       "  900200000069385                                   0\n",
       "  900200000069548                                   0\n",
       "  900200000071676                                   0},\n",
       " 'control3 session1': {'900200000071740':                  Visits in stage1_control3 session1\n",
       "  index                                              \n",
       "  900200000066630                                   6\n",
       "  900200000068385                                   5\n",
       "  900200000069946                                   4\n",
       "  900200000071852                                   3,\n",
       "  '900200000069946':                  Visits in stage1_control3 session1\n",
       "  index                                              \n",
       "  900200000066630                                   1\n",
       "  900200000068385                                   5\n",
       "  900200000071740                                   2\n",
       "  900200000071852                                   1,\n",
       "  '900200000071852':                  Visits in stage1_control3 session1\n",
       "  index                                              \n",
       "  900200000066630                                   4\n",
       "  900200000068385                                   6\n",
       "  900200000069946                                   1\n",
       "  900200000071740                                   2,\n",
       "  '900200000066630':                  Visits in stage1_control3 session1\n",
       "  index                                              \n",
       "  900200000068385                                   7\n",
       "  900200000069946                                   0\n",
       "  900200000071740                                   4\n",
       "  900200000071852                                   7,\n",
       "  '900200000068385':                  Visits in stage1_control3 session1\n",
       "  index                                              \n",
       "  900200000066630                                   6\n",
       "  900200000069946                                   1\n",
       "  900200000071740                                  10\n",
       "  900200000071852                                   2}}"
      ]
     },
     "execution_count": 22,
     "metadata": {},
     "output_type": "execute_result"
    }
   ],
   "source": [
    "res_eda_graph[0][1] # dict, where keys are nodes, values are frames with the information about visits after the key tag's visits "
   ]
  },
  {
   "cell_type": "code",
   "execution_count": 23,
   "id": "1e8ee2d1",
   "metadata": {},
   "outputs": [
    {
     "data": {
      "text/plain": [
       "['900200000072076', '900200000071676', '900200000066630']"
      ]
     },
     "execution_count": 23,
     "metadata": {},
     "output_type": "execute_result"
    }
   ],
   "source": [
    "res_eda_graph[0][2] # Demonstrators' tags in the group"
   ]
  },
  {
   "cell_type": "markdown",
   "id": "7f626014",
   "metadata": {},
   "source": [
    "### 2.2 Second mode - dynamic graph <a class=\"anchor\" id=\"7\"></a>"
   ]
  },
  {
   "cell_type": "code",
   "execution_count": 25,
   "id": "5dfbdf3f",
   "metadata": {},
   "outputs": [],
   "source": [
    "names = {'stage1':['control1 session1']} # files with the data grouped by stage\n",
    "\n",
    "exp = RBCA(input_path=r'tutorial_data\\input',\n",
    "           output_path=r'tutorial_data\\output', \n",
    "           name_animal_file='animals',\n",
    "           dict_names=names,\n",
    "           show_warnings=False,\n",
    "           corners=[1,2])\n",
    "\n",
    "res_dynamic_graphs = exp.dynamic_graphs(start='2022-03-26_12:00:00',\n",
    "                                        finish='2022-03-28_12:00:00',\n",
    "                                        time_start_median='2022-03-26_12:00:00', \n",
    "                                        time_finish_median='2022-03-28_12:00:00',\n",
    "                                        slide=30, # 30 minutes window\n",
    "                                        step=10, # step for window\n",
    "                                        lick=False,\n",
    "                                        time=None,\n",
    "                                        replacing_value='auto',\n",
    "                                        without_dem_base=False,\n",
    "                                        input_time_interval='auto',\n",
    "                                        delete_zero_in_intervals_for_median=True,\n",
    "                                        median_special_time=True,\n",
    "                                        dynamic=True,\n",
    "                                        intellicage='all_time',\n",
    "                                        division_coef = 1)\n",
    "\n",
    "# The side effect of the dynamic_graphs method is an HTML consisting a graph (HTML per file in your 'names'), see the 'dg_stage1_control1 session1.html' in output"
   ]
  },
  {
   "cell_type": "code",
   "execution_count": 26,
   "id": "635ffe34",
   "metadata": {},
   "outputs": [
    {
     "data": {
      "text/plain": [
       "['stage1_control1 session1']"
      ]
     },
     "execution_count": 26,
     "metadata": {},
     "output_type": "execute_result"
    }
   ],
   "source": [
    "res_dynamic_graphs[0] # file name"
   ]
  },
  {
   "cell_type": "code",
   "execution_count": 27,
   "id": "398fdb0f",
   "metadata": {
    "scrolled": false
   },
   "outputs": [
    {
     "data": {
      "text/plain": [
       "[Scatter({\n",
       "     'hoverinfo': 'all',\n",
       "     'hovertext': [900200000069462: ['900200000071374' '900200000071624'\n",
       "                   '900200000072028' '900200000072076']-->[0 0 0 0],\n",
       "                   900200000071374: ['900200000069462' '900200000071624'\n",
       "                   '900200000072028' '900200000072076']-->[0 0 0 1],\n",
       "                   900200000072076: ['900200000069462' '900200000071374'\n",
       "                   '900200000071624' '900200000072028']-->[0 1 0 0],\n",
       "                   900200000072028: ['900200000069462' '900200000071374'\n",
       "                   '900200000071624' '900200000072076']-->[0 0 0 0],\n",
       "                   900200000071624: ['900200000069462' '900200000071374'\n",
       "                   '900200000072028' '900200000072076']-->[0 0 0 0]],\n",
       "     'marker': {'color': [red, red, yellow, red, red, red],\n",
       "                'reversescale': False,\n",
       "                'showscale': False,\n",
       "                'size': 50},\n",
       "     'mode': 'markers+text',\n",
       "     'showlegend': False,\n",
       "     'text': [900200000069462, 900200000071374, 900200000072076, 900200000072028,\n",
       "              900200000071624],\n",
       "     'textposition': 'bottom center',\n",
       "     'x': [3, 4, 6, 7, 5],\n",
       "     'y': [5, 1, 1, 5, 8]\n",
       " }),\n",
       " Scatter({\n",
       "     'line': {'color': 'blue', 'width': 5}, 'mode': 'lines', 'showlegend': False, 'x': [4, 6], 'y': [1, 1]\n",
       " }),\n",
       " Scatter({\n",
       "     'line': {'color': 'blue', 'width': 5}, 'mode': 'lines', 'showlegend': False, 'x': [6, 4], 'y': [1, 1]\n",
       " })]"
      ]
     },
     "execution_count": 27,
     "metadata": {},
     "output_type": "execute_result"
    }
   ],
   "source": [
    "res_dynamic_graphs[1]['2022-03-26_12:30:00']['stage1_control1 session1'] # Graphs structure for every file and timepoint"
   ]
  },
  {
   "cell_type": "code",
   "execution_count": 28,
   "id": "9eef7c18",
   "metadata": {},
   "outputs": [
    {
     "data": {
      "image/png": "[encoded data removed]",
      "text/plain": [
       "<IPython.core.display.Image object>"
      ]
     },
     "execution_count": 28,
     "metadata": {},
     "output_type": "execute_result"
    }
   ],
   "source": [
    "# just png example of the graph from the result HTML\n",
    "from IPython.display import Image\n",
    "Image(r\"tutorial_data\\output\\png example (dg_stage1_control1 session1).png\")"
   ]
  },
  {
   "cell_type": "markdown",
   "id": "33fb3366",
   "metadata": {},
   "source": [
    "### 2.3 Graph statistics <a class=\"anchor\" id=\"8\"></a>"
   ]
  },
  {
   "cell_type": "markdown",
   "id": "c44420d8",
   "metadata": {},
   "source": [
    "In the RBCA class there is a log with the statistics. To gain the statistics you must put True to 'stat' parameter in 'dynamic_graphs' method. After processing you can observe the information straight in the log atribute (see the 2.3.2 paragraph).\n",
    "\n",
    "##### Remember RBCA class keeps statistics and all tech issues via another log ('log.html'), there is the same information about the 'graph_analysis' method's result in the file."
   ]
  },
  {
   "cell_type": "markdown",
   "id": "07752bbb",
   "metadata": {},
   "source": [
    "#### 2.3.1 Static graph statistics <a class=\"anchor\" id=\"9\"></a>"
   ]
  },
  {
   "cell_type": "code",
   "execution_count": 29,
   "id": "bb048d20",
   "metadata": {},
   "outputs": [
    {
     "data": {
      "text/html": [
       "<div>\n",
       "<style scoped>\n",
       "    .dataframe tbody tr th:only-of-type {\n",
       "        vertical-align: middle;\n",
       "    }\n",
       "\n",
       "    .dataframe tbody tr th {\n",
       "        vertical-align: top;\n",
       "    }\n",
       "\n",
       "    .dataframe thead th {\n",
       "        text-align: right;\n",
       "    }\n",
       "</style>\n",
       "<table border=\"1\" class=\"dataframe\">\n",
       "  <thead>\n",
       "    <tr style=\"text-align: right;\">\n",
       "      <th></th>\n",
       "      <th>Time start</th>\n",
       "      <th>Time finish</th>\n",
       "      <th>Stage name</th>\n",
       "      <th>Name file</th>\n",
       "      <th>Median for graph analysis</th>\n",
       "      <th>Input replacing value</th>\n",
       "      <th>Data available</th>\n",
       "      <th>Unique tags (sample)</th>\n",
       "      <th>Edges from dem</th>\n",
       "      <th>Eccentricity</th>\n",
       "      <th>Diameter</th>\n",
       "      <th>Radius</th>\n",
       "      <th>Periphery</th>\n",
       "      <th>Center</th>\n",
       "      <th>Number of edges</th>\n",
       "      <th>Node credibility</th>\n",
       "      <th>Node susceptibilities</th>\n",
       "      <th>Graph weight</th>\n",
       "      <th>Number of nodes</th>\n",
       "      <th>Number of connected nodes</th>\n",
       "    </tr>\n",
       "  </thead>\n",
       "  <tbody>\n",
       "    <tr>\n",
       "      <th>0</th>\n",
       "      <td>None</td>\n",
       "      <td>None</td>\n",
       "      <td>for graph analysis only</td>\n",
       "      <td>control1 session1</td>\n",
       "      <td>206.0</td>\n",
       "      <td>auto</td>\n",
       "      <td>True</td>\n",
       "      <td>[900200000069462, 900200000071374, 90020000007...</td>\n",
       "      <td>[(900200000072076, 45)]</td>\n",
       "      <td>[(900200000069462, 1), (900200000071374, 1), (...</td>\n",
       "      <td>1</td>\n",
       "      <td>1</td>\n",
       "      <td>[900200000069462, 900200000071374, 90020000007...</td>\n",
       "      <td>[900200000069462, 900200000071374, 90020000007...</td>\n",
       "      <td>10</td>\n",
       "      <td>{'900200000069462': 'count = 42, coef = 42.0',...</td>\n",
       "      <td>{'900200000071374': 'count = 66, coef = 66.0',...</td>\n",
       "      <td>234</td>\n",
       "      <td>5</td>\n",
       "      <td>5</td>\n",
       "    </tr>\n",
       "  </tbody>\n",
       "</table>\n",
       "</div>"
      ],
      "text/plain": [
       "  Time start Time finish               Stage name          Name file  \\\n",
       "0       None        None  for graph analysis only  control1 session1   \n",
       "\n",
       "   Median for graph analysis Input replacing value  Data available  \\\n",
       "0                      206.0                  auto            True   \n",
       "\n",
       "                                Unique tags (sample)           Edges from dem  \\\n",
       "0  [900200000069462, 900200000071374, 90020000007...  [(900200000072076, 45)]   \n",
       "\n",
       "                                        Eccentricity  Diameter  Radius  \\\n",
       "0  [(900200000069462, 1), (900200000071374, 1), (...         1       1   \n",
       "\n",
       "                                           Periphery  \\\n",
       "0  [900200000069462, 900200000071374, 90020000007...   \n",
       "\n",
       "                                              Center  Number of edges  \\\n",
       "0  [900200000069462, 900200000071374, 90020000007...               10   \n",
       "\n",
       "                                    Node credibility  \\\n",
       "0  {'900200000069462': 'count = 42, coef = 42.0',...   \n",
       "\n",
       "                               Node susceptibilities  Graph weight  \\\n",
       "0  {'900200000071374': 'count = 66, coef = 66.0',...           234   \n",
       "\n",
       "   Number of nodes  Number of connected nodes  \n",
       "0                5                          5  "
      ]
     },
     "execution_count": 29,
     "metadata": {},
     "output_type": "execute_result"
    }
   ],
   "source": [
    "names = {'for graph analysis only':['control1 session1']}\n",
    "\n",
    "exp = RBCA(input_path=r'tutorial_data\\input',\n",
    "           output_path=r'tutorial_data\\output', \n",
    "           name_animal_file='animals',\n",
    "           dict_names=names,\n",
    "           show_warnings=False,\n",
    "           corners=[1,2])\n",
    "\n",
    "stat = exp.graph_analysis(division_coef=1, \n",
    "                          lick=False,\n",
    "                          time=None,\n",
    "                          replacing_value='auto',\n",
    "                          without_dem_base=False,\n",
    "                          input_time_interval='auto',\n",
    "                          time_start=None, # data on all session\n",
    "                          time_finish=None, # data on all session\n",
    "                          delete_zero_in_intervals_for_median=True,\n",
    "                          median_special_time=True,\n",
    "                          dynamic=False,\n",
    "                          intellicage='all_time',\n",
    "                          parser_condition=None)\n",
    "pd.DataFrame(stat[1])"
   ]
  },
  {
   "cell_type": "markdown",
   "id": "90929ed8",
   "metadata": {},
   "source": [
    "#### 2.3.2 Dynamic graph statistics <a class=\"anchor\" id=\"10\"></a>"
   ]
  },
  {
   "cell_type": "code",
   "execution_count": 31,
   "id": "01410b20",
   "metadata": {},
   "outputs": [],
   "source": [
    "_ = exp.dynamic_graphs(start='2022-03-26_12:00:00',\n",
    "                       finish='2022-03-26_16:00:00',\n",
    "                       time_start_median='2022-03-26_12:00:00',\n",
    "                       time_finish_median='2022-03-26_16:00:00',\n",
    "                       slide=30, \n",
    "                       step=10, \n",
    "                       lick=False,\n",
    "                       time=None,\n",
    "                       replacing_value='auto',\n",
    "                       without_dem_base= False,\n",
    "                       input_time_interval='auto',\n",
    "                       delete_zero_in_intervals_for_median=True,\n",
    "                       median_special_time=True,\n",
    "                       dynamic=True,\n",
    "                       intellicage='all_time',\n",
    "                       division_coef=1)"
   ]
  },
  {
   "cell_type": "code",
   "execution_count": 32,
   "id": "6ae1668c",
   "metadata": {},
   "outputs": [
    {
     "data": {
      "text/html": [
       "<div>\n",
       "<style scoped>\n",
       "    .dataframe tbody tr th:only-of-type {\n",
       "        vertical-align: middle;\n",
       "    }\n",
       "\n",
       "    .dataframe tbody tr th {\n",
       "        vertical-align: top;\n",
       "    }\n",
       "\n",
       "    .dataframe thead th {\n",
       "        text-align: right;\n",
       "    }\n",
       "</style>\n",
       "<table border=\"1\" class=\"dataframe\">\n",
       "  <thead>\n",
       "    <tr style=\"text-align: right;\">\n",
       "      <th></th>\n",
       "      <th>Time start</th>\n",
       "      <th>Time finish</th>\n",
       "      <th>Stage name</th>\n",
       "      <th>Name file</th>\n",
       "      <th>Median for graph analysis</th>\n",
       "      <th>Input replacing value</th>\n",
       "      <th>Data available</th>\n",
       "      <th>Unique tags (sample)</th>\n",
       "      <th>Edges from dem</th>\n",
       "      <th>Eccentricity</th>\n",
       "      <th>Diameter</th>\n",
       "      <th>Radius</th>\n",
       "      <th>Periphery</th>\n",
       "      <th>Center</th>\n",
       "      <th>Number of edges</th>\n",
       "      <th>Node credibility</th>\n",
       "      <th>Node susceptibilities</th>\n",
       "      <th>Graph weight</th>\n",
       "      <th>Number of nodes</th>\n",
       "      <th>Number of connected nodes</th>\n",
       "    </tr>\n",
       "  </thead>\n",
       "  <tbody>\n",
       "    <tr>\n",
       "      <th>0</th>\n",
       "      <td>None</td>\n",
       "      <td>None</td>\n",
       "      <td>for graph analysis only</td>\n",
       "      <td>control1 session1</td>\n",
       "      <td>206.0</td>\n",
       "      <td>auto</td>\n",
       "      <td>True</td>\n",
       "      <td>[900200000069462, 900200000071374, 90020000007...</td>\n",
       "      <td>[(900200000072076, 45)]</td>\n",
       "      <td>[(900200000069462, 1), (900200000071374, 1), (...</td>\n",
       "      <td>1.0</td>\n",
       "      <td>1.0</td>\n",
       "      <td>[900200000069462, 900200000071374, 90020000007...</td>\n",
       "      <td>[900200000069462, 900200000071374, 90020000007...</td>\n",
       "      <td>10.0</td>\n",
       "      <td>{'900200000069462': 'count = 42, coef = 42.0',...</td>\n",
       "      <td>{'900200000071374': 'count = 66, coef = 66.0',...</td>\n",
       "      <td>234.0</td>\n",
       "      <td>5.0</td>\n",
       "      <td>5.0</td>\n",
       "    </tr>\n",
       "    <tr>\n",
       "      <th>1</th>\n",
       "      <td>2022-03-26_12:00:00</td>\n",
       "      <td>2022-03-26_12:30:00</td>\n",
       "      <td>for graph analysis only</td>\n",
       "      <td>control1 session1</td>\n",
       "      <td>111.0</td>\n",
       "      <td>auto</td>\n",
       "      <td>True</td>\n",
       "      <td>[900200000069462, 900200000071374, 90020000007...</td>\n",
       "      <td>[(900200000072076, 1)]</td>\n",
       "      <td>[(900200000071374, 1), (900200000072076, 1)]</td>\n",
       "      <td>1.0</td>\n",
       "      <td>1.0</td>\n",
       "      <td>[900200000071374, 900200000072076]</td>\n",
       "      <td>[900200000071374, 900200000072076]</td>\n",
       "      <td>1.0</td>\n",
       "      <td>{'900200000069462': 'count = 0, coef = 0.0', '...</td>\n",
       "      <td>{'900200000071374': 'count = 1, coef = 1.0', '...</td>\n",
       "      <td>2.0</td>\n",
       "      <td>5.0</td>\n",
       "      <td>2.0</td>\n",
       "    </tr>\n",
       "    <tr>\n",
       "      <th>2</th>\n",
       "      <td>2022-03-26_12:10:00</td>\n",
       "      <td>2022-03-26_12:40:00</td>\n",
       "      <td>for graph analysis only</td>\n",
       "      <td>control1 session1</td>\n",
       "      <td>111.0</td>\n",
       "      <td>auto</td>\n",
       "      <td>True</td>\n",
       "      <td>[900200000069462, 900200000071374, 90020000007...</td>\n",
       "      <td>[(900200000072076, 1)]</td>\n",
       "      <td>[(900200000071374, 1), (900200000072076, 1)]</td>\n",
       "      <td>1.0</td>\n",
       "      <td>1.0</td>\n",
       "      <td>[900200000071374, 900200000072076]</td>\n",
       "      <td>[900200000071374, 900200000072076]</td>\n",
       "      <td>1.0</td>\n",
       "      <td>{'900200000069462': 'count = 0, coef = 0.0', '...</td>\n",
       "      <td>{'900200000071374': 'count = 1, coef = 1.0', '...</td>\n",
       "      <td>2.0</td>\n",
       "      <td>5.0</td>\n",
       "      <td>2.0</td>\n",
       "    </tr>\n",
       "    <tr>\n",
       "      <th>3</th>\n",
       "      <td>2022-03-26_12:20:00</td>\n",
       "      <td>2022-03-26_12:50:00</td>\n",
       "      <td>for graph analysis only</td>\n",
       "      <td>control1 session1</td>\n",
       "      <td>111.0</td>\n",
       "      <td>auto</td>\n",
       "      <td>True</td>\n",
       "      <td>[900200000069462, 900200000071374, 90020000007...</td>\n",
       "      <td>[(900200000072076, 0)]</td>\n",
       "      <td>[]</td>\n",
       "      <td>NaN</td>\n",
       "      <td>NaN</td>\n",
       "      <td>None</td>\n",
       "      <td>None</td>\n",
       "      <td>0.0</td>\n",
       "      <td>{'900200000069462': 'count = 0, coef = 0.0', '...</td>\n",
       "      <td>{'900200000071374': 'count = 0, coef = 0.0', '...</td>\n",
       "      <td>0.0</td>\n",
       "      <td>5.0</td>\n",
       "      <td>0.0</td>\n",
       "    </tr>\n",
       "    <tr>\n",
       "      <th>4</th>\n",
       "      <td>2022-03-26_12:30:00</td>\n",
       "      <td>2022-03-26_13:00:00</td>\n",
       "      <td>for graph analysis only</td>\n",
       "      <td>control1 session1</td>\n",
       "      <td>111.0</td>\n",
       "      <td>auto</td>\n",
       "      <td>True</td>\n",
       "      <td>[900200000069462, 900200000071374, 90020000007...</td>\n",
       "      <td>[(900200000072076, 0)]</td>\n",
       "      <td>[]</td>\n",
       "      <td>NaN</td>\n",
       "      <td>NaN</td>\n",
       "      <td>None</td>\n",
       "      <td>None</td>\n",
       "      <td>0.0</td>\n",
       "      <td>{'900200000069462': 'count = 0, coef = 0.0', '...</td>\n",
       "      <td>{'900200000071374': 'count = 0, coef = 0.0', '...</td>\n",
       "      <td>0.0</td>\n",
       "      <td>5.0</td>\n",
       "      <td>0.0</td>\n",
       "    </tr>\n",
       "  </tbody>\n",
       "</table>\n",
       "</div>"
      ],
      "text/plain": [
       "            Time start          Time finish               Stage name  \\\n",
       "0                 None                 None  for graph analysis only   \n",
       "1  2022-03-26_12:00:00  2022-03-26_12:30:00  for graph analysis only   \n",
       "2  2022-03-26_12:10:00  2022-03-26_12:40:00  for graph analysis only   \n",
       "3  2022-03-26_12:20:00  2022-03-26_12:50:00  for graph analysis only   \n",
       "4  2022-03-26_12:30:00  2022-03-26_13:00:00  for graph analysis only   \n",
       "\n",
       "           Name file  Median for graph analysis Input replacing value  \\\n",
       "0  control1 session1                      206.0                  auto   \n",
       "1  control1 session1                      111.0                  auto   \n",
       "2  control1 session1                      111.0                  auto   \n",
       "3  control1 session1                      111.0                  auto   \n",
       "4  control1 session1                      111.0                  auto   \n",
       "\n",
       "   Data available                               Unique tags (sample)  \\\n",
       "0            True  [900200000069462, 900200000071374, 90020000007...   \n",
       "1            True  [900200000069462, 900200000071374, 90020000007...   \n",
       "2            True  [900200000069462, 900200000071374, 90020000007...   \n",
       "3            True  [900200000069462, 900200000071374, 90020000007...   \n",
       "4            True  [900200000069462, 900200000071374, 90020000007...   \n",
       "\n",
       "            Edges from dem                                       Eccentricity  \\\n",
       "0  [(900200000072076, 45)]  [(900200000069462, 1), (900200000071374, 1), (...   \n",
       "1   [(900200000072076, 1)]       [(900200000071374, 1), (900200000072076, 1)]   \n",
       "2   [(900200000072076, 1)]       [(900200000071374, 1), (900200000072076, 1)]   \n",
       "3   [(900200000072076, 0)]                                                 []   \n",
       "4   [(900200000072076, 0)]                                                 []   \n",
       "\n",
       "   Diameter  Radius                                          Periphery  \\\n",
       "0       1.0     1.0  [900200000069462, 900200000071374, 90020000007...   \n",
       "1       1.0     1.0                 [900200000071374, 900200000072076]   \n",
       "2       1.0     1.0                 [900200000071374, 900200000072076]   \n",
       "3       NaN     NaN                                               None   \n",
       "4       NaN     NaN                                               None   \n",
       "\n",
       "                                              Center  Number of edges  \\\n",
       "0  [900200000069462, 900200000071374, 90020000007...             10.0   \n",
       "1                 [900200000071374, 900200000072076]              1.0   \n",
       "2                 [900200000071374, 900200000072076]              1.0   \n",
       "3                                               None              0.0   \n",
       "4                                               None              0.0   \n",
       "\n",
       "                                    Node credibility  \\\n",
       "0  {'900200000069462': 'count = 42, coef = 42.0',...   \n",
       "1  {'900200000069462': 'count = 0, coef = 0.0', '...   \n",
       "2  {'900200000069462': 'count = 0, coef = 0.0', '...   \n",
       "3  {'900200000069462': 'count = 0, coef = 0.0', '...   \n",
       "4  {'900200000069462': 'count = 0, coef = 0.0', '...   \n",
       "\n",
       "                               Node susceptibilities  Graph weight  \\\n",
       "0  {'900200000071374': 'count = 66, coef = 66.0',...         234.0   \n",
       "1  {'900200000071374': 'count = 1, coef = 1.0', '...           2.0   \n",
       "2  {'900200000071374': 'count = 1, coef = 1.0', '...           2.0   \n",
       "3  {'900200000071374': 'count = 0, coef = 0.0', '...           0.0   \n",
       "4  {'900200000071374': 'count = 0, coef = 0.0', '...           0.0   \n",
       "\n",
       "   Number of nodes  Number of connected nodes  \n",
       "0              5.0                        5.0  \n",
       "1              5.0                        2.0  \n",
       "2              5.0                        2.0  \n",
       "3              5.0                        0.0  \n",
       "4              5.0                        0.0  "
      ]
     },
     "execution_count": 32,
     "metadata": {},
     "output_type": "execute_result"
    }
   ],
   "source": [
    "pd.DataFrame(exp.log['graph_analysis']).head(5)"
   ]
  },
  {
   "cell_type": "markdown",
   "id": "81c70e87",
   "metadata": {},
   "source": [
    "## 3. Visits, intervals and their histograms <a class=\"anchor\" id=\"11\"></a>"
   ]
  },
  {
   "cell_type": "markdown",
   "id": "c4126628",
   "metadata": {},
   "source": [
    "Let's see the number of visits and intervisit intervals in different slices"
   ]
  },
  {
   "cell_type": "markdown",
   "id": "3a842c4e",
   "metadata": {},
   "source": [
    "### 3.1 Number of visits <a class=\"anchor\" id=\"12\"></a>"
   ]
  },
  {
   "cell_type": "code",
   "execution_count": 33,
   "id": "d2fe74e1",
   "metadata": {},
   "outputs": [
    {
     "data": {
      "image/png": "[encoded data removed]",
      "text/plain": [
       "<Figure size 360x360 with 1 Axes>"
      ]
     },
     "metadata": {
      "needs_background": "light"
     },
     "output_type": "display_data"
    }
   ],
   "source": [
    "names = {'Number of visits':['control1 session1', 'control2 session1']}\n",
    "\n",
    "exp = RBCA(input_path=r'tutorial_data\\input',\n",
    "           output_path=r'tutorial_data\\output', \n",
    "           name_animal_file='animals',\n",
    "           dict_names=names,\n",
    "           show_warnings = False,\n",
    "           corners=[1,2])\n",
    "\n",
    "res_number_visits = exp.eda_count(lick=False,\n",
    "                                  time=None,\n",
    "                                  verbose=True,\n",
    "                                  without_dem=False,\n",
    "                                  time_start='12:00:00',\n",
    "                                  time_finish='14:00:00',\n",
    "                                  intellicage='all_time',\n",
    "                                  density=True,\n",
    "                                  bins=12,\n",
    "                                  size=(5, 5),\n",
    "                                  condition=None,\n",
    "                                  parser_condition=None)"
   ]
  },
  {
   "cell_type": "code",
   "execution_count": 34,
   "id": "094740f0",
   "metadata": {},
   "outputs": [
    {
     "data": {
      "text/plain": [
       "{'Number of visits': Tag\n",
       " 900200000066708     2\n",
       " 900200000069385     5\n",
       " 900200000069462    10\n",
       " 900200000069548    16\n",
       " 900200000071374    32\n",
       " 900200000071624    20\n",
       " 900200000071676    22\n",
       " 900200000072028    18\n",
       " 900200000072076    13\n",
       " 900200000064857     0\n",
       " Name: VisitID, dtype: int64}"
      ]
     },
     "execution_count": 34,
     "metadata": {},
     "output_type": "execute_result"
    }
   ],
   "source": [
    "res_number_visits"
   ]
  },
  {
   "cell_type": "markdown",
   "id": "46f9826c",
   "metadata": {},
   "source": [
    "### 3.2 Intervisit intervals <a class=\"anchor\" id=\"13\"></a>"
   ]
  },
  {
   "cell_type": "code",
   "execution_count": 35,
   "id": "dfd51a7d",
   "metadata": {},
   "outputs": [
    {
     "data": {
      "image/png": "[encoded data removed]",
      "text/plain": [
       "<Figure size 360x360 with 1 Axes>"
      ]
     },
     "metadata": {
      "needs_background": "light"
     },
     "output_type": "display_data"
    }
   ],
   "source": [
    "res_intervisit_intervals = exp.eda_intervals(lick=False,\n",
    "                                             replacing_value='auto',\n",
    "                                             verbose=True,\n",
    "                                             verbose_detailed=False,\n",
    "                                             without_dem=False,\n",
    "                                             time=None,\n",
    "                                             time_start='12:00:00',\n",
    "                                             time_finish='14:00:00',\n",
    "                                             intellicage='all_time',\n",
    "                                             condition=None,\n",
    "                                             parser_condition=None,\n",
    "                                             density=True,\n",
    "                                             bins=12,\n",
    "                                             size=(5, 5),\n",
    "                                             hist_range=(0, 300),\n",
    "                                             hist_range_detailed=(0, 1000))"
   ]
  },
  {
   "cell_type": "code",
   "execution_count": 36,
   "id": "a6d43c3d",
   "metadata": {},
   "outputs": [
    {
     "data": {
      "text/plain": [
       "{'Number of visits': 900200000069462     217.0\n",
       " 900200000071374      55.0\n",
       " 900200000072076     389.5\n",
       " 900200000071624     150.0\n",
       " 900200000072028      47.0\n",
       " 900200000066708    5708.0\n",
       " 900200000071676      13.0\n",
       " 900200000069548      96.0\n",
       " 900200000069385      12.0\n",
       " 900200000064857    7200.0\n",
       " Name: Number of visits_intervals, dtype: float64}"
      ]
     },
     "execution_count": 36,
     "metadata": {},
     "output_type": "execute_result"
    }
   ],
   "source": [
    "res_intervisit_intervals"
   ]
  },
  {
   "cell_type": "markdown",
   "id": "602d66d7",
   "metadata": {},
   "source": [
    "## 4. Statistical tests <a class=\"anchor\" id=\"14\"></a>"
   ]
  },
  {
   "cell_type": "markdown",
   "id": "4ab85958",
   "metadata": {},
   "source": [
    "Any hypotheses and assumptions need to be checked, for this there are two tools in RBC: the permutation test and the Wilcoxon test\n",
    "\n"
   ]
  },
  {
   "cell_type": "markdown",
   "id": "5f6dd636",
   "metadata": {},
   "source": [
    "### 4.1 Permutation <a class=\"anchor\" id=\"15\"></a>"
   ]
  },
  {
   "cell_type": "markdown",
   "id": "03ef69de",
   "metadata": {},
   "source": [
    "Let's compare intervisits intervals between control1 and control2 of the session1 (independent samples)"
   ]
  },
  {
   "cell_type": "code",
   "execution_count": 51,
   "id": "203bceaa",
   "metadata": {},
   "outputs": [
    {
     "data": {
      "text/plain": [
       "(900200000069462       0.0\n",
       " 900200000071374       0.0\n",
       " 900200000072076       0.0\n",
       " 900200000071624       0.0\n",
       " 900200000072028       0.0\n",
       " 900200000066708    1414.5\n",
       " 900200000071676     270.0\n",
       " 900200000069548      92.0\n",
       " 900200000069385     310.5\n",
       " 900200000064857      30.5\n",
       " Name: permutation2_intervals, dtype: float64,\n",
       " 900200000069462    208.5\n",
       " 900200000071374    100.0\n",
       " 900200000072076    581.0\n",
       " 900200000071624    126.0\n",
       " 900200000072028    473.5\n",
       " 900200000066708      0.0\n",
       " 900200000071676      0.0\n",
       " 900200000069548      0.0\n",
       " 900200000069385      0.0\n",
       " 900200000064857      0.0\n",
       " Name: permutation1_intervals, dtype: float64,\n",
       " PermutationTestResult(statistic=34.75, pvalue=0.8090454437203664, null_distribution=array([ 34.75, -30.75, -30.75, ...,  30.75,  30.75, -34.75])))"
      ]
     },
     "execution_count": 51,
     "metadata": {},
     "output_type": "execute_result"
    }
   ],
   "source": [
    "names = {'permutation1':['control1 session1'],\n",
    "         'permutation2':['control2 session1']}\n",
    "\n",
    "exp = RBCA(input_path=r'tutorial_data\\input',\n",
    "           output_path=r'tutorial_data\\output', \n",
    "           name_animal_file='animals',\n",
    "           dict_names=names,\n",
    "           show_warnings = False,\n",
    "           corners=[1,2])\n",
    "\n",
    "res_intervisit_intervals = exp.eda_intervals(lick=False,\n",
    "                                             replacing_value='auto',\n",
    "                                             verbose=False,\n",
    "                                             verbose_detailed=False,\n",
    "                                             without_dem=False,\n",
    "                                             time=None,\n",
    "                                             time_start=None,\n",
    "                                             time_finish=None,\n",
    "                                             intellicage='all_time',\n",
    "                                             condition=None,\n",
    "                                             parser_condition=None,\n",
    "                                             density=True,\n",
    "                                             bins=12,\n",
    "                                             size=(5,5),\n",
    "                                             hist_range=(0,300),\n",
    "                                             hist_range_detailed=(0, 1000))\n",
    "\n",
    "y = pd.DataFrame(res_intervisit_intervals.values()).T.iloc[:,0].fillna(0)\n",
    "x = pd.DataFrame(res_intervisit_intervals.values()).T.iloc[:,1].fillna(0)\n",
    "\n",
    "def median_diff(x, y, axis):\n",
    "    return np.median(y,axis=axis)-np.median(x,axis=axis)\n",
    "\n",
    "exp.permutation(x,y,statistic=median_diff,title='Permutation test between control1 and control2 of the session1')"
   ]
  },
  {
   "cell_type": "markdown",
   "id": "b9ec7ba2",
   "metadata": {},
   "source": [
    "### 4.2 Wilcoxon <a class=\"anchor\" id=\"16\"></a>"
   ]
  },
  {
   "cell_type": "markdown",
   "id": "f63d88df",
   "metadata": {},
   "source": [
    "Now let's compare control1 + control2 with their different stages (session1 vs session2)"
   ]
  },
  {
   "cell_type": "code",
   "execution_count": 53,
   "id": "d3c61f32",
   "metadata": {},
   "outputs": [
    {
     "data": {
      "text/plain": [
       "(Tag\n",
       " 900200000064857     0\n",
       " 900200000066708     0\n",
       " 900200000069385     0\n",
       " 900200000069462     3\n",
       " 900200000069548     0\n",
       " 900200000071374    16\n",
       " 900200000071624    10\n",
       " 900200000071676     0\n",
       " 900200000072028     2\n",
       " 900200000072076     1\n",
       " Name: VisitID, dtype: int64,\n",
       " Tag\n",
       " 900200000064857     0\n",
       " 900200000066708     2\n",
       " 900200000069385     5\n",
       " 900200000069462    10\n",
       " 900200000069548    16\n",
       " 900200000071374    32\n",
       " 900200000071624    20\n",
       " 900200000071676    22\n",
       " 900200000072028    18\n",
       " 900200000072076    13\n",
       " Name: VisitID, dtype: int64,\n",
       " WilcoxonResult(statistic=0.5, pvalue=0.005793045428546872))"
      ]
     },
     "execution_count": 53,
     "metadata": {},
     "output_type": "execute_result"
    }
   ],
   "source": [
    "names = {'Number of visits1':['control1 session1', 'control2 session1'],\n",
    "         'Number of visits2':['control1 session2', 'control2 session2']}\n",
    "exp = RBCA(input_path=r'tutorial_data\\input',\n",
    "           output_path=r'tutorial_data\\output', \n",
    "           name_animal_file='animals',\n",
    "           dict_names=names,\n",
    "           show_warnings = False,\n",
    "           corners=[1,2])\n",
    "res_number_visits = exp.eda_count(lick=False,\n",
    "                                  time=None,\n",
    "                                  verbose=False,\n",
    "                                  without_dem=False,\n",
    "                                  time_start='12:00:00',\n",
    "                                  time_finish='14:00:00',\n",
    "                                  intellicage='all_time',\n",
    "                                  density=True,\n",
    "                                  bins=12,\n",
    "                                  size=(5,5),\n",
    "                                  condition=None,\n",
    "                                  parser_condition=None)\n",
    "\n",
    "y = pd.DataFrame(res_number_visits.values()).T.iloc[:,0]\n",
    "x = pd.DataFrame(res_number_visits.values()).T.iloc[:,1]\n",
    "exp.wilcoxon(x,y,title='Wilcoxon between session1 and session2')"
   ]
  },
  {
   "cell_type": "markdown",
   "id": "9b14127d",
   "metadata": {},
   "source": [
    "## 5. Timeline <a class=\"anchor\" id=\"17\"></a>"
   ]
  },
  {
   "cell_type": "markdown",
   "id": "69794088",
   "metadata": {},
   "source": [
    "It often happens that we want to observe some indicator like a time series, the 'timeline' method helps to do this. Now there are two indicators available out of the box: a giant connected component (the proportion of connected nodes in a graph) and the number of outgoing edges from the demonstrator node. At the same time, there are already other time series in the log that you can visualize yourself. In the future, ready-made solutions for visualizing time series will expand."
   ]
  },
  {
   "cell_type": "code",
   "execution_count": 7,
   "id": "9a836fef",
   "metadata": {},
   "outputs": [
    {
     "data": {
      "application/vnd.plotly.v1+json": {
       "config": {
        "plotlyServerURL": "https://plot.ly"
       },
       "data": [
        {
         "name": "Number of connected nodes",
         "type": "scatter",
         "x": [
          "12:30:00",
          "12:40:00",
          "12:50:00",
          "13:00:00",
          "13:10:00",
          "13:20:00",
          "13:30:00",
          "13:40:00",
          "13:50:00",
          "14:00:00",
          "14:10:00",
          "14:20:00",
          "14:30:00",
          "14:40:00",
          "14:50:00",
          "15:00:00",
          "15:10:00",
          "15:20:00",
          "15:30:00",
          "15:40:00",
          "15:50:00",
          "16:00:00",
          "16:10:00",
          "16:20:00",
          "16:30:00",
          "16:40:00",
          "16:50:00",
          "17:00:00",
          "17:10:00",
          "17:20:00",
          "17:30:00",
          "17:40:00",
          "17:50:00",
          "18:00:00",
          "18:10:00",
          "18:20:00",
          "18:30:00",
          "18:40:00",
          "18:50:00",
          "19:00:00",
          "19:10:00",
          "19:20:00",
          "19:30:00",
          "19:40:00",
          "19:50:00",
          "20:00:00"
         ],
         "y": [
          100,
          100,
          100,
          80,
          80,
          40,
          0,
          0,
          60,
          60,
          60,
          0,
          0,
          0,
          0,
          0,
          0,
          0,
          null,
          null,
          null,
          40,
          40,
          40,
          0,
          0,
          0,
          0,
          0,
          0,
          0,
          0,
          0,
          0,
          0,
          0,
          0,
          0,
          0,
          null,
          null,
          0,
          60,
          80,
          80,
          60
         ]
        }
       ],
       "layout": {
        "template": {
         "data": {
          "bar": [
           {
            "error_x": {
             "color": "#2a3f5f"
            },
            "error_y": {
             "color": "#2a3f5f"
            },
            "marker": {
             "line": {
              "color": "#E5ECF6",
              "width": 0.5
             },
             "pattern": {
              "fillmode": "overlay",
              "size": 10,
              "solidity": 0.2
             }
            },
            "type": "bar"
           }
          ],
          "barpolar": [
           {
            "marker": {
             "line": {
              "color": "#E5ECF6",
              "width": 0.5
             },
             "pattern": {
              "fillmode": "overlay",
              "size": 10,
              "solidity": 0.2
             }
            },
            "type": "barpolar"
           }
          ],
          "carpet": [
           {
            "aaxis": {
             "endlinecolor": "#2a3f5f",
             "gridcolor": "white",
             "linecolor": "white",
             "minorgridcolor": "white",
             "startlinecolor": "#2a3f5f"
            },
            "baxis": {
             "endlinecolor": "#2a3f5f",
             "gridcolor": "white",
             "linecolor": "white",
             "minorgridcolor": "white",
             "startlinecolor": "#2a3f5f"
            },
            "type": "carpet"
           }
          ],
          "choropleth": [
           {
            "colorbar": {
             "outlinewidth": 0,
             "ticks": ""
            },
            "type": "choropleth"
           }
          ],
          "contour": [
           {
            "colorbar": {
             "outlinewidth": 0,
             "ticks": ""
            },
            "colorscale": [
             [
              0,
              "#0d0887"
             ],
             [
              0.1111111111111111,
              "#46039f"
             ],
             [
              0.2222222222222222,
              "#7201a8"
             ],
             [
              0.3333333333333333,
              "#9c179e"
             ],
             [
              0.4444444444444444,
              "#bd3786"
             ],
             [
              0.5555555555555556,
              "#d8576b"
             ],
             [
              0.6666666666666666,
              "#ed7953"
             ],
             [
              0.7777777777777778,
              "#fb9f3a"
             ],
             [
              0.8888888888888888,
              "#fdca26"
             ],
             [
              1,
              "#f0f921"
             ]
            ],
            "type": "contour"
           }
          ],
          "contourcarpet": [
           {
            "colorbar": {
             "outlinewidth": 0,
             "ticks": ""
            },
            "type": "contourcarpet"
           }
          ],
          "heatmap": [
           {
            "colorbar": {
             "outlinewidth": 0,
             "ticks": ""
            },
            "colorscale": [
             [
              0,
              "#0d0887"
             ],
             [
              0.1111111111111111,
              "#46039f"
             ],
             [
              0.2222222222222222,
              "#7201a8"
             ],
             [
              0.3333333333333333,
              "#9c179e"
             ],
             [
              0.4444444444444444,
              "#bd3786"
             ],
             [
              0.5555555555555556,
              "#d8576b"
             ],
             [
              0.6666666666666666,
              "#ed7953"
             ],
             [
              0.7777777777777778,
              "#fb9f3a"
             ],
             [
              0.8888888888888888,
              "#fdca26"
             ],
             [
              1,
              "#f0f921"
             ]
            ],
            "type": "heatmap"
           }
          ],
          "heatmapgl": [
           {
            "colorbar": {
             "outlinewidth": 0,
             "ticks": ""
            },
            "colorscale": [
             [
              0,
              "#0d0887"
             ],
             [
              0.1111111111111111,
              "#46039f"
             ],
             [
              0.2222222222222222,
              "#7201a8"
             ],
             [
              0.3333333333333333,
              "#9c179e"
             ],
             [
              0.4444444444444444,
              "#bd3786"
             ],
             [
              0.5555555555555556,
              "#d8576b"
             ],
             [
              0.6666666666666666,
              "#ed7953"
             ],
             [
              0.7777777777777778,
              "#fb9f3a"
             ],
             [
              0.8888888888888888,
              "#fdca26"
             ],
             [
              1,
              "#f0f921"
             ]
            ],
            "type": "heatmapgl"
           }
          ],
          "histogram": [
           {
            "marker": {
             "pattern": {
              "fillmode": "overlay",
              "size": 10,
              "solidity": 0.2
             }
            },
            "type": "histogram"
           }
          ],
          "histogram2d": [
           {
            "colorbar": {
             "outlinewidth": 0,
             "ticks": ""
            },
            "colorscale": [
             [
              0,
              "#0d0887"
             ],
             [
              0.1111111111111111,
              "#46039f"
             ],
             [
              0.2222222222222222,
              "#7201a8"
             ],
             [
              0.3333333333333333,
              "#9c179e"
             ],
             [
              0.4444444444444444,
              "#bd3786"
             ],
             [
              0.5555555555555556,
              "#d8576b"
             ],
             [
              0.6666666666666666,
              "#ed7953"
             ],
             [
              0.7777777777777778,
              "#fb9f3a"
             ],
             [
              0.8888888888888888,
              "#fdca26"
             ],
             [
              1,
              "#f0f921"
             ]
            ],
            "type": "histogram2d"
           }
          ],
          "histogram2dcontour": [
           {
            "colorbar": {
             "outlinewidth": 0,
             "ticks": ""
            },
            "colorscale": [
             [
              0,
              "#0d0887"
             ],
             [
              0.1111111111111111,
              "#46039f"
             ],
             [
              0.2222222222222222,
              "#7201a8"
             ],
             [
              0.3333333333333333,
              "#9c179e"
             ],
             [
              0.4444444444444444,
              "#bd3786"
             ],
             [
              0.5555555555555556,
              "#d8576b"
             ],
             [
              0.6666666666666666,
              "#ed7953"
             ],
             [
              0.7777777777777778,
              "#fb9f3a"
             ],
             [
              0.8888888888888888,
              "#fdca26"
             ],
             [
              1,
              "#f0f921"
             ]
            ],
            "type": "histogram2dcontour"
           }
          ],
          "mesh3d": [
           {
            "colorbar": {
             "outlinewidth": 0,
             "ticks": ""
            },
            "type": "mesh3d"
           }
          ],
          "parcoords": [
           {
            "line": {
             "colorbar": {
              "outlinewidth": 0,
              "ticks": ""
             }
            },
            "type": "parcoords"
           }
          ],
          "pie": [
           {
            "automargin": true,
            "type": "pie"
           }
          ],
          "scatter": [
           {
            "marker": {
             "colorbar": {
              "outlinewidth": 0,
              "ticks": ""
             }
            },
            "type": "scatter"
           }
          ],
          "scatter3d": [
           {
            "line": {
             "colorbar": {
              "outlinewidth": 0,
              "ticks": ""
             }
            },
            "marker": {
             "colorbar": {
              "outlinewidth": 0,
              "ticks": ""
             }
            },
            "type": "scatter3d"
           }
          ],
          "scattercarpet": [
           {
            "marker": {
             "colorbar": {
              "outlinewidth": 0,
              "ticks": ""
             }
            },
            "type": "scattercarpet"
           }
          ],
          "scattergeo": [
           {
            "marker": {
             "colorbar": {
              "outlinewidth": 0,
              "ticks": ""
             }
            },
            "type": "scattergeo"
           }
          ],
          "scattergl": [
           {
            "marker": {
             "colorbar": {
              "outlinewidth": 0,
              "ticks": ""
             }
            },
            "type": "scattergl"
           }
          ],
          "scattermapbox": [
           {
            "marker": {
             "colorbar": {
              "outlinewidth": 0,
              "ticks": ""
             }
            },
            "type": "scattermapbox"
           }
          ],
          "scatterpolar": [
           {
            "marker": {
             "colorbar": {
              "outlinewidth": 0,
              "ticks": ""
             }
            },
            "type": "scatterpolar"
           }
          ],
          "scatterpolargl": [
           {
            "marker": {
             "colorbar": {
              "outlinewidth": 0,
              "ticks": ""
             }
            },
            "type": "scatterpolargl"
           }
          ],
          "scatterternary": [
           {
            "marker": {
             "colorbar": {
              "outlinewidth": 0,
              "ticks": ""
             }
            },
            "type": "scatterternary"
           }
          ],
          "surface": [
           {
            "colorbar": {
             "outlinewidth": 0,
             "ticks": ""
            },
            "colorscale": [
             [
              0,
              "#0d0887"
             ],
             [
              0.1111111111111111,
              "#46039f"
             ],
             [
              0.2222222222222222,
              "#7201a8"
             ],
             [
              0.3333333333333333,
              "#9c179e"
             ],
             [
              0.4444444444444444,
              "#bd3786"
             ],
             [
              0.5555555555555556,
              "#d8576b"
             ],
             [
              0.6666666666666666,
              "#ed7953"
             ],
             [
              0.7777777777777778,
              "#fb9f3a"
             ],
             [
              0.8888888888888888,
              "#fdca26"
             ],
             [
              1,
              "#f0f921"
             ]
            ],
            "type": "surface"
           }
          ],
          "table": [
           {
            "cells": {
             "fill": {
              "color": "#EBF0F8"
             },
             "line": {
              "color": "white"
             }
            },
            "header": {
             "fill": {
              "color": "#C8D4E3"
             },
             "line": {
              "color": "white"
             }
            },
            "type": "table"
           }
          ]
         },
         "layout": {
          "annotationdefaults": {
           "arrowcolor": "#2a3f5f",
           "arrowhead": 0,
           "arrowwidth": 1
          },
          "autotypenumbers": "strict",
          "coloraxis": {
           "colorbar": {
            "outlinewidth": 0,
            "ticks": ""
           }
          },
          "colorscale": {
           "diverging": [
            [
             0,
             "#8e0152"
            ],
            [
             0.1,
             "#c51b7d"
            ],
            [
             0.2,
             "#de77ae"
            ],
            [
             0.3,
             "#f1b6da"
            ],
            [
             0.4,
             "#fde0ef"
            ],
            [
             0.5,
             "#f7f7f7"
            ],
            [
             0.6,
             "#e6f5d0"
            ],
            [
             0.7,
             "#b8e186"
            ],
            [
             0.8,
             "#7fbc41"
            ],
            [
             0.9,
             "#4d9221"
            ],
            [
             1,
             "#276419"
            ]
           ],
           "sequential": [
            [
             0,
             "#0d0887"
            ],
            [
             0.1111111111111111,
             "#46039f"
            ],
            [
             0.2222222222222222,
             "#7201a8"
            ],
            [
             0.3333333333333333,
             "#9c179e"
            ],
            [
             0.4444444444444444,
             "#bd3786"
            ],
            [
             0.5555555555555556,
             "#d8576b"
            ],
            [
             0.6666666666666666,
             "#ed7953"
            ],
            [
             0.7777777777777778,
             "#fb9f3a"
            ],
            [
             0.8888888888888888,
             "#fdca26"
            ],
            [
             1,
             "#f0f921"
            ]
           ],
           "sequentialminus": [
            [
             0,
             "#0d0887"
            ],
            [
             0.1111111111111111,
             "#46039f"
            ],
            [
             0.2222222222222222,
             "#7201a8"
            ],
            [
             0.3333333333333333,
             "#9c179e"
            ],
            [
             0.4444444444444444,
             "#bd3786"
            ],
            [
             0.5555555555555556,
             "#d8576b"
            ],
            [
             0.6666666666666666,
             "#ed7953"
            ],
            [
             0.7777777777777778,
             "#fb9f3a"
            ],
            [
             0.8888888888888888,
             "#fdca26"
            ],
            [
             1,
             "#f0f921"
            ]
           ]
          },
          "colorway": [
           "#636efa",
           "#EF553B",
           "#00cc96",
           "#ab63fa",
           "#FFA15A",
           "#19d3f3",
           "#FF6692",
           "#B6E880",
           "#FF97FF",
           "#FECB52"
          ],
          "font": {
           "color": "#2a3f5f"
          },
          "geo": {
           "bgcolor": "white",
           "lakecolor": "white",
           "landcolor": "#E5ECF6",
           "showlakes": true,
           "showland": true,
           "subunitcolor": "white"
          },
          "hoverlabel": {
           "align": "left"
          },
          "hovermode": "closest",
          "mapbox": {
           "style": "light"
          },
          "paper_bgcolor": "white",
          "plot_bgcolor": "#E5ECF6",
          "polar": {
           "angularaxis": {
            "gridcolor": "white",
            "linecolor": "white",
            "ticks": ""
           },
           "bgcolor": "#E5ECF6",
           "radialaxis": {
            "gridcolor": "white",
            "linecolor": "white",
            "ticks": ""
           }
          },
          "scene": {
           "xaxis": {
            "backgroundcolor": "#E5ECF6",
            "gridcolor": "white",
            "gridwidth": 2,
            "linecolor": "white",
            "showbackground": true,
            "ticks": "",
            "zerolinecolor": "white"
           },
           "yaxis": {
            "backgroundcolor": "#E5ECF6",
            "gridcolor": "white",
            "gridwidth": 2,
            "linecolor": "white",
            "showbackground": true,
            "ticks": "",
            "zerolinecolor": "white"
           },
           "zaxis": {
            "backgroundcolor": "#E5ECF6",
            "gridcolor": "white",
            "gridwidth": 2,
            "linecolor": "white",
            "showbackground": true,
            "ticks": "",
            "zerolinecolor": "white"
           }
          },
          "shapedefaults": {
           "line": {
            "color": "#2a3f5f"
           }
          },
          "ternary": {
           "aaxis": {
            "gridcolor": "white",
            "linecolor": "white",
            "ticks": ""
           },
           "baxis": {
            "gridcolor": "white",
            "linecolor": "white",
            "ticks": ""
           },
           "bgcolor": "#E5ECF6",
           "caxis": {
            "gridcolor": "white",
            "linecolor": "white",
            "ticks": ""
           }
          },
          "title": {
           "x": 0.05
          },
          "xaxis": {
           "automargin": true,
           "gridcolor": "white",
           "linecolor": "white",
           "ticks": "",
           "title": {
            "standoff": 15
           },
           "zerolinecolor": "white",
           "zerolinewidth": 2
          },
          "yaxis": {
           "automargin": true,
           "gridcolor": "white",
           "linecolor": "white",
           "ticks": "",
           "title": {
            "standoff": 15
           },
           "zerolinecolor": "white",
           "zerolinewidth": 2
          }
         }
        },
        "title": {
         "text": "Metric: gcc. Stage: Tutorial. File: control1 session1"
        }
       }
      },
      "text/html": [
       "<div>                            <div id=\"0d22772c-9af1-470b-b8c0-094535f21504\" class=\"plotly-graph-div\" style=\"height:525px; width:100%;\"></div>            <script type=\"text/javascript\">                require([\"plotly\"], function(Plotly) {                    window.PLOTLYENV=window.PLOTLYENV || {};                                    if (document.getElementById(\"0d22772c-9af1-470b-b8c0-094535f21504\")) {                    Plotly.newPlot(                        \"0d22772c-9af1-470b-b8c0-094535f21504\",                        [{\"name\":\"Number of connected nodes\",\"x\":[\"12:30:00\",\"12:40:00\",\"12:50:00\",\"13:00:00\",\"13:10:00\",\"13:20:00\",\"13:30:00\",\"13:40:00\",\"13:50:00\",\"14:00:00\",\"14:10:00\",\"14:20:00\",\"14:30:00\",\"14:40:00\",\"14:50:00\",\"15:00:00\",\"15:10:00\",\"15:20:00\",\"15:30:00\",\"15:40:00\",\"15:50:00\",\"16:00:00\",\"16:10:00\",\"16:20:00\",\"16:30:00\",\"16:40:00\",\"16:50:00\",\"17:00:00\",\"17:10:00\",\"17:20:00\",\"17:30:00\",\"17:40:00\",\"17:50:00\",\"18:00:00\",\"18:10:00\",\"18:20:00\",\"18:30:00\",\"18:40:00\",\"18:50:00\",\"19:00:00\",\"19:10:00\",\"19:20:00\",\"19:30:00\",\"19:40:00\",\"19:50:00\",\"20:00:00\"],\"y\":[100.0,100.0,100.0,80.0,80.0,40.0,0.0,0.0,60.0,60.0,60.0,0.0,0.0,0.0,0.0,0.0,0.0,0.0,null,null,null,40.0,40.0,40.0,0.0,0.0,0.0,0.0,0.0,0.0,0.0,0.0,0.0,0.0,0.0,0.0,0.0,0.0,0.0,null,null,0.0,60.0,80.0,80.0,60.0],\"type\":\"scatter\"}],                        {\"title\":{\"text\":\"Metric: gcc. Stage: Tutorial. File: control1 session1\"},\"template\":{\"data\":{\"bar\":[{\"error_x\":{\"color\":\"#2a3f5f\"},\"error_y\":{\"color\":\"#2a3f5f\"},\"marker\":{\"line\":{\"color\":\"#E5ECF6\",\"width\":0.5},\"pattern\":{\"fillmode\":\"overlay\",\"size\":10,\"solidity\":0.2}},\"type\":\"bar\"}],\"barpolar\":[{\"marker\":{\"line\":{\"color\":\"#E5ECF6\",\"width\":0.5},\"pattern\":{\"fillmode\":\"overlay\",\"size\":10,\"solidity\":0.2}},\"type\":\"barpolar\"}],\"carpet\":[{\"aaxis\":{\"endlinecolor\":\"#2a3f5f\",\"gridcolor\":\"white\",\"linecolor\":\"white\",\"minorgridcolor\":\"white\",\"startlinecolor\":\"#2a3f5f\"},\"baxis\":{\"endlinecolor\":\"#2a3f5f\",\"gridcolor\":\"white\",\"linecolor\":\"white\",\"minorgridcolor\":\"white\",\"startlinecolor\":\"#2a3f5f\"},\"type\":\"carpet\"}],\"choropleth\":[{\"colorbar\":{\"outlinewidth\":0,\"ticks\":\"\"},\"type\":\"choropleth\"}],\"contour\":[{\"colorbar\":{\"outlinewidth\":0,\"ticks\":\"\"},\"colorscale\":[[0.0,\"#0d0887\"],[0.1111111111111111,\"#46039f\"],[0.2222222222222222,\"#7201a8\"],[0.3333333333333333,\"#9c179e\"],[0.4444444444444444,\"#bd3786\"],[0.5555555555555556,\"#d8576b\"],[0.6666666666666666,\"#ed7953\"],[0.7777777777777778,\"#fb9f3a\"],[0.8888888888888888,\"#fdca26\"],[1.0,\"#f0f921\"]],\"type\":\"contour\"}],\"contourcarpet\":[{\"colorbar\":{\"outlinewidth\":0,\"ticks\":\"\"},\"type\":\"contourcarpet\"}],\"heatmap\":[{\"colorbar\":{\"outlinewidth\":0,\"ticks\":\"\"},\"colorscale\":[[0.0,\"#0d0887\"],[0.1111111111111111,\"#46039f\"],[0.2222222222222222,\"#7201a8\"],[0.3333333333333333,\"#9c179e\"],[0.4444444444444444,\"#bd3786\"],[0.5555555555555556,\"#d8576b\"],[0.6666666666666666,\"#ed7953\"],[0.7777777777777778,\"#fb9f3a\"],[0.8888888888888888,\"#fdca26\"],[1.0,\"#f0f921\"]],\"type\":\"heatmap\"}],\"heatmapgl\":[{\"colorbar\":{\"outlinewidth\":0,\"ticks\":\"\"},\"colorscale\":[[0.0,\"#0d0887\"],[0.1111111111111111,\"#46039f\"],[0.2222222222222222,\"#7201a8\"],[0.3333333333333333,\"#9c179e\"],[0.4444444444444444,\"#bd3786\"],[0.5555555555555556,\"#d8576b\"],[0.6666666666666666,\"#ed7953\"],[0.7777777777777778,\"#fb9f3a\"],[0.8888888888888888,\"#fdca26\"],[1.0,\"#f0f921\"]],\"type\":\"heatmapgl\"}],\"histogram\":[{\"marker\":{\"pattern\":{\"fillmode\":\"overlay\",\"size\":10,\"solidity\":0.2}},\"type\":\"histogram\"}],\"histogram2d\":[{\"colorbar\":{\"outlinewidth\":0,\"ticks\":\"\"},\"colorscale\":[[0.0,\"#0d0887\"],[0.1111111111111111,\"#46039f\"],[0.2222222222222222,\"#7201a8\"],[0.3333333333333333,\"#9c179e\"],[0.4444444444444444,\"#bd3786\"],[0.5555555555555556,\"#d8576b\"],[0.6666666666666666,\"#ed7953\"],[0.7777777777777778,\"#fb9f3a\"],[0.8888888888888888,\"#fdca26\"],[1.0,\"#f0f921\"]],\"type\":\"histogram2d\"}],\"histogram2dcontour\":[{\"colorbar\":{\"outlinewidth\":0,\"ticks\":\"\"},\"colorscale\":[[0.0,\"#0d0887\"],[0.1111111111111111,\"#46039f\"],[0.2222222222222222,\"#7201a8\"],[0.3333333333333333,\"#9c179e\"],[0.4444444444444444,\"#bd3786\"],[0.5555555555555556,\"#d8576b\"],[0.6666666666666666,\"#ed7953\"],[0.7777777777777778,\"#fb9f3a\"],[0.8888888888888888,\"#fdca26\"],[1.0,\"#f0f921\"]],\"type\":\"histogram2dcontour\"}],\"mesh3d\":[{\"colorbar\":{\"outlinewidth\":0,\"ticks\":\"\"},\"type\":\"mesh3d\"}],\"parcoords\":[{\"line\":{\"colorbar\":{\"outlinewidth\":0,\"ticks\":\"\"}},\"type\":\"parcoords\"}],\"pie\":[{\"automargin\":true,\"type\":\"pie\"}],\"scatter\":[{\"marker\":{\"colorbar\":{\"outlinewidth\":0,\"ticks\":\"\"}},\"type\":\"scatter\"}],\"scatter3d\":[{\"line\":{\"colorbar\":{\"outlinewidth\":0,\"ticks\":\"\"}},\"marker\":{\"colorbar\":{\"outlinewidth\":0,\"ticks\":\"\"}},\"type\":\"scatter3d\"}],\"scattercarpet\":[{\"marker\":{\"colorbar\":{\"outlinewidth\":0,\"ticks\":\"\"}},\"type\":\"scattercarpet\"}],\"scattergeo\":[{\"marker\":{\"colorbar\":{\"outlinewidth\":0,\"ticks\":\"\"}},\"type\":\"scattergeo\"}],\"scattergl\":[{\"marker\":{\"colorbar\":{\"outlinewidth\":0,\"ticks\":\"\"}},\"type\":\"scattergl\"}],\"scattermapbox\":[{\"marker\":{\"colorbar\":{\"outlinewidth\":0,\"ticks\":\"\"}},\"type\":\"scattermapbox\"}],\"scatterpolar\":[{\"marker\":{\"colorbar\":{\"outlinewidth\":0,\"ticks\":\"\"}},\"type\":\"scatterpolar\"}],\"scatterpolargl\":[{\"marker\":{\"colorbar\":{\"outlinewidth\":0,\"ticks\":\"\"}},\"type\":\"scatterpolargl\"}],\"scatterternary\":[{\"marker\":{\"colorbar\":{\"outlinewidth\":0,\"ticks\":\"\"}},\"type\":\"scatterternary\"}],\"surface\":[{\"colorbar\":{\"outlinewidth\":0,\"ticks\":\"\"},\"colorscale\":[[0.0,\"#0d0887\"],[0.1111111111111111,\"#46039f\"],[0.2222222222222222,\"#7201a8\"],[0.3333333333333333,\"#9c179e\"],[0.4444444444444444,\"#bd3786\"],[0.5555555555555556,\"#d8576b\"],[0.6666666666666666,\"#ed7953\"],[0.7777777777777778,\"#fb9f3a\"],[0.8888888888888888,\"#fdca26\"],[1.0,\"#f0f921\"]],\"type\":\"surface\"}],\"table\":[{\"cells\":{\"fill\":{\"color\":\"#EBF0F8\"},\"line\":{\"color\":\"white\"}},\"header\":{\"fill\":{\"color\":\"#C8D4E3\"},\"line\":{\"color\":\"white\"}},\"type\":\"table\"}]},\"layout\":{\"annotationdefaults\":{\"arrowcolor\":\"#2a3f5f\",\"arrowhead\":0,\"arrowwidth\":1},\"autotypenumbers\":\"strict\",\"coloraxis\":{\"colorbar\":{\"outlinewidth\":0,\"ticks\":\"\"}},\"colorscale\":{\"diverging\":[[0,\"#8e0152\"],[0.1,\"#c51b7d\"],[0.2,\"#de77ae\"],[0.3,\"#f1b6da\"],[0.4,\"#fde0ef\"],[0.5,\"#f7f7f7\"],[0.6,\"#e6f5d0\"],[0.7,\"#b8e186\"],[0.8,\"#7fbc41\"],[0.9,\"#4d9221\"],[1,\"#276419\"]],\"sequential\":[[0.0,\"#0d0887\"],[0.1111111111111111,\"#46039f\"],[0.2222222222222222,\"#7201a8\"],[0.3333333333333333,\"#9c179e\"],[0.4444444444444444,\"#bd3786\"],[0.5555555555555556,\"#d8576b\"],[0.6666666666666666,\"#ed7953\"],[0.7777777777777778,\"#fb9f3a\"],[0.8888888888888888,\"#fdca26\"],[1.0,\"#f0f921\"]],\"sequentialminus\":[[0.0,\"#0d0887\"],[0.1111111111111111,\"#46039f\"],[0.2222222222222222,\"#7201a8\"],[0.3333333333333333,\"#9c179e\"],[0.4444444444444444,\"#bd3786\"],[0.5555555555555556,\"#d8576b\"],[0.6666666666666666,\"#ed7953\"],[0.7777777777777778,\"#fb9f3a\"],[0.8888888888888888,\"#fdca26\"],[1.0,\"#f0f921\"]]},\"colorway\":[\"#636efa\",\"#EF553B\",\"#00cc96\",\"#ab63fa\",\"#FFA15A\",\"#19d3f3\",\"#FF6692\",\"#B6E880\",\"#FF97FF\",\"#FECB52\"],\"font\":{\"color\":\"#2a3f5f\"},\"geo\":{\"bgcolor\":\"white\",\"lakecolor\":\"white\",\"landcolor\":\"#E5ECF6\",\"showlakes\":true,\"showland\":true,\"subunitcolor\":\"white\"},\"hoverlabel\":{\"align\":\"left\"},\"hovermode\":\"closest\",\"mapbox\":{\"style\":\"light\"},\"paper_bgcolor\":\"white\",\"plot_bgcolor\":\"#E5ECF6\",\"polar\":{\"angularaxis\":{\"gridcolor\":\"white\",\"linecolor\":\"white\",\"ticks\":\"\"},\"bgcolor\":\"#E5ECF6\",\"radialaxis\":{\"gridcolor\":\"white\",\"linecolor\":\"white\",\"ticks\":\"\"}},\"scene\":{\"xaxis\":{\"backgroundcolor\":\"#E5ECF6\",\"gridcolor\":\"white\",\"gridwidth\":2,\"linecolor\":\"white\",\"showbackground\":true,\"ticks\":\"\",\"zerolinecolor\":\"white\"},\"yaxis\":{\"backgroundcolor\":\"#E5ECF6\",\"gridcolor\":\"white\",\"gridwidth\":2,\"linecolor\":\"white\",\"showbackground\":true,\"ticks\":\"\",\"zerolinecolor\":\"white\"},\"zaxis\":{\"backgroundcolor\":\"#E5ECF6\",\"gridcolor\":\"white\",\"gridwidth\":2,\"linecolor\":\"white\",\"showbackground\":true,\"ticks\":\"\",\"zerolinecolor\":\"white\"}},\"shapedefaults\":{\"line\":{\"color\":\"#2a3f5f\"}},\"ternary\":{\"aaxis\":{\"gridcolor\":\"white\",\"linecolor\":\"white\",\"ticks\":\"\"},\"baxis\":{\"gridcolor\":\"white\",\"linecolor\":\"white\",\"ticks\":\"\"},\"bgcolor\":\"#E5ECF6\",\"caxis\":{\"gridcolor\":\"white\",\"linecolor\":\"white\",\"ticks\":\"\"}},\"title\":{\"x\":0.05},\"xaxis\":{\"automargin\":true,\"gridcolor\":\"white\",\"linecolor\":\"white\",\"ticks\":\"\",\"title\":{\"standoff\":15},\"zerolinecolor\":\"white\",\"zerolinewidth\":2},\"yaxis\":{\"automargin\":true,\"gridcolor\":\"white\",\"linecolor\":\"white\",\"ticks\":\"\",\"title\":{\"standoff\":15},\"zerolinecolor\":\"white\",\"zerolinewidth\":2}}}},                        {\"responsive\": true}                    ).then(function(){\n",
       "                            \n",
       "var gd = document.getElementById('0d22772c-9af1-470b-b8c0-094535f21504');\n",
       "var x = new MutationObserver(function (mutations, observer) {{\n",
       "        var display = window.getComputedStyle(gd).display;\n",
       "        if (!display || display === 'none') {{\n",
       "            console.log([gd, 'removed!']);\n",
       "            Plotly.purge(gd);\n",
       "            observer.disconnect();\n",
       "        }}\n",
       "}});\n",
       "\n",
       "// Listen for the removal of the full notebook cells\n",
       "var notebookContainer = gd.closest('#notebook-container');\n",
       "if (notebookContainer) {{\n",
       "    x.observe(notebookContainer, {childList: true});\n",
       "}}\n",
       "\n",
       "// Listen for the clearing of the current output cell\n",
       "var outputEl = gd.closest('.output');\n",
       "if (outputEl) {{\n",
       "    x.observe(outputEl, {childList: true});\n",
       "}}\n",
       "\n",
       "                        })                };                });            </script>        </div>"
      ]
     },
     "metadata": {},
     "output_type": "display_data"
    }
   ],
   "source": [
    "names = {'Tutorial':['control1 session1']}\n",
    "\n",
    "exp = RBCA(input_path=r'tutorial_data\\input',\n",
    "           output_path=r'tutorial_data\\output', \n",
    "           name_animal_file='animals',\n",
    "           dict_names=names,\n",
    "           show_warnings = False,\n",
    "           corners=[1,2])\n",
    "\n",
    "exp.timeline(metric='gcc', # Giant connected component\n",
    "             start='12:00:00',\n",
    "             finish='20:00:00',\n",
    "             slide=30,\n",
    "             step=10,\n",
    "             time_start_median='12:00:00',\n",
    "             time_finish_median='20:00:00',\n",
    "             lick=False,\n",
    "             time=None,\n",
    "             replacing_value='auto',\n",
    "             without_dem_base=False,\n",
    "             input_time_interval='auto',\n",
    "             delete_zero_in_intervals_for_median=True,\n",
    "             median_special_time=True,\n",
    "             dynamic=True,\n",
    "             intellicage='all_time',\n",
    "             parser_condition=None,\n",
    "             division_coef=1,\n",
    "             plotly_verbose=True)\n",
    "\n",
    "# See the tutorial_data\\output\\gcc-Tutorial-control1 session1.html"
   ]
  },
  {
   "cell_type": "code",
   "execution_count": 12,
   "id": "8a62d01a",
   "metadata": {},
   "outputs": [
    {
     "data": {
      "application/vnd.plotly.v1+json": {
       "config": {
        "plotlyServerURL": "https://plot.ly"
       },
       "data": [
        {
         "name": "Number of edges from 900200000072076",
         "type": "scatter",
         "x": [
          "12:30:00",
          "12:40:00",
          "12:50:00",
          "13:00:00",
          "13:10:00",
          "13:20:00",
          "13:30:00",
          "13:40:00",
          "13:50:00",
          "14:00:00",
          "14:10:00",
          "14:20:00",
          "14:30:00",
          "14:40:00",
          "14:50:00",
          "15:00:00",
          "15:10:00",
          "15:20:00",
          "15:30:00",
          "15:40:00",
          "15:50:00",
          "16:00:00"
         ],
         "y": [
          0.6,
          0.6,
          0.6,
          0.4,
          0.2,
          0.2,
          0,
          0,
          0.2,
          0.2,
          0.2,
          0,
          0,
          0,
          0,
          0,
          0,
          0,
          0,
          0,
          0,
          0
         ]
        }
       ],
       "layout": {
        "template": {
         "data": {
          "bar": [
           {
            "error_x": {
             "color": "#2a3f5f"
            },
            "error_y": {
             "color": "#2a3f5f"
            },
            "marker": {
             "line": {
              "color": "#E5ECF6",
              "width": 0.5
             },
             "pattern": {
              "fillmode": "overlay",
              "size": 10,
              "solidity": 0.2
             }
            },
            "type": "bar"
           }
          ],
          "barpolar": [
           {
            "marker": {
             "line": {
              "color": "#E5ECF6",
              "width": 0.5
             },
             "pattern": {
              "fillmode": "overlay",
              "size": 10,
              "solidity": 0.2
             }
            },
            "type": "barpolar"
           }
          ],
          "carpet": [
           {
            "aaxis": {
             "endlinecolor": "#2a3f5f",
             "gridcolor": "white",
             "linecolor": "white",
             "minorgridcolor": "white",
             "startlinecolor": "#2a3f5f"
            },
            "baxis": {
             "endlinecolor": "#2a3f5f",
             "gridcolor": "white",
             "linecolor": "white",
             "minorgridcolor": "white",
             "startlinecolor": "#2a3f5f"
            },
            "type": "carpet"
           }
          ],
          "choropleth": [
           {
            "colorbar": {
             "outlinewidth": 0,
             "ticks": ""
            },
            "type": "choropleth"
           }
          ],
          "contour": [
           {
            "colorbar": {
             "outlinewidth": 0,
             "ticks": ""
            },
            "colorscale": [
             [
              0,
              "#0d0887"
             ],
             [
              0.1111111111111111,
              "#46039f"
             ],
             [
              0.2222222222222222,
              "#7201a8"
             ],
             [
              0.3333333333333333,
              "#9c179e"
             ],
             [
              0.4444444444444444,
              "#bd3786"
             ],
             [
              0.5555555555555556,
              "#d8576b"
             ],
             [
              0.6666666666666666,
              "#ed7953"
             ],
             [
              0.7777777777777778,
              "#fb9f3a"
             ],
             [
              0.8888888888888888,
              "#fdca26"
             ],
             [
              1,
              "#f0f921"
             ]
            ],
            "type": "contour"
           }
          ],
          "contourcarpet": [
           {
            "colorbar": {
             "outlinewidth": 0,
             "ticks": ""
            },
            "type": "contourcarpet"
           }
          ],
          "heatmap": [
           {
            "colorbar": {
             "outlinewidth": 0,
             "ticks": ""
            },
            "colorscale": [
             [
              0,
              "#0d0887"
             ],
             [
              0.1111111111111111,
              "#46039f"
             ],
             [
              0.2222222222222222,
              "#7201a8"
             ],
             [
              0.3333333333333333,
              "#9c179e"
             ],
             [
              0.4444444444444444,
              "#bd3786"
             ],
             [
              0.5555555555555556,
              "#d8576b"
             ],
             [
              0.6666666666666666,
              "#ed7953"
             ],
             [
              0.7777777777777778,
              "#fb9f3a"
             ],
             [
              0.8888888888888888,
              "#fdca26"
             ],
             [
              1,
              "#f0f921"
             ]
            ],
            "type": "heatmap"
           }
          ],
          "heatmapgl": [
           {
            "colorbar": {
             "outlinewidth": 0,
             "ticks": ""
            },
            "colorscale": [
             [
              0,
              "#0d0887"
             ],
             [
              0.1111111111111111,
              "#46039f"
             ],
             [
              0.2222222222222222,
              "#7201a8"
             ],
             [
              0.3333333333333333,
              "#9c179e"
             ],
             [
              0.4444444444444444,
              "#bd3786"
             ],
             [
              0.5555555555555556,
              "#d8576b"
             ],
             [
              0.6666666666666666,
              "#ed7953"
             ],
             [
              0.7777777777777778,
              "#fb9f3a"
             ],
             [
              0.8888888888888888,
              "#fdca26"
             ],
             [
              1,
              "#f0f921"
             ]
            ],
            "type": "heatmapgl"
           }
          ],
          "histogram": [
           {
            "marker": {
             "pattern": {
              "fillmode": "overlay",
              "size": 10,
              "solidity": 0.2
             }
            },
            "type": "histogram"
           }
          ],
          "histogram2d": [
           {
            "colorbar": {
             "outlinewidth": 0,
             "ticks": ""
            },
            "colorscale": [
             [
              0,
              "#0d0887"
             ],
             [
              0.1111111111111111,
              "#46039f"
             ],
             [
              0.2222222222222222,
              "#7201a8"
             ],
             [
              0.3333333333333333,
              "#9c179e"
             ],
             [
              0.4444444444444444,
              "#bd3786"
             ],
             [
              0.5555555555555556,
              "#d8576b"
             ],
             [
              0.6666666666666666,
              "#ed7953"
             ],
             [
              0.7777777777777778,
              "#fb9f3a"
             ],
             [
              0.8888888888888888,
              "#fdca26"
             ],
             [
              1,
              "#f0f921"
             ]
            ],
            "type": "histogram2d"
           }
          ],
          "histogram2dcontour": [
           {
            "colorbar": {
             "outlinewidth": 0,
             "ticks": ""
            },
            "colorscale": [
             [
              0,
              "#0d0887"
             ],
             [
              0.1111111111111111,
              "#46039f"
             ],
             [
              0.2222222222222222,
              "#7201a8"
             ],
             [
              0.3333333333333333,
              "#9c179e"
             ],
             [
              0.4444444444444444,
              "#bd3786"
             ],
             [
              0.5555555555555556,
              "#d8576b"
             ],
             [
              0.6666666666666666,
              "#ed7953"
             ],
             [
              0.7777777777777778,
              "#fb9f3a"
             ],
             [
              0.8888888888888888,
              "#fdca26"
             ],
             [
              1,
              "#f0f921"
             ]
            ],
            "type": "histogram2dcontour"
           }
          ],
          "mesh3d": [
           {
            "colorbar": {
             "outlinewidth": 0,
             "ticks": ""
            },
            "type": "mesh3d"
           }
          ],
          "parcoords": [
           {
            "line": {
             "colorbar": {
              "outlinewidth": 0,
              "ticks": ""
             }
            },
            "type": "parcoords"
           }
          ],
          "pie": [
           {
            "automargin": true,
            "type": "pie"
           }
          ],
          "scatter": [
           {
            "marker": {
             "colorbar": {
              "outlinewidth": 0,
              "ticks": ""
             }
            },
            "type": "scatter"
           }
          ],
          "scatter3d": [
           {
            "line": {
             "colorbar": {
              "outlinewidth": 0,
              "ticks": ""
             }
            },
            "marker": {
             "colorbar": {
              "outlinewidth": 0,
              "ticks": ""
             }
            },
            "type": "scatter3d"
           }
          ],
          "scattercarpet": [
           {
            "marker": {
             "colorbar": {
              "outlinewidth": 0,
              "ticks": ""
             }
            },
            "type": "scattercarpet"
           }
          ],
          "scattergeo": [
           {
            "marker": {
             "colorbar": {
              "outlinewidth": 0,
              "ticks": ""
             }
            },
            "type": "scattergeo"
           }
          ],
          "scattergl": [
           {
            "marker": {
             "colorbar": {
              "outlinewidth": 0,
              "ticks": ""
             }
            },
            "type": "scattergl"
           }
          ],
          "scattermapbox": [
           {
            "marker": {
             "colorbar": {
              "outlinewidth": 0,
              "ticks": ""
             }
            },
            "type": "scattermapbox"
           }
          ],
          "scatterpolar": [
           {
            "marker": {
             "colorbar": {
              "outlinewidth": 0,
              "ticks": ""
             }
            },
            "type": "scatterpolar"
           }
          ],
          "scatterpolargl": [
           {
            "marker": {
             "colorbar": {
              "outlinewidth": 0,
              "ticks": ""
             }
            },
            "type": "scatterpolargl"
           }
          ],
          "scatterternary": [
           {
            "marker": {
             "colorbar": {
              "outlinewidth": 0,
              "ticks": ""
             }
            },
            "type": "scatterternary"
           }
          ],
          "surface": [
           {
            "colorbar": {
             "outlinewidth": 0,
             "ticks": ""
            },
            "colorscale": [
             [
              0,
              "#0d0887"
             ],
             [
              0.1111111111111111,
              "#46039f"
             ],
             [
              0.2222222222222222,
              "#7201a8"
             ],
             [
              0.3333333333333333,
              "#9c179e"
             ],
             [
              0.4444444444444444,
              "#bd3786"
             ],
             [
              0.5555555555555556,
              "#d8576b"
             ],
             [
              0.6666666666666666,
              "#ed7953"
             ],
             [
              0.7777777777777778,
              "#fb9f3a"
             ],
             [
              0.8888888888888888,
              "#fdca26"
             ],
             [
              1,
              "#f0f921"
             ]
            ],
            "type": "surface"
           }
          ],
          "table": [
           {
            "cells": {
             "fill": {
              "color": "#EBF0F8"
             },
             "line": {
              "color": "white"
             }
            },
            "header": {
             "fill": {
              "color": "#C8D4E3"
             },
             "line": {
              "color": "white"
             }
            },
            "type": "table"
           }
          ]
         },
         "layout": {
          "annotationdefaults": {
           "arrowcolor": "#2a3f5f",
           "arrowhead": 0,
           "arrowwidth": 1
          },
          "autotypenumbers": "strict",
          "coloraxis": {
           "colorbar": {
            "outlinewidth": 0,
            "ticks": ""
           }
          },
          "colorscale": {
           "diverging": [
            [
             0,
             "#8e0152"
            ],
            [
             0.1,
             "#c51b7d"
            ],
            [
             0.2,
             "#de77ae"
            ],
            [
             0.3,
             "#f1b6da"
            ],
            [
             0.4,
             "#fde0ef"
            ],
            [
             0.5,
             "#f7f7f7"
            ],
            [
             0.6,
             "#e6f5d0"
            ],
            [
             0.7,
             "#b8e186"
            ],
            [
             0.8,
             "#7fbc41"
            ],
            [
             0.9,
             "#4d9221"
            ],
            [
             1,
             "#276419"
            ]
           ],
           "sequential": [
            [
             0,
             "#0d0887"
            ],
            [
             0.1111111111111111,
             "#46039f"
            ],
            [
             0.2222222222222222,
             "#7201a8"
            ],
            [
             0.3333333333333333,
             "#9c179e"
            ],
            [
             0.4444444444444444,
             "#bd3786"
            ],
            [
             0.5555555555555556,
             "#d8576b"
            ],
            [
             0.6666666666666666,
             "#ed7953"
            ],
            [
             0.7777777777777778,
             "#fb9f3a"
            ],
            [
             0.8888888888888888,
             "#fdca26"
            ],
            [
             1,
             "#f0f921"
            ]
           ],
           "sequentialminus": [
            [
             0,
             "#0d0887"
            ],
            [
             0.1111111111111111,
             "#46039f"
            ],
            [
             0.2222222222222222,
             "#7201a8"
            ],
            [
             0.3333333333333333,
             "#9c179e"
            ],
            [
             0.4444444444444444,
             "#bd3786"
            ],
            [
             0.5555555555555556,
             "#d8576b"
            ],
            [
             0.6666666666666666,
             "#ed7953"
            ],
            [
             0.7777777777777778,
             "#fb9f3a"
            ],
            [
             0.8888888888888888,
             "#fdca26"
            ],
            [
             1,
             "#f0f921"
            ]
           ]
          },
          "colorway": [
           "#636efa",
           "#EF553B",
           "#00cc96",
           "#ab63fa",
           "#FFA15A",
           "#19d3f3",
           "#FF6692",
           "#B6E880",
           "#FF97FF",
           "#FECB52"
          ],
          "font": {
           "color": "#2a3f5f"
          },
          "geo": {
           "bgcolor": "white",
           "lakecolor": "white",
           "landcolor": "#E5ECF6",
           "showlakes": true,
           "showland": true,
           "subunitcolor": "white"
          },
          "hoverlabel": {
           "align": "left"
          },
          "hovermode": "closest",
          "mapbox": {
           "style": "light"
          },
          "paper_bgcolor": "white",
          "plot_bgcolor": "#E5ECF6",
          "polar": {
           "angularaxis": {
            "gridcolor": "white",
            "linecolor": "white",
            "ticks": ""
           },
           "bgcolor": "#E5ECF6",
           "radialaxis": {
            "gridcolor": "white",
            "linecolor": "white",
            "ticks": ""
           }
          },
          "scene": {
           "xaxis": {
            "backgroundcolor": "#E5ECF6",
            "gridcolor": "white",
            "gridwidth": 2,
            "linecolor": "white",
            "showbackground": true,
            "ticks": "",
            "zerolinecolor": "white"
           },
           "yaxis": {
            "backgroundcolor": "#E5ECF6",
            "gridcolor": "white",
            "gridwidth": 2,
            "linecolor": "white",
            "showbackground": true,
            "ticks": "",
            "zerolinecolor": "white"
           },
           "zaxis": {
            "backgroundcolor": "#E5ECF6",
            "gridcolor": "white",
            "gridwidth": 2,
            "linecolor": "white",
            "showbackground": true,
            "ticks": "",
            "zerolinecolor": "white"
           }
          },
          "shapedefaults": {
           "line": {
            "color": "#2a3f5f"
           }
          },
          "ternary": {
           "aaxis": {
            "gridcolor": "white",
            "linecolor": "white",
            "ticks": ""
           },
           "baxis": {
            "gridcolor": "white",
            "linecolor": "white",
            "ticks": ""
           },
           "bgcolor": "#E5ECF6",
           "caxis": {
            "gridcolor": "white",
            "linecolor": "white",
            "ticks": ""
           }
          },
          "title": {
           "x": 0.05
          },
          "xaxis": {
           "automargin": true,
           "gridcolor": "white",
           "linecolor": "white",
           "ticks": "",
           "title": {
            "standoff": 15
           },
           "zerolinecolor": "white",
           "zerolinewidth": 2
          },
          "yaxis": {
           "automargin": true,
           "gridcolor": "white",
           "linecolor": "white",
           "ticks": "",
           "title": {
            "standoff": 15
           },
           "zerolinecolor": "white",
           "zerolinewidth": 2
          }
         }
        },
        "title": {
         "text": "Metric: dem_power. Stage: Tutorial_LickContactTime_SUM. File: control1 session1"
        }
       }
      },
      "text/html": [
       "<div>                            <div id=\"328f6078-7593-4086-9e6b-0e7c880f8777\" class=\"plotly-graph-div\" style=\"height:525px; width:100%;\"></div>            <script type=\"text/javascript\">                require([\"plotly\"], function(Plotly) {                    window.PLOTLYENV=window.PLOTLYENV || {};                                    if (document.getElementById(\"328f6078-7593-4086-9e6b-0e7c880f8777\")) {                    Plotly.newPlot(                        \"328f6078-7593-4086-9e6b-0e7c880f8777\",                        [{\"name\":\"Number of edges from 900200000072076\",\"x\":[\"12:30:00\",\"12:40:00\",\"12:50:00\",\"13:00:00\",\"13:10:00\",\"13:20:00\",\"13:30:00\",\"13:40:00\",\"13:50:00\",\"14:00:00\",\"14:10:00\",\"14:20:00\",\"14:30:00\",\"14:40:00\",\"14:50:00\",\"15:00:00\",\"15:10:00\",\"15:20:00\",\"15:30:00\",\"15:40:00\",\"15:50:00\",\"16:00:00\"],\"y\":[0.6,0.6,0.6,0.4,0.2,0.2,0.0,0.0,0.2,0.2,0.2,0.0,0.0,0.0,0.0,0.0,0.0,0.0,0.0,0.0,0.0,0.0],\"type\":\"scatter\"}],                        {\"title\":{\"text\":\"Metric: dem_power. Stage: Tutorial_LickContactTime_SUM. File: control1 session1\"},\"template\":{\"data\":{\"bar\":[{\"error_x\":{\"color\":\"#2a3f5f\"},\"error_y\":{\"color\":\"#2a3f5f\"},\"marker\":{\"line\":{\"color\":\"#E5ECF6\",\"width\":0.5},\"pattern\":{\"fillmode\":\"overlay\",\"size\":10,\"solidity\":0.2}},\"type\":\"bar\"}],\"barpolar\":[{\"marker\":{\"line\":{\"color\":\"#E5ECF6\",\"width\":0.5},\"pattern\":{\"fillmode\":\"overlay\",\"size\":10,\"solidity\":0.2}},\"type\":\"barpolar\"}],\"carpet\":[{\"aaxis\":{\"endlinecolor\":\"#2a3f5f\",\"gridcolor\":\"white\",\"linecolor\":\"white\",\"minorgridcolor\":\"white\",\"startlinecolor\":\"#2a3f5f\"},\"baxis\":{\"endlinecolor\":\"#2a3f5f\",\"gridcolor\":\"white\",\"linecolor\":\"white\",\"minorgridcolor\":\"white\",\"startlinecolor\":\"#2a3f5f\"},\"type\":\"carpet\"}],\"choropleth\":[{\"colorbar\":{\"outlinewidth\":0,\"ticks\":\"\"},\"type\":\"choropleth\"}],\"contour\":[{\"colorbar\":{\"outlinewidth\":0,\"ticks\":\"\"},\"colorscale\":[[0.0,\"#0d0887\"],[0.1111111111111111,\"#46039f\"],[0.2222222222222222,\"#7201a8\"],[0.3333333333333333,\"#9c179e\"],[0.4444444444444444,\"#bd3786\"],[0.5555555555555556,\"#d8576b\"],[0.6666666666666666,\"#ed7953\"],[0.7777777777777778,\"#fb9f3a\"],[0.8888888888888888,\"#fdca26\"],[1.0,\"#f0f921\"]],\"type\":\"contour\"}],\"contourcarpet\":[{\"colorbar\":{\"outlinewidth\":0,\"ticks\":\"\"},\"type\":\"contourcarpet\"}],\"heatmap\":[{\"colorbar\":{\"outlinewidth\":0,\"ticks\":\"\"},\"colorscale\":[[0.0,\"#0d0887\"],[0.1111111111111111,\"#46039f\"],[0.2222222222222222,\"#7201a8\"],[0.3333333333333333,\"#9c179e\"],[0.4444444444444444,\"#bd3786\"],[0.5555555555555556,\"#d8576b\"],[0.6666666666666666,\"#ed7953\"],[0.7777777777777778,\"#fb9f3a\"],[0.8888888888888888,\"#fdca26\"],[1.0,\"#f0f921\"]],\"type\":\"heatmap\"}],\"heatmapgl\":[{\"colorbar\":{\"outlinewidth\":0,\"ticks\":\"\"},\"colorscale\":[[0.0,\"#0d0887\"],[0.1111111111111111,\"#46039f\"],[0.2222222222222222,\"#7201a8\"],[0.3333333333333333,\"#9c179e\"],[0.4444444444444444,\"#bd3786\"],[0.5555555555555556,\"#d8576b\"],[0.6666666666666666,\"#ed7953\"],[0.7777777777777778,\"#fb9f3a\"],[0.8888888888888888,\"#fdca26\"],[1.0,\"#f0f921\"]],\"type\":\"heatmapgl\"}],\"histogram\":[{\"marker\":{\"pattern\":{\"fillmode\":\"overlay\",\"size\":10,\"solidity\":0.2}},\"type\":\"histogram\"}],\"histogram2d\":[{\"colorbar\":{\"outlinewidth\":0,\"ticks\":\"\"},\"colorscale\":[[0.0,\"#0d0887\"],[0.1111111111111111,\"#46039f\"],[0.2222222222222222,\"#7201a8\"],[0.3333333333333333,\"#9c179e\"],[0.4444444444444444,\"#bd3786\"],[0.5555555555555556,\"#d8576b\"],[0.6666666666666666,\"#ed7953\"],[0.7777777777777778,\"#fb9f3a\"],[0.8888888888888888,\"#fdca26\"],[1.0,\"#f0f921\"]],\"type\":\"histogram2d\"}],\"histogram2dcontour\":[{\"colorbar\":{\"outlinewidth\":0,\"ticks\":\"\"},\"colorscale\":[[0.0,\"#0d0887\"],[0.1111111111111111,\"#46039f\"],[0.2222222222222222,\"#7201a8\"],[0.3333333333333333,\"#9c179e\"],[0.4444444444444444,\"#bd3786\"],[0.5555555555555556,\"#d8576b\"],[0.6666666666666666,\"#ed7953\"],[0.7777777777777778,\"#fb9f3a\"],[0.8888888888888888,\"#fdca26\"],[1.0,\"#f0f921\"]],\"type\":\"histogram2dcontour\"}],\"mesh3d\":[{\"colorbar\":{\"outlinewidth\":0,\"ticks\":\"\"},\"type\":\"mesh3d\"}],\"parcoords\":[{\"line\":{\"colorbar\":{\"outlinewidth\":0,\"ticks\":\"\"}},\"type\":\"parcoords\"}],\"pie\":[{\"automargin\":true,\"type\":\"pie\"}],\"scatter\":[{\"marker\":{\"colorbar\":{\"outlinewidth\":0,\"ticks\":\"\"}},\"type\":\"scatter\"}],\"scatter3d\":[{\"line\":{\"colorbar\":{\"outlinewidth\":0,\"ticks\":\"\"}},\"marker\":{\"colorbar\":{\"outlinewidth\":0,\"ticks\":\"\"}},\"type\":\"scatter3d\"}],\"scattercarpet\":[{\"marker\":{\"colorbar\":{\"outlinewidth\":0,\"ticks\":\"\"}},\"type\":\"scattercarpet\"}],\"scattergeo\":[{\"marker\":{\"colorbar\":{\"outlinewidth\":0,\"ticks\":\"\"}},\"type\":\"scattergeo\"}],\"scattergl\":[{\"marker\":{\"colorbar\":{\"outlinewidth\":0,\"ticks\":\"\"}},\"type\":\"scattergl\"}],\"scattermapbox\":[{\"marker\":{\"colorbar\":{\"outlinewidth\":0,\"ticks\":\"\"}},\"type\":\"scattermapbox\"}],\"scatterpolar\":[{\"marker\":{\"colorbar\":{\"outlinewidth\":0,\"ticks\":\"\"}},\"type\":\"scatterpolar\"}],\"scatterpolargl\":[{\"marker\":{\"colorbar\":{\"outlinewidth\":0,\"ticks\":\"\"}},\"type\":\"scatterpolargl\"}],\"scatterternary\":[{\"marker\":{\"colorbar\":{\"outlinewidth\":0,\"ticks\":\"\"}},\"type\":\"scatterternary\"}],\"surface\":[{\"colorbar\":{\"outlinewidth\":0,\"ticks\":\"\"},\"colorscale\":[[0.0,\"#0d0887\"],[0.1111111111111111,\"#46039f\"],[0.2222222222222222,\"#7201a8\"],[0.3333333333333333,\"#9c179e\"],[0.4444444444444444,\"#bd3786\"],[0.5555555555555556,\"#d8576b\"],[0.6666666666666666,\"#ed7953\"],[0.7777777777777778,\"#fb9f3a\"],[0.8888888888888888,\"#fdca26\"],[1.0,\"#f0f921\"]],\"type\":\"surface\"}],\"table\":[{\"cells\":{\"fill\":{\"color\":\"#EBF0F8\"},\"line\":{\"color\":\"white\"}},\"header\":{\"fill\":{\"color\":\"#C8D4E3\"},\"line\":{\"color\":\"white\"}},\"type\":\"table\"}]},\"layout\":{\"annotationdefaults\":{\"arrowcolor\":\"#2a3f5f\",\"arrowhead\":0,\"arrowwidth\":1},\"autotypenumbers\":\"strict\",\"coloraxis\":{\"colorbar\":{\"outlinewidth\":0,\"ticks\":\"\"}},\"colorscale\":{\"diverging\":[[0,\"#8e0152\"],[0.1,\"#c51b7d\"],[0.2,\"#de77ae\"],[0.3,\"#f1b6da\"],[0.4,\"#fde0ef\"],[0.5,\"#f7f7f7\"],[0.6,\"#e6f5d0\"],[0.7,\"#b8e186\"],[0.8,\"#7fbc41\"],[0.9,\"#4d9221\"],[1,\"#276419\"]],\"sequential\":[[0.0,\"#0d0887\"],[0.1111111111111111,\"#46039f\"],[0.2222222222222222,\"#7201a8\"],[0.3333333333333333,\"#9c179e\"],[0.4444444444444444,\"#bd3786\"],[0.5555555555555556,\"#d8576b\"],[0.6666666666666666,\"#ed7953\"],[0.7777777777777778,\"#fb9f3a\"],[0.8888888888888888,\"#fdca26\"],[1.0,\"#f0f921\"]],\"sequentialminus\":[[0.0,\"#0d0887\"],[0.1111111111111111,\"#46039f\"],[0.2222222222222222,\"#7201a8\"],[0.3333333333333333,\"#9c179e\"],[0.4444444444444444,\"#bd3786\"],[0.5555555555555556,\"#d8576b\"],[0.6666666666666666,\"#ed7953\"],[0.7777777777777778,\"#fb9f3a\"],[0.8888888888888888,\"#fdca26\"],[1.0,\"#f0f921\"]]},\"colorway\":[\"#636efa\",\"#EF553B\",\"#00cc96\",\"#ab63fa\",\"#FFA15A\",\"#19d3f3\",\"#FF6692\",\"#B6E880\",\"#FF97FF\",\"#FECB52\"],\"font\":{\"color\":\"#2a3f5f\"},\"geo\":{\"bgcolor\":\"white\",\"lakecolor\":\"white\",\"landcolor\":\"#E5ECF6\",\"showlakes\":true,\"showland\":true,\"subunitcolor\":\"white\"},\"hoverlabel\":{\"align\":\"left\"},\"hovermode\":\"closest\",\"mapbox\":{\"style\":\"light\"},\"paper_bgcolor\":\"white\",\"plot_bgcolor\":\"#E5ECF6\",\"polar\":{\"angularaxis\":{\"gridcolor\":\"white\",\"linecolor\":\"white\",\"ticks\":\"\"},\"bgcolor\":\"#E5ECF6\",\"radialaxis\":{\"gridcolor\":\"white\",\"linecolor\":\"white\",\"ticks\":\"\"}},\"scene\":{\"xaxis\":{\"backgroundcolor\":\"#E5ECF6\",\"gridcolor\":\"white\",\"gridwidth\":2,\"linecolor\":\"white\",\"showbackground\":true,\"ticks\":\"\",\"zerolinecolor\":\"white\"},\"yaxis\":{\"backgroundcolor\":\"#E5ECF6\",\"gridcolor\":\"white\",\"gridwidth\":2,\"linecolor\":\"white\",\"showbackground\":true,\"ticks\":\"\",\"zerolinecolor\":\"white\"},\"zaxis\":{\"backgroundcolor\":\"#E5ECF6\",\"gridcolor\":\"white\",\"gridwidth\":2,\"linecolor\":\"white\",\"showbackground\":true,\"ticks\":\"\",\"zerolinecolor\":\"white\"}},\"shapedefaults\":{\"line\":{\"color\":\"#2a3f5f\"}},\"ternary\":{\"aaxis\":{\"gridcolor\":\"white\",\"linecolor\":\"white\",\"ticks\":\"\"},\"baxis\":{\"gridcolor\":\"white\",\"linecolor\":\"white\",\"ticks\":\"\"},\"bgcolor\":\"#E5ECF6\",\"caxis\":{\"gridcolor\":\"white\",\"linecolor\":\"white\",\"ticks\":\"\"}},\"title\":{\"x\":0.05},\"xaxis\":{\"automargin\":true,\"gridcolor\":\"white\",\"linecolor\":\"white\",\"ticks\":\"\",\"title\":{\"standoff\":15},\"zerolinecolor\":\"white\",\"zerolinewidth\":2},\"yaxis\":{\"automargin\":true,\"gridcolor\":\"white\",\"linecolor\":\"white\",\"ticks\":\"\",\"title\":{\"standoff\":15},\"zerolinecolor\":\"white\",\"zerolinewidth\":2}}}},                        {\"responsive\": true}                    ).then(function(){\n",
       "                            \n",
       "var gd = document.getElementById('328f6078-7593-4086-9e6b-0e7c880f8777');\n",
       "var x = new MutationObserver(function (mutations, observer) {{\n",
       "        var display = window.getComputedStyle(gd).display;\n",
       "        if (!display || display === 'none') {{\n",
       "            console.log([gd, 'removed!']);\n",
       "            Plotly.purge(gd);\n",
       "            observer.disconnect();\n",
       "        }}\n",
       "}});\n",
       "\n",
       "// Listen for the removal of the full notebook cells\n",
       "var notebookContainer = gd.closest('#notebook-container');\n",
       "if (notebookContainer) {{\n",
       "    x.observe(notebookContainer, {childList: true});\n",
       "}}\n",
       "\n",
       "// Listen for the clearing of the current output cell\n",
       "var outputEl = gd.closest('.output');\n",
       "if (outputEl) {{\n",
       "    x.observe(outputEl, {childList: true});\n",
       "}}\n",
       "\n",
       "                        })                };                });            </script>        </div>"
      ]
     },
     "metadata": {},
     "output_type": "display_data"
    }
   ],
   "source": [
    "exp.timeline(metric='dem_power', # Normalized (by the number of nodes) number of outgoing edges from the demonstrator node \n",
    "             start='12:00:00',\n",
    "             finish='16:00:00',\n",
    "             slide=30,\n",
    "             step=10,\n",
    "             time_start_median='12:00:00',\n",
    "             time_finish_median='16:00:00',\n",
    "             lick=False,\n",
    "             time=None,\n",
    "             replacing_value='auto',\n",
    "             without_dem_base=False,\n",
    "             input_time_interval='auto',\n",
    "             delete_zero_in_intervals_for_median=True,\n",
    "             median_special_time=True,\n",
    "             dynamic=True,\n",
    "             intellicage='all_time',\n",
    "             parser_condition=None,\n",
    "             division_coef=1,\n",
    "             plotly_verbose=True)\n",
    "\n",
    "# See the tutorial_data\\output\\dem_power-Tutorial-control1 session1.html"
   ]
  },
  {
   "cell_type": "code",
   "execution_count": 9,
   "id": "28ca0be0",
   "metadata": {},
   "outputs": [
    {
     "data": {
      "application/vnd.plotly.v1+json": {
       "config": {
        "plotlyServerURL": "https://plot.ly"
       },
       "data": [
        {
         "alignmentgroup": "True",
         "base": [
          "2022-03-26T15:10:23.969000",
          "2022-03-26T15:47:41.054000",
          "2022-03-26T15:59:30.561000",
          "2022-03-26T15:11:54.195000",
          "2022-03-26T14:32:10.599000",
          "2022-03-26T14:30:59.912000",
          "2022-03-26T15:35:06.147000",
          "2022-03-26T15:34:19.834000",
          "2022-03-26T15:35:21.579000",
          "2022-03-26T15:35:29.674000",
          "2022-03-26T15:40:15.529000",
          "2022-03-26T15:40:36.534000",
          "2022-03-26T15:40:48.709000",
          "2022-03-26T14:33:11.649000",
          "2022-03-26T15:37:01.583000",
          "2022-03-26T12:07:49.624000",
          "2022-03-26T12:05:17.169000",
          "2022-03-26T14:59:57.259000",
          "2022-03-26T15:04:32.060000",
          "2022-03-26T15:00:20.916000",
          "2022-03-26T12:01:11.737000",
          "2022-03-26T12:02:34",
          "2022-03-26T12:03:22.263000",
          "2022-03-26T12:03:29.850000",
          "2022-03-26T12:01:29.831000",
          "2022-03-26T12:04:50.613000",
          "2022-03-26T12:10:18.158000",
          "2022-03-26T12:12:15.907000",
          "2022-03-26T12:12:24.591000",
          "2022-03-26T14:58:56.935000",
          "2022-03-26T15:02:44.227000",
          "2022-03-26T12:12:58.186000",
          "2022-03-26T12:13:29.597000",
          "2022-03-26T12:17:07.020000",
          "2022-03-26T15:12:31.466000",
          "2022-03-26T12:46:15.244000",
          "2022-03-26T15:09:23.544000",
          "2022-03-26T15:05:20.589000",
          "2022-03-26T14:58:29.311000",
          "2022-03-26T12:01:11.737000",
          "2022-03-26T12:01:11.737000",
          "2022-03-26T14:36:42.458000",
          "2022-03-26T14:40:26.791000",
          "2022-03-26T12:37:06.661000",
          "2022-03-26T12:19:54.877000",
          "2022-03-26T12:13:02.636000",
          "2022-03-26T14:35:26.566000",
          "2022-03-26T12:38:46.276000",
          "2022-03-26T14:45:10.375000",
          "2022-03-26T14:52:48.610000",
          "2022-03-26T14:52:09.013000",
          "2022-03-26T12:11:31.871000",
          "2022-03-26T12:10:00.916000",
          "2022-03-26T12:11:46.429000",
          "2022-03-26T14:38:07.105000",
          "2022-03-26T12:10:52.254000",
          "2022-03-26T12:10:37.410000",
          "2022-03-26T14:38:40.408000",
          "2022-03-26T12:11:21.638000"
         ],
         "hovertemplate": "Visit=<br>Start=%{base}<br>Finish=%{x}<br>Tag_Corner=%{y}<extra></extra>",
         "legendgroup": "",
         "marker": {
          "color": "black",
          "opacity": 1
         },
         "name": "",
         "offsetgroup": "",
         "orientation": "h",
         "showlegend": false,
         "textposition": "auto",
         "type": "bar",
         "x": [
          18609,
          24569,
          11024,
          15089,
          23812,
          63991,
          13801,
          43472,
          652,
          19338,
          964,
          3789,
          11866,
          20243,
          74065,
          27016,
          126371,
          20666,
          22777,
          4780,
          3345,
          47583,
          4099,
          6030,
          1336,
          320365,
          95388,
          885,
          15065,
          14566,
          14285,
          14612,
          694,
          1333,
          82890,
          1007,
          9193,
          60973,
          18825,
          0,
          0,
          42268,
          39073,
          21184,
          710651,
          31255,
          58612,
          337442,
          387423,
          25426,
          22042,
          14512,
          25418,
          11564,
          18824,
          28277,
          11449,
          75831,
          3279
         ],
         "xaxis": "x",
         "y": [
          "900200000072028 (2)",
          "900200000072028 (2)",
          "900200000072028 (2)",
          "900200000072028 (1)",
          "900200000071624 (2)",
          "900200000071624 (2)",
          "900200000071624 (2)",
          "900200000071624 (2)",
          "900200000071624 (2)",
          "900200000071624 (2)",
          "900200000071624 (2)",
          "900200000071624 (2)",
          "900200000071624 (2)",
          "900200000071624 (1)",
          "900200000071624 (1)",
          "900200000071624 (1)",
          "900200000071624 (1)",
          "900200000071374 (2)",
          "900200000071374 (2)",
          "900200000071374 (2)",
          "900200000071374 (2)",
          "900200000071374 (2)",
          "900200000071374 (2)",
          "900200000071374 (2)",
          "900200000071374 (2)",
          "900200000071374 (2)",
          "900200000071374 (2)",
          "900200000071374 (2)",
          "900200000071374 (2)",
          "900200000071374 (1)",
          "900200000071374 (1)",
          "900200000071374 (1)",
          "900200000071374 (1)",
          "900200000071374 (1)",
          "900200000071374 (1)",
          "900200000071374 (1)",
          "900200000071374 (1)",
          "900200000071374 (1)",
          "900200000071374 (1)",
          "900200000069462 (2)",
          "900200000069462 (1)",
          "900200000072076 (dem)  (2)",
          "900200000072076 (dem)  (2)",
          "900200000072076 (dem)  (2)",
          "900200000072076 (dem)  (2)",
          "900200000072076 (dem)  (2)",
          "900200000072076 (dem)  (2)",
          "900200000072076 (dem)  (2)",
          "900200000072076 (dem)  (2)",
          "900200000072076 (dem)  (2)",
          "900200000072076 (dem)  (2)",
          "900200000072076 (dem)  (1)",
          "900200000072076 (dem)  (1)",
          "900200000072076 (dem)  (1)",
          "900200000072076 (dem)  (1)",
          "900200000072076 (dem)  (1)",
          "900200000072076 (dem)  (1)",
          "900200000072076 (dem)  (1)",
          "900200000072076 (dem)  (1)"
         ],
         "yaxis": "y"
        }
       ],
       "layout": {
        "barmode": "overlay",
        "legend": {
         "title": {
          "text": "Visit"
         },
         "tracegroupgap": 0
        },
        "template": {
         "data": {
          "bar": [
           {
            "error_x": {
             "color": "#2a3f5f"
            },
            "error_y": {
             "color": "#2a3f5f"
            },
            "marker": {
             "line": {
              "color": "white",
              "width": 0.5
             },
             "pattern": {
              "fillmode": "overlay",
              "size": 10,
              "solidity": 0.2
             }
            },
            "type": "bar"
           }
          ],
          "barpolar": [
           {
            "marker": {
             "line": {
              "color": "white",
              "width": 0.5
             },
             "pattern": {
              "fillmode": "overlay",
              "size": 10,
              "solidity": 0.2
             }
            },
            "type": "barpolar"
           }
          ],
          "carpet": [
           {
            "aaxis": {
             "endlinecolor": "#2a3f5f",
             "gridcolor": "#C8D4E3",
             "linecolor": "#C8D4E3",
             "minorgridcolor": "#C8D4E3",
             "startlinecolor": "#2a3f5f"
            },
            "baxis": {
             "endlinecolor": "#2a3f5f",
             "gridcolor": "#C8D4E3",
             "linecolor": "#C8D4E3",
             "minorgridcolor": "#C8D4E3",
             "startlinecolor": "#2a3f5f"
            },
            "type": "carpet"
           }
          ],
          "choropleth": [
           {
            "colorbar": {
             "outlinewidth": 0,
             "ticks": ""
            },
            "type": "choropleth"
           }
          ],
          "contour": [
           {
            "colorbar": {
             "outlinewidth": 0,
             "ticks": ""
            },
            "colorscale": [
             [
              0,
              "#0d0887"
             ],
             [
              0.1111111111111111,
              "#46039f"
             ],
             [
              0.2222222222222222,
              "#7201a8"
             ],
             [
              0.3333333333333333,
              "#9c179e"
             ],
             [
              0.4444444444444444,
              "#bd3786"
             ],
             [
              0.5555555555555556,
              "#d8576b"
             ],
             [
              0.6666666666666666,
              "#ed7953"
             ],
             [
              0.7777777777777778,
              "#fb9f3a"
             ],
             [
              0.8888888888888888,
              "#fdca26"
             ],
             [
              1,
              "#f0f921"
             ]
            ],
            "type": "contour"
           }
          ],
          "contourcarpet": [
           {
            "colorbar": {
             "outlinewidth": 0,
             "ticks": ""
            },
            "type": "contourcarpet"
           }
          ],
          "heatmap": [
           {
            "colorbar": {
             "outlinewidth": 0,
             "ticks": ""
            },
            "colorscale": [
             [
              0,
              "#0d0887"
             ],
             [
              0.1111111111111111,
              "#46039f"
             ],
             [
              0.2222222222222222,
              "#7201a8"
             ],
             [
              0.3333333333333333,
              "#9c179e"
             ],
             [
              0.4444444444444444,
              "#bd3786"
             ],
             [
              0.5555555555555556,
              "#d8576b"
             ],
             [
              0.6666666666666666,
              "#ed7953"
             ],
             [
              0.7777777777777778,
              "#fb9f3a"
             ],
             [
              0.8888888888888888,
              "#fdca26"
             ],
             [
              1,
              "#f0f921"
             ]
            ],
            "type": "heatmap"
           }
          ],
          "heatmapgl": [
           {
            "colorbar": {
             "outlinewidth": 0,
             "ticks": ""
            },
            "colorscale": [
             [
              0,
              "#0d0887"
             ],
             [
              0.1111111111111111,
              "#46039f"
             ],
             [
              0.2222222222222222,
              "#7201a8"
             ],
             [
              0.3333333333333333,
              "#9c179e"
             ],
             [
              0.4444444444444444,
              "#bd3786"
             ],
             [
              0.5555555555555556,
              "#d8576b"
             ],
             [
              0.6666666666666666,
              "#ed7953"
             ],
             [
              0.7777777777777778,
              "#fb9f3a"
             ],
             [
              0.8888888888888888,
              "#fdca26"
             ],
             [
              1,
              "#f0f921"
             ]
            ],
            "type": "heatmapgl"
           }
          ],
          "histogram": [
           {
            "marker": {
             "pattern": {
              "fillmode": "overlay",
              "size": 10,
              "solidity": 0.2
             }
            },
            "type": "histogram"
           }
          ],
          "histogram2d": [
           {
            "colorbar": {
             "outlinewidth": 0,
             "ticks": ""
            },
            "colorscale": [
             [
              0,
              "#0d0887"
             ],
             [
              0.1111111111111111,
              "#46039f"
             ],
             [
              0.2222222222222222,
              "#7201a8"
             ],
             [
              0.3333333333333333,
              "#9c179e"
             ],
             [
              0.4444444444444444,
              "#bd3786"
             ],
             [
              0.5555555555555556,
              "#d8576b"
             ],
             [
              0.6666666666666666,
              "#ed7953"
             ],
             [
              0.7777777777777778,
              "#fb9f3a"
             ],
             [
              0.8888888888888888,
              "#fdca26"
             ],
             [
              1,
              "#f0f921"
             ]
            ],
            "type": "histogram2d"
           }
          ],
          "histogram2dcontour": [
           {
            "colorbar": {
             "outlinewidth": 0,
             "ticks": ""
            },
            "colorscale": [
             [
              0,
              "#0d0887"
             ],
             [
              0.1111111111111111,
              "#46039f"
             ],
             [
              0.2222222222222222,
              "#7201a8"
             ],
             [
              0.3333333333333333,
              "#9c179e"
             ],
             [
              0.4444444444444444,
              "#bd3786"
             ],
             [
              0.5555555555555556,
              "#d8576b"
             ],
             [
              0.6666666666666666,
              "#ed7953"
             ],
             [
              0.7777777777777778,
              "#fb9f3a"
             ],
             [
              0.8888888888888888,
              "#fdca26"
             ],
             [
              1,
              "#f0f921"
             ]
            ],
            "type": "histogram2dcontour"
           }
          ],
          "mesh3d": [
           {
            "colorbar": {
             "outlinewidth": 0,
             "ticks": ""
            },
            "type": "mesh3d"
           }
          ],
          "parcoords": [
           {
            "line": {
             "colorbar": {
              "outlinewidth": 0,
              "ticks": ""
             }
            },
            "type": "parcoords"
           }
          ],
          "pie": [
           {
            "automargin": true,
            "type": "pie"
           }
          ],
          "scatter": [
           {
            "marker": {
             "colorbar": {
              "outlinewidth": 0,
              "ticks": ""
             }
            },
            "type": "scatter"
           }
          ],
          "scatter3d": [
           {
            "line": {
             "colorbar": {
              "outlinewidth": 0,
              "ticks": ""
             }
            },
            "marker": {
             "colorbar": {
              "outlinewidth": 0,
              "ticks": ""
             }
            },
            "type": "scatter3d"
           }
          ],
          "scattercarpet": [
           {
            "marker": {
             "colorbar": {
              "outlinewidth": 0,
              "ticks": ""
             }
            },
            "type": "scattercarpet"
           }
          ],
          "scattergeo": [
           {
            "marker": {
             "colorbar": {
              "outlinewidth": 0,
              "ticks": ""
             }
            },
            "type": "scattergeo"
           }
          ],
          "scattergl": [
           {
            "marker": {
             "colorbar": {
              "outlinewidth": 0,
              "ticks": ""
             }
            },
            "type": "scattergl"
           }
          ],
          "scattermapbox": [
           {
            "marker": {
             "colorbar": {
              "outlinewidth": 0,
              "ticks": ""
             }
            },
            "type": "scattermapbox"
           }
          ],
          "scatterpolar": [
           {
            "marker": {
             "colorbar": {
              "outlinewidth": 0,
              "ticks": ""
             }
            },
            "type": "scatterpolar"
           }
          ],
          "scatterpolargl": [
           {
            "marker": {
             "colorbar": {
              "outlinewidth": 0,
              "ticks": ""
             }
            },
            "type": "scatterpolargl"
           }
          ],
          "scatterternary": [
           {
            "marker": {
             "colorbar": {
              "outlinewidth": 0,
              "ticks": ""
             }
            },
            "type": "scatterternary"
           }
          ],
          "surface": [
           {
            "colorbar": {
             "outlinewidth": 0,
             "ticks": ""
            },
            "colorscale": [
             [
              0,
              "#0d0887"
             ],
             [
              0.1111111111111111,
              "#46039f"
             ],
             [
              0.2222222222222222,
              "#7201a8"
             ],
             [
              0.3333333333333333,
              "#9c179e"
             ],
             [
              0.4444444444444444,
              "#bd3786"
             ],
             [
              0.5555555555555556,
              "#d8576b"
             ],
             [
              0.6666666666666666,
              "#ed7953"
             ],
             [
              0.7777777777777778,
              "#fb9f3a"
             ],
             [
              0.8888888888888888,
              "#fdca26"
             ],
             [
              1,
              "#f0f921"
             ]
            ],
            "type": "surface"
           }
          ],
          "table": [
           {
            "cells": {
             "fill": {
              "color": "#EBF0F8"
             },
             "line": {
              "color": "white"
             }
            },
            "header": {
             "fill": {
              "color": "#C8D4E3"
             },
             "line": {
              "color": "white"
             }
            },
            "type": "table"
           }
          ]
         },
         "layout": {
          "annotationdefaults": {
           "arrowcolor": "#2a3f5f",
           "arrowhead": 0,
           "arrowwidth": 1
          },
          "autotypenumbers": "strict",
          "coloraxis": {
           "colorbar": {
            "outlinewidth": 0,
            "ticks": ""
           }
          },
          "colorscale": {
           "diverging": [
            [
             0,
             "#8e0152"
            ],
            [
             0.1,
             "#c51b7d"
            ],
            [
             0.2,
             "#de77ae"
            ],
            [
             0.3,
             "#f1b6da"
            ],
            [
             0.4,
             "#fde0ef"
            ],
            [
             0.5,
             "#f7f7f7"
            ],
            [
             0.6,
             "#e6f5d0"
            ],
            [
             0.7,
             "#b8e186"
            ],
            [
             0.8,
             "#7fbc41"
            ],
            [
             0.9,
             "#4d9221"
            ],
            [
             1,
             "#276419"
            ]
           ],
           "sequential": [
            [
             0,
             "#0d0887"
            ],
            [
             0.1111111111111111,
             "#46039f"
            ],
            [
             0.2222222222222222,
             "#7201a8"
            ],
            [
             0.3333333333333333,
             "#9c179e"
            ],
            [
             0.4444444444444444,
             "#bd3786"
            ],
            [
             0.5555555555555556,
             "#d8576b"
            ],
            [
             0.6666666666666666,
             "#ed7953"
            ],
            [
             0.7777777777777778,
             "#fb9f3a"
            ],
            [
             0.8888888888888888,
             "#fdca26"
            ],
            [
             1,
             "#f0f921"
            ]
           ],
           "sequentialminus": [
            [
             0,
             "#0d0887"
            ],
            [
             0.1111111111111111,
             "#46039f"
            ],
            [
             0.2222222222222222,
             "#7201a8"
            ],
            [
             0.3333333333333333,
             "#9c179e"
            ],
            [
             0.4444444444444444,
             "#bd3786"
            ],
            [
             0.5555555555555556,
             "#d8576b"
            ],
            [
             0.6666666666666666,
             "#ed7953"
            ],
            [
             0.7777777777777778,
             "#fb9f3a"
            ],
            [
             0.8888888888888888,
             "#fdca26"
            ],
            [
             1,
             "#f0f921"
            ]
           ]
          },
          "colorway": [
           "#636efa",
           "#EF553B",
           "#00cc96",
           "#ab63fa",
           "#FFA15A",
           "#19d3f3",
           "#FF6692",
           "#B6E880",
           "#FF97FF",
           "#FECB52"
          ],
          "font": {
           "color": "#2a3f5f"
          },
          "geo": {
           "bgcolor": "white",
           "lakecolor": "white",
           "landcolor": "white",
           "showlakes": true,
           "showland": true,
           "subunitcolor": "#C8D4E3"
          },
          "hoverlabel": {
           "align": "left"
          },
          "hovermode": "closest",
          "mapbox": {
           "style": "light"
          },
          "paper_bgcolor": "white",
          "plot_bgcolor": "white",
          "polar": {
           "angularaxis": {
            "gridcolor": "#EBF0F8",
            "linecolor": "#EBF0F8",
            "ticks": ""
           },
           "bgcolor": "white",
           "radialaxis": {
            "gridcolor": "#EBF0F8",
            "linecolor": "#EBF0F8",
            "ticks": ""
           }
          },
          "scene": {
           "xaxis": {
            "backgroundcolor": "white",
            "gridcolor": "#DFE8F3",
            "gridwidth": 2,
            "linecolor": "#EBF0F8",
            "showbackground": true,
            "ticks": "",
            "zerolinecolor": "#EBF0F8"
           },
           "yaxis": {
            "backgroundcolor": "white",
            "gridcolor": "#DFE8F3",
            "gridwidth": 2,
            "linecolor": "#EBF0F8",
            "showbackground": true,
            "ticks": "",
            "zerolinecolor": "#EBF0F8"
           },
           "zaxis": {
            "backgroundcolor": "white",
            "gridcolor": "#DFE8F3",
            "gridwidth": 2,
            "linecolor": "#EBF0F8",
            "showbackground": true,
            "ticks": "",
            "zerolinecolor": "#EBF0F8"
           }
          },
          "shapedefaults": {
           "line": {
            "color": "#2a3f5f"
           }
          },
          "ternary": {
           "aaxis": {
            "gridcolor": "#DFE8F3",
            "linecolor": "#A2B1C6",
            "ticks": ""
           },
           "baxis": {
            "gridcolor": "#DFE8F3",
            "linecolor": "#A2B1C6",
            "ticks": ""
           },
           "bgcolor": "white",
           "caxis": {
            "gridcolor": "#DFE8F3",
            "linecolor": "#A2B1C6",
            "ticks": ""
           }
          },
          "title": {
           "x": 0.05
          },
          "xaxis": {
           "automargin": true,
           "gridcolor": "#EBF0F8",
           "linecolor": "#EBF0F8",
           "ticks": "",
           "title": {
            "standoff": 15
           },
           "zerolinecolor": "#EBF0F8",
           "zerolinewidth": 2
          },
          "yaxis": {
           "automargin": true,
           "gridcolor": "#EBF0F8",
           "linecolor": "#EBF0F8",
           "ticks": "",
           "title": {
            "standoff": 15
           },
           "zerolinecolor": "#EBF0F8",
           "zerolinewidth": 2
          }
         }
        },
        "title": {
         "text": "Metric: visit_density. Stage: Tutorial. File: control1 session1"
        },
        "xaxis": {
         "anchor": "y",
         "domain": [
          0,
          1
         ],
         "fixedrange": true,
         "range": [
          "2022-03-26T12:00:00",
          "2022-03-26T16:00:00"
         ],
         "showgrid": false,
         "tickformat": "%H:%M",
         "type": "date"
        },
        "yaxis": {
         "anchor": "x",
         "domain": [
          0,
          1
         ],
         "showgrid": false,
         "title": {
          "text": "Tag_Corner"
         }
        }
       }
      },
      "text/html": [
       "<div>                            <div id=\"6739909a-0a64-493b-bec5-f7f7414b6e40\" class=\"plotly-graph-div\" style=\"height:525px; width:100%;\"></div>            <script type=\"text/javascript\">                require([\"plotly\"], function(Plotly) {                    window.PLOTLYENV=window.PLOTLYENV || {};                                    if (document.getElementById(\"6739909a-0a64-493b-bec5-f7f7414b6e40\")) {                    Plotly.newPlot(                        \"6739909a-0a64-493b-bec5-f7f7414b6e40\",                        [{\"alignmentgroup\":\"True\",\"base\":[\"2022-03-26T15:10:23.969000\",\"2022-03-26T15:47:41.054000\",\"2022-03-26T15:59:30.561000\",\"2022-03-26T15:11:54.195000\",\"2022-03-26T14:32:10.599000\",\"2022-03-26T14:30:59.912000\",\"2022-03-26T15:35:06.147000\",\"2022-03-26T15:34:19.834000\",\"2022-03-26T15:35:21.579000\",\"2022-03-26T15:35:29.674000\",\"2022-03-26T15:40:15.529000\",\"2022-03-26T15:40:36.534000\",\"2022-03-26T15:40:48.709000\",\"2022-03-26T14:33:11.649000\",\"2022-03-26T15:37:01.583000\",\"2022-03-26T12:07:49.624000\",\"2022-03-26T12:05:17.169000\",\"2022-03-26T14:59:57.259000\",\"2022-03-26T15:04:32.060000\",\"2022-03-26T15:00:20.916000\",\"2022-03-26T12:01:11.737000\",\"2022-03-26T12:02:34\",\"2022-03-26T12:03:22.263000\",\"2022-03-26T12:03:29.850000\",\"2022-03-26T12:01:29.831000\",\"2022-03-26T12:04:50.613000\",\"2022-03-26T12:10:18.158000\",\"2022-03-26T12:12:15.907000\",\"2022-03-26T12:12:24.591000\",\"2022-03-26T14:58:56.935000\",\"2022-03-26T15:02:44.227000\",\"2022-03-26T12:12:58.186000\",\"2022-03-26T12:13:29.597000\",\"2022-03-26T12:17:07.020000\",\"2022-03-26T15:12:31.466000\",\"2022-03-26T12:46:15.244000\",\"2022-03-26T15:09:23.544000\",\"2022-03-26T15:05:20.589000\",\"2022-03-26T14:58:29.311000\",\"2022-03-26T12:01:11.737000\",\"2022-03-26T12:01:11.737000\",\"2022-03-26T14:36:42.458000\",\"2022-03-26T14:40:26.791000\",\"2022-03-26T12:37:06.661000\",\"2022-03-26T12:19:54.877000\",\"2022-03-26T12:13:02.636000\",\"2022-03-26T14:35:26.566000\",\"2022-03-26T12:38:46.276000\",\"2022-03-26T14:45:10.375000\",\"2022-03-26T14:52:48.610000\",\"2022-03-26T14:52:09.013000\",\"2022-03-26T12:11:31.871000\",\"2022-03-26T12:10:00.916000\",\"2022-03-26T12:11:46.429000\",\"2022-03-26T14:38:07.105000\",\"2022-03-26T12:10:52.254000\",\"2022-03-26T12:10:37.410000\",\"2022-03-26T14:38:40.408000\",\"2022-03-26T12:11:21.638000\"],\"hovertemplate\":\"Visit=<br>Start=%{base}<br>Finish=%{x}<br>Tag_Corner=%{y}<extra></extra>\",\"legendgroup\":\"\",\"marker\":{\"color\":\"black\",\"opacity\":1},\"name\":\"\",\"offsetgroup\":\"\",\"orientation\":\"h\",\"showlegend\":false,\"textposition\":\"auto\",\"x\":[18609.0,24569.0,11024.0,15089.0,23812.0,63991.0,13801.0,43472.0,652.0,19338.0,964.0,3789.0,11866.0,20243.0,74065.0,27016.0,126371.0,20666.0,22777.0,4780.0,3345.0,47583.0,4099.0,6030.0,1336.0,320365.0,95388.0,885.0,15065.0,14566.0,14285.0,14612.0,694.0,1333.0,82890.0,1007.0,9193.0,60973.0,18825.0,0.0,0.0,42268.0,39073.0,21184.0,710651.0,31255.0,58612.0,337442.0,387423.0,25426.0,22042.0,14512.0,25418.0,11564.0,18824.0,28277.0,11449.0,75831.0,3279.0],\"xaxis\":\"x\",\"y\":[\"900200000072028 (2)\",\"900200000072028 (2)\",\"900200000072028 (2)\",\"900200000072028 (1)\",\"900200000071624 (2)\",\"900200000071624 (2)\",\"900200000071624 (2)\",\"900200000071624 (2)\",\"900200000071624 (2)\",\"900200000071624 (2)\",\"900200000071624 (2)\",\"900200000071624 (2)\",\"900200000071624 (2)\",\"900200000071624 (1)\",\"900200000071624 (1)\",\"900200000071624 (1)\",\"900200000071624 (1)\",\"900200000071374 (2)\",\"900200000071374 (2)\",\"900200000071374 (2)\",\"900200000071374 (2)\",\"900200000071374 (2)\",\"900200000071374 (2)\",\"900200000071374 (2)\",\"900200000071374 (2)\",\"900200000071374 (2)\",\"900200000071374 (2)\",\"900200000071374 (2)\",\"900200000071374 (2)\",\"900200000071374 (1)\",\"900200000071374 (1)\",\"900200000071374 (1)\",\"900200000071374 (1)\",\"900200000071374 (1)\",\"900200000071374 (1)\",\"900200000071374 (1)\",\"900200000071374 (1)\",\"900200000071374 (1)\",\"900200000071374 (1)\",\"900200000069462 (2)\",\"900200000069462 (1)\",\"900200000072076 (dem)  (2)\",\"900200000072076 (dem)  (2)\",\"900200000072076 (dem)  (2)\",\"900200000072076 (dem)  (2)\",\"900200000072076 (dem)  (2)\",\"900200000072076 (dem)  (2)\",\"900200000072076 (dem)  (2)\",\"900200000072076 (dem)  (2)\",\"900200000072076 (dem)  (2)\",\"900200000072076 (dem)  (2)\",\"900200000072076 (dem)  (1)\",\"900200000072076 (dem)  (1)\",\"900200000072076 (dem)  (1)\",\"900200000072076 (dem)  (1)\",\"900200000072076 (dem)  (1)\",\"900200000072076 (dem)  (1)\",\"900200000072076 (dem)  (1)\",\"900200000072076 (dem)  (1)\"],\"yaxis\":\"y\",\"type\":\"bar\"}],                        {\"template\":{\"data\":{\"barpolar\":[{\"marker\":{\"line\":{\"color\":\"white\",\"width\":0.5},\"pattern\":{\"fillmode\":\"overlay\",\"size\":10,\"solidity\":0.2}},\"type\":\"barpolar\"}],\"bar\":[{\"error_x\":{\"color\":\"#2a3f5f\"},\"error_y\":{\"color\":\"#2a3f5f\"},\"marker\":{\"line\":{\"color\":\"white\",\"width\":0.5},\"pattern\":{\"fillmode\":\"overlay\",\"size\":10,\"solidity\":0.2}},\"type\":\"bar\"}],\"carpet\":[{\"aaxis\":{\"endlinecolor\":\"#2a3f5f\",\"gridcolor\":\"#C8D4E3\",\"linecolor\":\"#C8D4E3\",\"minorgridcolor\":\"#C8D4E3\",\"startlinecolor\":\"#2a3f5f\"},\"baxis\":{\"endlinecolor\":\"#2a3f5f\",\"gridcolor\":\"#C8D4E3\",\"linecolor\":\"#C8D4E3\",\"minorgridcolor\":\"#C8D4E3\",\"startlinecolor\":\"#2a3f5f\"},\"type\":\"carpet\"}],\"choropleth\":[{\"colorbar\":{\"outlinewidth\":0,\"ticks\":\"\"},\"type\":\"choropleth\"}],\"contourcarpet\":[{\"colorbar\":{\"outlinewidth\":0,\"ticks\":\"\"},\"type\":\"contourcarpet\"}],\"contour\":[{\"colorbar\":{\"outlinewidth\":0,\"ticks\":\"\"},\"colorscale\":[[0.0,\"#0d0887\"],[0.1111111111111111,\"#46039f\"],[0.2222222222222222,\"#7201a8\"],[0.3333333333333333,\"#9c179e\"],[0.4444444444444444,\"#bd3786\"],[0.5555555555555556,\"#d8576b\"],[0.6666666666666666,\"#ed7953\"],[0.7777777777777778,\"#fb9f3a\"],[0.8888888888888888,\"#fdca26\"],[1.0,\"#f0f921\"]],\"type\":\"contour\"}],\"heatmapgl\":[{\"colorbar\":{\"outlinewidth\":0,\"ticks\":\"\"},\"colorscale\":[[0.0,\"#0d0887\"],[0.1111111111111111,\"#46039f\"],[0.2222222222222222,\"#7201a8\"],[0.3333333333333333,\"#9c179e\"],[0.4444444444444444,\"#bd3786\"],[0.5555555555555556,\"#d8576b\"],[0.6666666666666666,\"#ed7953\"],[0.7777777777777778,\"#fb9f3a\"],[0.8888888888888888,\"#fdca26\"],[1.0,\"#f0f921\"]],\"type\":\"heatmapgl\"}],\"heatmap\":[{\"colorbar\":{\"outlinewidth\":0,\"ticks\":\"\"},\"colorscale\":[[0.0,\"#0d0887\"],[0.1111111111111111,\"#46039f\"],[0.2222222222222222,\"#7201a8\"],[0.3333333333333333,\"#9c179e\"],[0.4444444444444444,\"#bd3786\"],[0.5555555555555556,\"#d8576b\"],[0.6666666666666666,\"#ed7953\"],[0.7777777777777778,\"#fb9f3a\"],[0.8888888888888888,\"#fdca26\"],[1.0,\"#f0f921\"]],\"type\":\"heatmap\"}],\"histogram2dcontour\":[{\"colorbar\":{\"outlinewidth\":0,\"ticks\":\"\"},\"colorscale\":[[0.0,\"#0d0887\"],[0.1111111111111111,\"#46039f\"],[0.2222222222222222,\"#7201a8\"],[0.3333333333333333,\"#9c179e\"],[0.4444444444444444,\"#bd3786\"],[0.5555555555555556,\"#d8576b\"],[0.6666666666666666,\"#ed7953\"],[0.7777777777777778,\"#fb9f3a\"],[0.8888888888888888,\"#fdca26\"],[1.0,\"#f0f921\"]],\"type\":\"histogram2dcontour\"}],\"histogram2d\":[{\"colorbar\":{\"outlinewidth\":0,\"ticks\":\"\"},\"colorscale\":[[0.0,\"#0d0887\"],[0.1111111111111111,\"#46039f\"],[0.2222222222222222,\"#7201a8\"],[0.3333333333333333,\"#9c179e\"],[0.4444444444444444,\"#bd3786\"],[0.5555555555555556,\"#d8576b\"],[0.6666666666666666,\"#ed7953\"],[0.7777777777777778,\"#fb9f3a\"],[0.8888888888888888,\"#fdca26\"],[1.0,\"#f0f921\"]],\"type\":\"histogram2d\"}],\"histogram\":[{\"marker\":{\"pattern\":{\"fillmode\":\"overlay\",\"size\":10,\"solidity\":0.2}},\"type\":\"histogram\"}],\"mesh3d\":[{\"colorbar\":{\"outlinewidth\":0,\"ticks\":\"\"},\"type\":\"mesh3d\"}],\"parcoords\":[{\"line\":{\"colorbar\":{\"outlinewidth\":0,\"ticks\":\"\"}},\"type\":\"parcoords\"}],\"pie\":[{\"automargin\":true,\"type\":\"pie\"}],\"scatter3d\":[{\"line\":{\"colorbar\":{\"outlinewidth\":0,\"ticks\":\"\"}},\"marker\":{\"colorbar\":{\"outlinewidth\":0,\"ticks\":\"\"}},\"type\":\"scatter3d\"}],\"scattercarpet\":[{\"marker\":{\"colorbar\":{\"outlinewidth\":0,\"ticks\":\"\"}},\"type\":\"scattercarpet\"}],\"scattergeo\":[{\"marker\":{\"colorbar\":{\"outlinewidth\":0,\"ticks\":\"\"}},\"type\":\"scattergeo\"}],\"scattergl\":[{\"marker\":{\"colorbar\":{\"outlinewidth\":0,\"ticks\":\"\"}},\"type\":\"scattergl\"}],\"scattermapbox\":[{\"marker\":{\"colorbar\":{\"outlinewidth\":0,\"ticks\":\"\"}},\"type\":\"scattermapbox\"}],\"scatterpolargl\":[{\"marker\":{\"colorbar\":{\"outlinewidth\":0,\"ticks\":\"\"}},\"type\":\"scatterpolargl\"}],\"scatterpolar\":[{\"marker\":{\"colorbar\":{\"outlinewidth\":0,\"ticks\":\"\"}},\"type\":\"scatterpolar\"}],\"scatter\":[{\"marker\":{\"colorbar\":{\"outlinewidth\":0,\"ticks\":\"\"}},\"type\":\"scatter\"}],\"scatterternary\":[{\"marker\":{\"colorbar\":{\"outlinewidth\":0,\"ticks\":\"\"}},\"type\":\"scatterternary\"}],\"surface\":[{\"colorbar\":{\"outlinewidth\":0,\"ticks\":\"\"},\"colorscale\":[[0.0,\"#0d0887\"],[0.1111111111111111,\"#46039f\"],[0.2222222222222222,\"#7201a8\"],[0.3333333333333333,\"#9c179e\"],[0.4444444444444444,\"#bd3786\"],[0.5555555555555556,\"#d8576b\"],[0.6666666666666666,\"#ed7953\"],[0.7777777777777778,\"#fb9f3a\"],[0.8888888888888888,\"#fdca26\"],[1.0,\"#f0f921\"]],\"type\":\"surface\"}],\"table\":[{\"cells\":{\"fill\":{\"color\":\"#EBF0F8\"},\"line\":{\"color\":\"white\"}},\"header\":{\"fill\":{\"color\":\"#C8D4E3\"},\"line\":{\"color\":\"white\"}},\"type\":\"table\"}]},\"layout\":{\"annotationdefaults\":{\"arrowcolor\":\"#2a3f5f\",\"arrowhead\":0,\"arrowwidth\":1},\"autotypenumbers\":\"strict\",\"coloraxis\":{\"colorbar\":{\"outlinewidth\":0,\"ticks\":\"\"}},\"colorscale\":{\"diverging\":[[0,\"#8e0152\"],[0.1,\"#c51b7d\"],[0.2,\"#de77ae\"],[0.3,\"#f1b6da\"],[0.4,\"#fde0ef\"],[0.5,\"#f7f7f7\"],[0.6,\"#e6f5d0\"],[0.7,\"#b8e186\"],[0.8,\"#7fbc41\"],[0.9,\"#4d9221\"],[1,\"#276419\"]],\"sequential\":[[0.0,\"#0d0887\"],[0.1111111111111111,\"#46039f\"],[0.2222222222222222,\"#7201a8\"],[0.3333333333333333,\"#9c179e\"],[0.4444444444444444,\"#bd3786\"],[0.5555555555555556,\"#d8576b\"],[0.6666666666666666,\"#ed7953\"],[0.7777777777777778,\"#fb9f3a\"],[0.8888888888888888,\"#fdca26\"],[1.0,\"#f0f921\"]],\"sequentialminus\":[[0.0,\"#0d0887\"],[0.1111111111111111,\"#46039f\"],[0.2222222222222222,\"#7201a8\"],[0.3333333333333333,\"#9c179e\"],[0.4444444444444444,\"#bd3786\"],[0.5555555555555556,\"#d8576b\"],[0.6666666666666666,\"#ed7953\"],[0.7777777777777778,\"#fb9f3a\"],[0.8888888888888888,\"#fdca26\"],[1.0,\"#f0f921\"]]},\"colorway\":[\"#636efa\",\"#EF553B\",\"#00cc96\",\"#ab63fa\",\"#FFA15A\",\"#19d3f3\",\"#FF6692\",\"#B6E880\",\"#FF97FF\",\"#FECB52\"],\"font\":{\"color\":\"#2a3f5f\"},\"geo\":{\"bgcolor\":\"white\",\"lakecolor\":\"white\",\"landcolor\":\"white\",\"showlakes\":true,\"showland\":true,\"subunitcolor\":\"#C8D4E3\"},\"hoverlabel\":{\"align\":\"left\"},\"hovermode\":\"closest\",\"mapbox\":{\"style\":\"light\"},\"paper_bgcolor\":\"white\",\"plot_bgcolor\":\"white\",\"polar\":{\"angularaxis\":{\"gridcolor\":\"#EBF0F8\",\"linecolor\":\"#EBF0F8\",\"ticks\":\"\"},\"bgcolor\":\"white\",\"radialaxis\":{\"gridcolor\":\"#EBF0F8\",\"linecolor\":\"#EBF0F8\",\"ticks\":\"\"}},\"scene\":{\"xaxis\":{\"backgroundcolor\":\"white\",\"gridcolor\":\"#DFE8F3\",\"gridwidth\":2,\"linecolor\":\"#EBF0F8\",\"showbackground\":true,\"ticks\":\"\",\"zerolinecolor\":\"#EBF0F8\"},\"yaxis\":{\"backgroundcolor\":\"white\",\"gridcolor\":\"#DFE8F3\",\"gridwidth\":2,\"linecolor\":\"#EBF0F8\",\"showbackground\":true,\"ticks\":\"\",\"zerolinecolor\":\"#EBF0F8\"},\"zaxis\":{\"backgroundcolor\":\"white\",\"gridcolor\":\"#DFE8F3\",\"gridwidth\":2,\"linecolor\":\"#EBF0F8\",\"showbackground\":true,\"ticks\":\"\",\"zerolinecolor\":\"#EBF0F8\"}},\"shapedefaults\":{\"line\":{\"color\":\"#2a3f5f\"}},\"ternary\":{\"aaxis\":{\"gridcolor\":\"#DFE8F3\",\"linecolor\":\"#A2B1C6\",\"ticks\":\"\"},\"baxis\":{\"gridcolor\":\"#DFE8F3\",\"linecolor\":\"#A2B1C6\",\"ticks\":\"\"},\"bgcolor\":\"white\",\"caxis\":{\"gridcolor\":\"#DFE8F3\",\"linecolor\":\"#A2B1C6\",\"ticks\":\"\"}},\"title\":{\"x\":0.05},\"xaxis\":{\"automargin\":true,\"gridcolor\":\"#EBF0F8\",\"linecolor\":\"#EBF0F8\",\"ticks\":\"\",\"title\":{\"standoff\":15},\"zerolinecolor\":\"#EBF0F8\",\"zerolinewidth\":2},\"yaxis\":{\"automargin\":true,\"gridcolor\":\"#EBF0F8\",\"linecolor\":\"#EBF0F8\",\"ticks\":\"\",\"title\":{\"standoff\":15},\"zerolinecolor\":\"#EBF0F8\",\"zerolinewidth\":2}}},\"xaxis\":{\"anchor\":\"y\",\"domain\":[0.0,1.0],\"type\":\"date\",\"showgrid\":false,\"fixedrange\":true,\"range\":[\"2022-03-26T12:00:00\",\"2022-03-26T16:00:00\"],\"tickformat\":\"%H:%M\"},\"yaxis\":{\"anchor\":\"x\",\"domain\":[0.0,1.0],\"title\":{\"text\":\"Tag_Corner\"},\"showgrid\":false},\"legend\":{\"title\":{\"text\":\"Visit\"},\"tracegroupgap\":0},\"title\":{\"text\":\"Metric: visit_density. Stage: Tutorial. File: control1 session1\"},\"barmode\":\"overlay\"},                        {\"responsive\": true}                    ).then(function(){\n",
       "                            \n",
       "var gd = document.getElementById('6739909a-0a64-493b-bec5-f7f7414b6e40');\n",
       "var x = new MutationObserver(function (mutations, observer) {{\n",
       "        var display = window.getComputedStyle(gd).display;\n",
       "        if (!display || display === 'none') {{\n",
       "            console.log([gd, 'removed!']);\n",
       "            Plotly.purge(gd);\n",
       "            observer.disconnect();\n",
       "        }}\n",
       "}});\n",
       "\n",
       "// Listen for the removal of the full notebook cells\n",
       "var notebookContainer = gd.closest('#notebook-container');\n",
       "if (notebookContainer) {{\n",
       "    x.observe(notebookContainer, {childList: true});\n",
       "}}\n",
       "\n",
       "// Listen for the clearing of the current output cell\n",
       "var outputEl = gd.closest('.output');\n",
       "if (outputEl) {{\n",
       "    x.observe(outputEl, {childList: true});\n",
       "}}\n",
       "\n",
       "                        })                };                });            </script>        </div>"
      ]
     },
     "metadata": {},
     "output_type": "display_data"
    }
   ],
   "source": [
    "exp.timeline(metric = 'visit_density',\n",
    "             start='2022-03-26_12:00:00',\n",
    "             finish='2022-03-26_16:00:00',\n",
    "             slide = None,\n",
    "             step = None,\n",
    "             time_start_median = None,\n",
    "             time_finish_median = None,\n",
    "             lick = None,             \n",
    "             time = None,\n",
    "             replacing_value='auto',\n",
    "             without_dem_base=False,          \n",
    "             input_time_interval='auto',\n",
    "             delete_zero_in_intervals_for_median = False,\n",
    "             median_special_time = False,\n",
    "             dynamic = False,\n",
    "             intellicage = 'all_time',\n",
    "             parser_condition = None,\n",
    "             division_coef = 1,\n",
    "             plotly_verbose = True,\n",
    "             output_file = 'html')\n",
    "\n",
    "# See the tutorial_data\\output\\dem_power-Tutorial-control1 session1.html"
   ]
  },
  {
   "cell_type": "code",
   "execution_count": 10,
   "id": "688c5670",
   "metadata": {},
   "outputs": [
    {
     "data": {
      "application/vnd.plotly.v1+json": {
       "config": {
        "plotlyServerURL": "https://plot.ly"
       },
       "data": [
        {
         "alignmentgroup": "True",
         "base": [
          "2022-03-26T12:01:11.737000",
          "2022-03-26T12:01:29.831000",
          "2022-03-26T12:02:34",
          "2022-03-26T12:03:22.263000",
          "2022-03-26T12:03:29.850000",
          "2022-03-26T12:04:50.613000",
          "2022-03-26T12:05:17.169000",
          "2022-03-26T12:07:49.624000",
          "2022-03-26T12:10:00.916000",
          "2022-03-26T12:10:18.158000",
          "2022-03-26T12:10:37.410000",
          "2022-03-26T12:10:52.254000",
          "2022-03-26T12:11:21.638000",
          "2022-03-26T12:11:31.871000",
          "2022-03-26T12:11:46.429000",
          "2022-03-26T12:12:15.907000",
          "2022-03-26T12:12:24.591000",
          "2022-03-26T12:12:58.186000",
          "2022-03-26T12:13:02.636000",
          "2022-03-26T12:13:29.597000",
          "2022-03-26T12:17:07.020000",
          "2022-03-26T12:19:54.877000",
          "2022-03-26T12:37:06.661000",
          "2022-03-26T12:38:46.276000",
          "2022-03-26T12:46:15.244000",
          "2022-03-26T14:30:59.912000",
          "2022-03-26T14:32:10.599000",
          "2022-03-26T14:33:11.649000",
          "2022-03-26T14:35:26.566000",
          "2022-03-26T14:36:42.458000",
          "2022-03-26T14:38:07.105000",
          "2022-03-26T14:38:40.408000",
          "2022-03-26T14:40:26.791000",
          "2022-03-26T14:45:10.375000",
          "2022-03-26T14:52:09.013000",
          "2022-03-26T14:52:48.610000",
          "2022-03-26T14:58:29.311000",
          "2022-03-26T14:58:56.935000",
          "2022-03-26T14:59:57.259000",
          "2022-03-26T15:00:20.916000",
          "2022-03-26T15:02:44.227000",
          "2022-03-26T15:04:32.060000",
          "2022-03-26T15:05:20.589000",
          "2022-03-26T15:09:23.544000",
          "2022-03-26T15:10:23.969000",
          "2022-03-26T15:11:54.195000",
          "2022-03-26T15:12:31.466000",
          "2022-03-26T15:34:19.834000",
          "2022-03-26T15:35:06.147000",
          "2022-03-26T15:35:21.579000",
          "2022-03-26T15:35:29.674000",
          "2022-03-26T15:37:01.583000",
          "2022-03-26T15:40:15.529000",
          "2022-03-26T15:40:36.534000",
          "2022-03-26T15:40:48.709000",
          "2022-03-26T15:47:41.054000",
          "2022-03-26T15:59:30.561000"
         ],
         "hovertemplate": "Visits=<br>Start=%{base}<br>Finish=%{x}<br>File=%{y}<extra></extra>",
         "legendgroup": "",
         "marker": {
          "color": "black",
          "opacity": 1
         },
         "name": "",
         "offsetgroup": "",
         "orientation": "h",
         "showlegend": false,
         "textposition": "auto",
         "type": "bar",
         "x": [
          3345,
          1336,
          47583,
          4099,
          6030,
          320365,
          126371,
          27016,
          25418,
          95388,
          11449,
          28277,
          3279,
          14512,
          11564,
          885,
          15065,
          14612,
          31255,
          694,
          1333,
          710651,
          21184,
          337442,
          1007,
          63991,
          23812,
          20243,
          58612,
          42268,
          18824,
          75831,
          39073,
          387423,
          22042,
          25426,
          18825,
          14566,
          20666,
          4780,
          14285,
          22777,
          60973,
          9193,
          18609,
          15089,
          82890,
          43472,
          13801,
          652,
          19338,
          74065,
          964,
          3789,
          11866,
          24569,
          11024
         ],
         "xaxis": "x",
         "y": [
          "Tutorial-control1 session1",
          "Tutorial-control1 session1",
          "Tutorial-control1 session1",
          "Tutorial-control1 session1",
          "Tutorial-control1 session1",
          "Tutorial-control1 session1",
          "Tutorial-control1 session1",
          "Tutorial-control1 session1",
          "Tutorial-control1 session1",
          "Tutorial-control1 session1",
          "Tutorial-control1 session1",
          "Tutorial-control1 session1",
          "Tutorial-control1 session1",
          "Tutorial-control1 session1",
          "Tutorial-control1 session1",
          "Tutorial-control1 session1",
          "Tutorial-control1 session1",
          "Tutorial-control1 session1",
          "Tutorial-control1 session1",
          "Tutorial-control1 session1",
          "Tutorial-control1 session1",
          "Tutorial-control1 session1",
          "Tutorial-control1 session1",
          "Tutorial-control1 session1",
          "Tutorial-control1 session1",
          "Tutorial-control1 session1",
          "Tutorial-control1 session1",
          "Tutorial-control1 session1",
          "Tutorial-control1 session1",
          "Tutorial-control1 session1",
          "Tutorial-control1 session1",
          "Tutorial-control1 session1",
          "Tutorial-control1 session1",
          "Tutorial-control1 session1",
          "Tutorial-control1 session1",
          "Tutorial-control1 session1",
          "Tutorial-control1 session1",
          "Tutorial-control1 session1",
          "Tutorial-control1 session1",
          "Tutorial-control1 session1",
          "Tutorial-control1 session1",
          "Tutorial-control1 session1",
          "Tutorial-control1 session1",
          "Tutorial-control1 session1",
          "Tutorial-control1 session1",
          "Tutorial-control1 session1",
          "Tutorial-control1 session1",
          "Tutorial-control1 session1",
          "Tutorial-control1 session1",
          "Tutorial-control1 session1",
          "Tutorial-control1 session1",
          "Tutorial-control1 session1",
          "Tutorial-control1 session1",
          "Tutorial-control1 session1",
          "Tutorial-control1 session1",
          "Tutorial-control1 session1",
          "Tutorial-control1 session1"
         ],
         "yaxis": "y"
        }
       ],
       "layout": {
        "barmode": "overlay",
        "legend": {
         "title": {
          "text": "Visits"
         },
         "tracegroupgap": 0
        },
        "template": {
         "data": {
          "bar": [
           {
            "error_x": {
             "color": "#2a3f5f"
            },
            "error_y": {
             "color": "#2a3f5f"
            },
            "marker": {
             "line": {
              "color": "white",
              "width": 0.5
             },
             "pattern": {
              "fillmode": "overlay",
              "size": 10,
              "solidity": 0.2
             }
            },
            "type": "bar"
           }
          ],
          "barpolar": [
           {
            "marker": {
             "line": {
              "color": "white",
              "width": 0.5
             },
             "pattern": {
              "fillmode": "overlay",
              "size": 10,
              "solidity": 0.2
             }
            },
            "type": "barpolar"
           }
          ],
          "carpet": [
           {
            "aaxis": {
             "endlinecolor": "#2a3f5f",
             "gridcolor": "#C8D4E3",
             "linecolor": "#C8D4E3",
             "minorgridcolor": "#C8D4E3",
             "startlinecolor": "#2a3f5f"
            },
            "baxis": {
             "endlinecolor": "#2a3f5f",
             "gridcolor": "#C8D4E3",
             "linecolor": "#C8D4E3",
             "minorgridcolor": "#C8D4E3",
             "startlinecolor": "#2a3f5f"
            },
            "type": "carpet"
           }
          ],
          "choropleth": [
           {
            "colorbar": {
             "outlinewidth": 0,
             "ticks": ""
            },
            "type": "choropleth"
           }
          ],
          "contour": [
           {
            "colorbar": {
             "outlinewidth": 0,
             "ticks": ""
            },
            "colorscale": [
             [
              0,
              "#0d0887"
             ],
             [
              0.1111111111111111,
              "#46039f"
             ],
             [
              0.2222222222222222,
              "#7201a8"
             ],
             [
              0.3333333333333333,
              "#9c179e"
             ],
             [
              0.4444444444444444,
              "#bd3786"
             ],
             [
              0.5555555555555556,
              "#d8576b"
             ],
             [
              0.6666666666666666,
              "#ed7953"
             ],
             [
              0.7777777777777778,
              "#fb9f3a"
             ],
             [
              0.8888888888888888,
              "#fdca26"
             ],
             [
              1,
              "#f0f921"
             ]
            ],
            "type": "contour"
           }
          ],
          "contourcarpet": [
           {
            "colorbar": {
             "outlinewidth": 0,
             "ticks": ""
            },
            "type": "contourcarpet"
           }
          ],
          "heatmap": [
           {
            "colorbar": {
             "outlinewidth": 0,
             "ticks": ""
            },
            "colorscale": [
             [
              0,
              "#0d0887"
             ],
             [
              0.1111111111111111,
              "#46039f"
             ],
             [
              0.2222222222222222,
              "#7201a8"
             ],
             [
              0.3333333333333333,
              "#9c179e"
             ],
             [
              0.4444444444444444,
              "#bd3786"
             ],
             [
              0.5555555555555556,
              "#d8576b"
             ],
             [
              0.6666666666666666,
              "#ed7953"
             ],
             [
              0.7777777777777778,
              "#fb9f3a"
             ],
             [
              0.8888888888888888,
              "#fdca26"
             ],
             [
              1,
              "#f0f921"
             ]
            ],
            "type": "heatmap"
           }
          ],
          "heatmapgl": [
           {
            "colorbar": {
             "outlinewidth": 0,
             "ticks": ""
            },
            "colorscale": [
             [
              0,
              "#0d0887"
             ],
             [
              0.1111111111111111,
              "#46039f"
             ],
             [
              0.2222222222222222,
              "#7201a8"
             ],
             [
              0.3333333333333333,
              "#9c179e"
             ],
             [
              0.4444444444444444,
              "#bd3786"
             ],
             [
              0.5555555555555556,
              "#d8576b"
             ],
             [
              0.6666666666666666,
              "#ed7953"
             ],
             [
              0.7777777777777778,
              "#fb9f3a"
             ],
             [
              0.8888888888888888,
              "#fdca26"
             ],
             [
              1,
              "#f0f921"
             ]
            ],
            "type": "heatmapgl"
           }
          ],
          "histogram": [
           {
            "marker": {
             "pattern": {
              "fillmode": "overlay",
              "size": 10,
              "solidity": 0.2
             }
            },
            "type": "histogram"
           }
          ],
          "histogram2d": [
           {
            "colorbar": {
             "outlinewidth": 0,
             "ticks": ""
            },
            "colorscale": [
             [
              0,
              "#0d0887"
             ],
             [
              0.1111111111111111,
              "#46039f"
             ],
             [
              0.2222222222222222,
              "#7201a8"
             ],
             [
              0.3333333333333333,
              "#9c179e"
             ],
             [
              0.4444444444444444,
              "#bd3786"
             ],
             [
              0.5555555555555556,
              "#d8576b"
             ],
             [
              0.6666666666666666,
              "#ed7953"
             ],
             [
              0.7777777777777778,
              "#fb9f3a"
             ],
             [
              0.8888888888888888,
              "#fdca26"
             ],
             [
              1,
              "#f0f921"
             ]
            ],
            "type": "histogram2d"
           }
          ],
          "histogram2dcontour": [
           {
            "colorbar": {
             "outlinewidth": 0,
             "ticks": ""
            },
            "colorscale": [
             [
              0,
              "#0d0887"
             ],
             [
              0.1111111111111111,
              "#46039f"
             ],
             [
              0.2222222222222222,
              "#7201a8"
             ],
             [
              0.3333333333333333,
              "#9c179e"
             ],
             [
              0.4444444444444444,
              "#bd3786"
             ],
             [
              0.5555555555555556,
              "#d8576b"
             ],
             [
              0.6666666666666666,
              "#ed7953"
             ],
             [
              0.7777777777777778,
              "#fb9f3a"
             ],
             [
              0.8888888888888888,
              "#fdca26"
             ],
             [
              1,
              "#f0f921"
             ]
            ],
            "type": "histogram2dcontour"
           }
          ],
          "mesh3d": [
           {
            "colorbar": {
             "outlinewidth": 0,
             "ticks": ""
            },
            "type": "mesh3d"
           }
          ],
          "parcoords": [
           {
            "line": {
             "colorbar": {
              "outlinewidth": 0,
              "ticks": ""
             }
            },
            "type": "parcoords"
           }
          ],
          "pie": [
           {
            "automargin": true,
            "type": "pie"
           }
          ],
          "scatter": [
           {
            "marker": {
             "colorbar": {
              "outlinewidth": 0,
              "ticks": ""
             }
            },
            "type": "scatter"
           }
          ],
          "scatter3d": [
           {
            "line": {
             "colorbar": {
              "outlinewidth": 0,
              "ticks": ""
             }
            },
            "marker": {
             "colorbar": {
              "outlinewidth": 0,
              "ticks": ""
             }
            },
            "type": "scatter3d"
           }
          ],
          "scattercarpet": [
           {
            "marker": {
             "colorbar": {
              "outlinewidth": 0,
              "ticks": ""
             }
            },
            "type": "scattercarpet"
           }
          ],
          "scattergeo": [
           {
            "marker": {
             "colorbar": {
              "outlinewidth": 0,
              "ticks": ""
             }
            },
            "type": "scattergeo"
           }
          ],
          "scattergl": [
           {
            "marker": {
             "colorbar": {
              "outlinewidth": 0,
              "ticks": ""
             }
            },
            "type": "scattergl"
           }
          ],
          "scattermapbox": [
           {
            "marker": {
             "colorbar": {
              "outlinewidth": 0,
              "ticks": ""
             }
            },
            "type": "scattermapbox"
           }
          ],
          "scatterpolar": [
           {
            "marker": {
             "colorbar": {
              "outlinewidth": 0,
              "ticks": ""
             }
            },
            "type": "scatterpolar"
           }
          ],
          "scatterpolargl": [
           {
            "marker": {
             "colorbar": {
              "outlinewidth": 0,
              "ticks": ""
             }
            },
            "type": "scatterpolargl"
           }
          ],
          "scatterternary": [
           {
            "marker": {
             "colorbar": {
              "outlinewidth": 0,
              "ticks": ""
             }
            },
            "type": "scatterternary"
           }
          ],
          "surface": [
           {
            "colorbar": {
             "outlinewidth": 0,
             "ticks": ""
            },
            "colorscale": [
             [
              0,
              "#0d0887"
             ],
             [
              0.1111111111111111,
              "#46039f"
             ],
             [
              0.2222222222222222,
              "#7201a8"
             ],
             [
              0.3333333333333333,
              "#9c179e"
             ],
             [
              0.4444444444444444,
              "#bd3786"
             ],
             [
              0.5555555555555556,
              "#d8576b"
             ],
             [
              0.6666666666666666,
              "#ed7953"
             ],
             [
              0.7777777777777778,
              "#fb9f3a"
             ],
             [
              0.8888888888888888,
              "#fdca26"
             ],
             [
              1,
              "#f0f921"
             ]
            ],
            "type": "surface"
           }
          ],
          "table": [
           {
            "cells": {
             "fill": {
              "color": "#EBF0F8"
             },
             "line": {
              "color": "white"
             }
            },
            "header": {
             "fill": {
              "color": "#C8D4E3"
             },
             "line": {
              "color": "white"
             }
            },
            "type": "table"
           }
          ]
         },
         "layout": {
          "annotationdefaults": {
           "arrowcolor": "#2a3f5f",
           "arrowhead": 0,
           "arrowwidth": 1
          },
          "autotypenumbers": "strict",
          "coloraxis": {
           "colorbar": {
            "outlinewidth": 0,
            "ticks": ""
           }
          },
          "colorscale": {
           "diverging": [
            [
             0,
             "#8e0152"
            ],
            [
             0.1,
             "#c51b7d"
            ],
            [
             0.2,
             "#de77ae"
            ],
            [
             0.3,
             "#f1b6da"
            ],
            [
             0.4,
             "#fde0ef"
            ],
            [
             0.5,
             "#f7f7f7"
            ],
            [
             0.6,
             "#e6f5d0"
            ],
            [
             0.7,
             "#b8e186"
            ],
            [
             0.8,
             "#7fbc41"
            ],
            [
             0.9,
             "#4d9221"
            ],
            [
             1,
             "#276419"
            ]
           ],
           "sequential": [
            [
             0,
             "#0d0887"
            ],
            [
             0.1111111111111111,
             "#46039f"
            ],
            [
             0.2222222222222222,
             "#7201a8"
            ],
            [
             0.3333333333333333,
             "#9c179e"
            ],
            [
             0.4444444444444444,
             "#bd3786"
            ],
            [
             0.5555555555555556,
             "#d8576b"
            ],
            [
             0.6666666666666666,
             "#ed7953"
            ],
            [
             0.7777777777777778,
             "#fb9f3a"
            ],
            [
             0.8888888888888888,
             "#fdca26"
            ],
            [
             1,
             "#f0f921"
            ]
           ],
           "sequentialminus": [
            [
             0,
             "#0d0887"
            ],
            [
             0.1111111111111111,
             "#46039f"
            ],
            [
             0.2222222222222222,
             "#7201a8"
            ],
            [
             0.3333333333333333,
             "#9c179e"
            ],
            [
             0.4444444444444444,
             "#bd3786"
            ],
            [
             0.5555555555555556,
             "#d8576b"
            ],
            [
             0.6666666666666666,
             "#ed7953"
            ],
            [
             0.7777777777777778,
             "#fb9f3a"
            ],
            [
             0.8888888888888888,
             "#fdca26"
            ],
            [
             1,
             "#f0f921"
            ]
           ]
          },
          "colorway": [
           "#636efa",
           "#EF553B",
           "#00cc96",
           "#ab63fa",
           "#FFA15A",
           "#19d3f3",
           "#FF6692",
           "#B6E880",
           "#FF97FF",
           "#FECB52"
          ],
          "font": {
           "color": "#2a3f5f"
          },
          "geo": {
           "bgcolor": "white",
           "lakecolor": "white",
           "landcolor": "white",
           "showlakes": true,
           "showland": true,
           "subunitcolor": "#C8D4E3"
          },
          "hoverlabel": {
           "align": "left"
          },
          "hovermode": "closest",
          "mapbox": {
           "style": "light"
          },
          "paper_bgcolor": "white",
          "plot_bgcolor": "white",
          "polar": {
           "angularaxis": {
            "gridcolor": "#EBF0F8",
            "linecolor": "#EBF0F8",
            "ticks": ""
           },
           "bgcolor": "white",
           "radialaxis": {
            "gridcolor": "#EBF0F8",
            "linecolor": "#EBF0F8",
            "ticks": ""
           }
          },
          "scene": {
           "xaxis": {
            "backgroundcolor": "white",
            "gridcolor": "#DFE8F3",
            "gridwidth": 2,
            "linecolor": "#EBF0F8",
            "showbackground": true,
            "ticks": "",
            "zerolinecolor": "#EBF0F8"
           },
           "yaxis": {
            "backgroundcolor": "white",
            "gridcolor": "#DFE8F3",
            "gridwidth": 2,
            "linecolor": "#EBF0F8",
            "showbackground": true,
            "ticks": "",
            "zerolinecolor": "#EBF0F8"
           },
           "zaxis": {
            "backgroundcolor": "white",
            "gridcolor": "#DFE8F3",
            "gridwidth": 2,
            "linecolor": "#EBF0F8",
            "showbackground": true,
            "ticks": "",
            "zerolinecolor": "#EBF0F8"
           }
          },
          "shapedefaults": {
           "line": {
            "color": "#2a3f5f"
           }
          },
          "ternary": {
           "aaxis": {
            "gridcolor": "#DFE8F3",
            "linecolor": "#A2B1C6",
            "ticks": ""
           },
           "baxis": {
            "gridcolor": "#DFE8F3",
            "linecolor": "#A2B1C6",
            "ticks": ""
           },
           "bgcolor": "white",
           "caxis": {
            "gridcolor": "#DFE8F3",
            "linecolor": "#A2B1C6",
            "ticks": ""
           }
          },
          "title": {
           "x": 0.05
          },
          "xaxis": {
           "automargin": true,
           "gridcolor": "#EBF0F8",
           "linecolor": "#EBF0F8",
           "ticks": "",
           "title": {
            "standoff": 15
           },
           "zerolinecolor": "#EBF0F8",
           "zerolinewidth": 2
          },
          "yaxis": {
           "automargin": true,
           "gridcolor": "#EBF0F8",
           "linecolor": "#EBF0F8",
           "ticks": "",
           "title": {
            "standoff": 15
           },
           "zerolinecolor": "#EBF0F8",
           "zerolinewidth": 2
          }
         }
        },
        "title": {
         "text": "Metric: free_bowls_time. Stage: Tutorial. File: control1 session1"
        },
        "xaxis": {
         "anchor": "y",
         "domain": [
          0,
          1
         ],
         "showgrid": false,
         "type": "date"
        },
        "yaxis": {
         "anchor": "x",
         "domain": [
          0,
          1
         ],
         "showgrid": false,
         "title": {
          "text": "File"
         }
        }
       }
      },
      "text/html": [
       "<div>                            <div id=\"7ec21dbf-5421-4740-bb0d-153bb6dfb589\" class=\"plotly-graph-div\" style=\"height:525px; width:100%;\"></div>            <script type=\"text/javascript\">                require([\"plotly\"], function(Plotly) {                    window.PLOTLYENV=window.PLOTLYENV || {};                                    if (document.getElementById(\"7ec21dbf-5421-4740-bb0d-153bb6dfb589\")) {                    Plotly.newPlot(                        \"7ec21dbf-5421-4740-bb0d-153bb6dfb589\",                        [{\"alignmentgroup\":\"True\",\"base\":[\"2022-03-26T12:01:11.737000\",\"2022-03-26T12:01:29.831000\",\"2022-03-26T12:02:34\",\"2022-03-26T12:03:22.263000\",\"2022-03-26T12:03:29.850000\",\"2022-03-26T12:04:50.613000\",\"2022-03-26T12:05:17.169000\",\"2022-03-26T12:07:49.624000\",\"2022-03-26T12:10:00.916000\",\"2022-03-26T12:10:18.158000\",\"2022-03-26T12:10:37.410000\",\"2022-03-26T12:10:52.254000\",\"2022-03-26T12:11:21.638000\",\"2022-03-26T12:11:31.871000\",\"2022-03-26T12:11:46.429000\",\"2022-03-26T12:12:15.907000\",\"2022-03-26T12:12:24.591000\",\"2022-03-26T12:12:58.186000\",\"2022-03-26T12:13:02.636000\",\"2022-03-26T12:13:29.597000\",\"2022-03-26T12:17:07.020000\",\"2022-03-26T12:19:54.877000\",\"2022-03-26T12:37:06.661000\",\"2022-03-26T12:38:46.276000\",\"2022-03-26T12:46:15.244000\",\"2022-03-26T14:30:59.912000\",\"2022-03-26T14:32:10.599000\",\"2022-03-26T14:33:11.649000\",\"2022-03-26T14:35:26.566000\",\"2022-03-26T14:36:42.458000\",\"2022-03-26T14:38:07.105000\",\"2022-03-26T14:38:40.408000\",\"2022-03-26T14:40:26.791000\",\"2022-03-26T14:45:10.375000\",\"2022-03-26T14:52:09.013000\",\"2022-03-26T14:52:48.610000\",\"2022-03-26T14:58:29.311000\",\"2022-03-26T14:58:56.935000\",\"2022-03-26T14:59:57.259000\",\"2022-03-26T15:00:20.916000\",\"2022-03-26T15:02:44.227000\",\"2022-03-26T15:04:32.060000\",\"2022-03-26T15:05:20.589000\",\"2022-03-26T15:09:23.544000\",\"2022-03-26T15:10:23.969000\",\"2022-03-26T15:11:54.195000\",\"2022-03-26T15:12:31.466000\",\"2022-03-26T15:34:19.834000\",\"2022-03-26T15:35:06.147000\",\"2022-03-26T15:35:21.579000\",\"2022-03-26T15:35:29.674000\",\"2022-03-26T15:37:01.583000\",\"2022-03-26T15:40:15.529000\",\"2022-03-26T15:40:36.534000\",\"2022-03-26T15:40:48.709000\",\"2022-03-26T15:47:41.054000\",\"2022-03-26T15:59:30.561000\"],\"hovertemplate\":\"Visits=<br>Start=%{base}<br>Finish=%{x}<br>File=%{y}<extra></extra>\",\"legendgroup\":\"\",\"marker\":{\"color\":\"black\",\"opacity\":1},\"name\":\"\",\"offsetgroup\":\"\",\"orientation\":\"h\",\"showlegend\":false,\"textposition\":\"auto\",\"x\":[3345.0,1336.0,47583.0,4099.0,6030.0,320365.0,126371.0,27016.0,25418.0,95388.0,11449.0,28277.0,3279.0,14512.0,11564.0,885.0,15065.0,14612.0,31255.0,694.0,1333.0,710651.0,21184.0,337442.0,1007.0,63991.0,23812.0,20243.0,58612.0,42268.0,18824.0,75831.0,39073.0,387423.0,22042.0,25426.0,18825.0,14566.0,20666.0,4780.0,14285.0,22777.0,60973.0,9193.0,18609.0,15089.0,82890.0,43472.0,13801.0,652.0,19338.0,74065.0,964.0,3789.0,11866.0,24569.0,11024.0],\"xaxis\":\"x\",\"y\":[\"Tutorial-control1 session1\",\"Tutorial-control1 session1\",\"Tutorial-control1 session1\",\"Tutorial-control1 session1\",\"Tutorial-control1 session1\",\"Tutorial-control1 session1\",\"Tutorial-control1 session1\",\"Tutorial-control1 session1\",\"Tutorial-control1 session1\",\"Tutorial-control1 session1\",\"Tutorial-control1 session1\",\"Tutorial-control1 session1\",\"Tutorial-control1 session1\",\"Tutorial-control1 session1\",\"Tutorial-control1 session1\",\"Tutorial-control1 session1\",\"Tutorial-control1 session1\",\"Tutorial-control1 session1\",\"Tutorial-control1 session1\",\"Tutorial-control1 session1\",\"Tutorial-control1 session1\",\"Tutorial-control1 session1\",\"Tutorial-control1 session1\",\"Tutorial-control1 session1\",\"Tutorial-control1 session1\",\"Tutorial-control1 session1\",\"Tutorial-control1 session1\",\"Tutorial-control1 session1\",\"Tutorial-control1 session1\",\"Tutorial-control1 session1\",\"Tutorial-control1 session1\",\"Tutorial-control1 session1\",\"Tutorial-control1 session1\",\"Tutorial-control1 session1\",\"Tutorial-control1 session1\",\"Tutorial-control1 session1\",\"Tutorial-control1 session1\",\"Tutorial-control1 session1\",\"Tutorial-control1 session1\",\"Tutorial-control1 session1\",\"Tutorial-control1 session1\",\"Tutorial-control1 session1\",\"Tutorial-control1 session1\",\"Tutorial-control1 session1\",\"Tutorial-control1 session1\",\"Tutorial-control1 session1\",\"Tutorial-control1 session1\",\"Tutorial-control1 session1\",\"Tutorial-control1 session1\",\"Tutorial-control1 session1\",\"Tutorial-control1 session1\",\"Tutorial-control1 session1\",\"Tutorial-control1 session1\",\"Tutorial-control1 session1\",\"Tutorial-control1 session1\",\"Tutorial-control1 session1\",\"Tutorial-control1 session1\"],\"yaxis\":\"y\",\"type\":\"bar\"}],                        {\"template\":{\"data\":{\"barpolar\":[{\"marker\":{\"line\":{\"color\":\"white\",\"width\":0.5},\"pattern\":{\"fillmode\":\"overlay\",\"size\":10,\"solidity\":0.2}},\"type\":\"barpolar\"}],\"bar\":[{\"error_x\":{\"color\":\"#2a3f5f\"},\"error_y\":{\"color\":\"#2a3f5f\"},\"marker\":{\"line\":{\"color\":\"white\",\"width\":0.5},\"pattern\":{\"fillmode\":\"overlay\",\"size\":10,\"solidity\":0.2}},\"type\":\"bar\"}],\"carpet\":[{\"aaxis\":{\"endlinecolor\":\"#2a3f5f\",\"gridcolor\":\"#C8D4E3\",\"linecolor\":\"#C8D4E3\",\"minorgridcolor\":\"#C8D4E3\",\"startlinecolor\":\"#2a3f5f\"},\"baxis\":{\"endlinecolor\":\"#2a3f5f\",\"gridcolor\":\"#C8D4E3\",\"linecolor\":\"#C8D4E3\",\"minorgridcolor\":\"#C8D4E3\",\"startlinecolor\":\"#2a3f5f\"},\"type\":\"carpet\"}],\"choropleth\":[{\"colorbar\":{\"outlinewidth\":0,\"ticks\":\"\"},\"type\":\"choropleth\"}],\"contourcarpet\":[{\"colorbar\":{\"outlinewidth\":0,\"ticks\":\"\"},\"type\":\"contourcarpet\"}],\"contour\":[{\"colorbar\":{\"outlinewidth\":0,\"ticks\":\"\"},\"colorscale\":[[0.0,\"#0d0887\"],[0.1111111111111111,\"#46039f\"],[0.2222222222222222,\"#7201a8\"],[0.3333333333333333,\"#9c179e\"],[0.4444444444444444,\"#bd3786\"],[0.5555555555555556,\"#d8576b\"],[0.6666666666666666,\"#ed7953\"],[0.7777777777777778,\"#fb9f3a\"],[0.8888888888888888,\"#fdca26\"],[1.0,\"#f0f921\"]],\"type\":\"contour\"}],\"heatmapgl\":[{\"colorbar\":{\"outlinewidth\":0,\"ticks\":\"\"},\"colorscale\":[[0.0,\"#0d0887\"],[0.1111111111111111,\"#46039f\"],[0.2222222222222222,\"#7201a8\"],[0.3333333333333333,\"#9c179e\"],[0.4444444444444444,\"#bd3786\"],[0.5555555555555556,\"#d8576b\"],[0.6666666666666666,\"#ed7953\"],[0.7777777777777778,\"#fb9f3a\"],[0.8888888888888888,\"#fdca26\"],[1.0,\"#f0f921\"]],\"type\":\"heatmapgl\"}],\"heatmap\":[{\"colorbar\":{\"outlinewidth\":0,\"ticks\":\"\"},\"colorscale\":[[0.0,\"#0d0887\"],[0.1111111111111111,\"#46039f\"],[0.2222222222222222,\"#7201a8\"],[0.3333333333333333,\"#9c179e\"],[0.4444444444444444,\"#bd3786\"],[0.5555555555555556,\"#d8576b\"],[0.6666666666666666,\"#ed7953\"],[0.7777777777777778,\"#fb9f3a\"],[0.8888888888888888,\"#fdca26\"],[1.0,\"#f0f921\"]],\"type\":\"heatmap\"}],\"histogram2dcontour\":[{\"colorbar\":{\"outlinewidth\":0,\"ticks\":\"\"},\"colorscale\":[[0.0,\"#0d0887\"],[0.1111111111111111,\"#46039f\"],[0.2222222222222222,\"#7201a8\"],[0.3333333333333333,\"#9c179e\"],[0.4444444444444444,\"#bd3786\"],[0.5555555555555556,\"#d8576b\"],[0.6666666666666666,\"#ed7953\"],[0.7777777777777778,\"#fb9f3a\"],[0.8888888888888888,\"#fdca26\"],[1.0,\"#f0f921\"]],\"type\":\"histogram2dcontour\"}],\"histogram2d\":[{\"colorbar\":{\"outlinewidth\":0,\"ticks\":\"\"},\"colorscale\":[[0.0,\"#0d0887\"],[0.1111111111111111,\"#46039f\"],[0.2222222222222222,\"#7201a8\"],[0.3333333333333333,\"#9c179e\"],[0.4444444444444444,\"#bd3786\"],[0.5555555555555556,\"#d8576b\"],[0.6666666666666666,\"#ed7953\"],[0.7777777777777778,\"#fb9f3a\"],[0.8888888888888888,\"#fdca26\"],[1.0,\"#f0f921\"]],\"type\":\"histogram2d\"}],\"histogram\":[{\"marker\":{\"pattern\":{\"fillmode\":\"overlay\",\"size\":10,\"solidity\":0.2}},\"type\":\"histogram\"}],\"mesh3d\":[{\"colorbar\":{\"outlinewidth\":0,\"ticks\":\"\"},\"type\":\"mesh3d\"}],\"parcoords\":[{\"line\":{\"colorbar\":{\"outlinewidth\":0,\"ticks\":\"\"}},\"type\":\"parcoords\"}],\"pie\":[{\"automargin\":true,\"type\":\"pie\"}],\"scatter3d\":[{\"line\":{\"colorbar\":{\"outlinewidth\":0,\"ticks\":\"\"}},\"marker\":{\"colorbar\":{\"outlinewidth\":0,\"ticks\":\"\"}},\"type\":\"scatter3d\"}],\"scattercarpet\":[{\"marker\":{\"colorbar\":{\"outlinewidth\":0,\"ticks\":\"\"}},\"type\":\"scattercarpet\"}],\"scattergeo\":[{\"marker\":{\"colorbar\":{\"outlinewidth\":0,\"ticks\":\"\"}},\"type\":\"scattergeo\"}],\"scattergl\":[{\"marker\":{\"colorbar\":{\"outlinewidth\":0,\"ticks\":\"\"}},\"type\":\"scattergl\"}],\"scattermapbox\":[{\"marker\":{\"colorbar\":{\"outlinewidth\":0,\"ticks\":\"\"}},\"type\":\"scattermapbox\"}],\"scatterpolargl\":[{\"marker\":{\"colorbar\":{\"outlinewidth\":0,\"ticks\":\"\"}},\"type\":\"scatterpolargl\"}],\"scatterpolar\":[{\"marker\":{\"colorbar\":{\"outlinewidth\":0,\"ticks\":\"\"}},\"type\":\"scatterpolar\"}],\"scatter\":[{\"marker\":{\"colorbar\":{\"outlinewidth\":0,\"ticks\":\"\"}},\"type\":\"scatter\"}],\"scatterternary\":[{\"marker\":{\"colorbar\":{\"outlinewidth\":0,\"ticks\":\"\"}},\"type\":\"scatterternary\"}],\"surface\":[{\"colorbar\":{\"outlinewidth\":0,\"ticks\":\"\"},\"colorscale\":[[0.0,\"#0d0887\"],[0.1111111111111111,\"#46039f\"],[0.2222222222222222,\"#7201a8\"],[0.3333333333333333,\"#9c179e\"],[0.4444444444444444,\"#bd3786\"],[0.5555555555555556,\"#d8576b\"],[0.6666666666666666,\"#ed7953\"],[0.7777777777777778,\"#fb9f3a\"],[0.8888888888888888,\"#fdca26\"],[1.0,\"#f0f921\"]],\"type\":\"surface\"}],\"table\":[{\"cells\":{\"fill\":{\"color\":\"#EBF0F8\"},\"line\":{\"color\":\"white\"}},\"header\":{\"fill\":{\"color\":\"#C8D4E3\"},\"line\":{\"color\":\"white\"}},\"type\":\"table\"}]},\"layout\":{\"annotationdefaults\":{\"arrowcolor\":\"#2a3f5f\",\"arrowhead\":0,\"arrowwidth\":1},\"autotypenumbers\":\"strict\",\"coloraxis\":{\"colorbar\":{\"outlinewidth\":0,\"ticks\":\"\"}},\"colorscale\":{\"diverging\":[[0,\"#8e0152\"],[0.1,\"#c51b7d\"],[0.2,\"#de77ae\"],[0.3,\"#f1b6da\"],[0.4,\"#fde0ef\"],[0.5,\"#f7f7f7\"],[0.6,\"#e6f5d0\"],[0.7,\"#b8e186\"],[0.8,\"#7fbc41\"],[0.9,\"#4d9221\"],[1,\"#276419\"]],\"sequential\":[[0.0,\"#0d0887\"],[0.1111111111111111,\"#46039f\"],[0.2222222222222222,\"#7201a8\"],[0.3333333333333333,\"#9c179e\"],[0.4444444444444444,\"#bd3786\"],[0.5555555555555556,\"#d8576b\"],[0.6666666666666666,\"#ed7953\"],[0.7777777777777778,\"#fb9f3a\"],[0.8888888888888888,\"#fdca26\"],[1.0,\"#f0f921\"]],\"sequentialminus\":[[0.0,\"#0d0887\"],[0.1111111111111111,\"#46039f\"],[0.2222222222222222,\"#7201a8\"],[0.3333333333333333,\"#9c179e\"],[0.4444444444444444,\"#bd3786\"],[0.5555555555555556,\"#d8576b\"],[0.6666666666666666,\"#ed7953\"],[0.7777777777777778,\"#fb9f3a\"],[0.8888888888888888,\"#fdca26\"],[1.0,\"#f0f921\"]]},\"colorway\":[\"#636efa\",\"#EF553B\",\"#00cc96\",\"#ab63fa\",\"#FFA15A\",\"#19d3f3\",\"#FF6692\",\"#B6E880\",\"#FF97FF\",\"#FECB52\"],\"font\":{\"color\":\"#2a3f5f\"},\"geo\":{\"bgcolor\":\"white\",\"lakecolor\":\"white\",\"landcolor\":\"white\",\"showlakes\":true,\"showland\":true,\"subunitcolor\":\"#C8D4E3\"},\"hoverlabel\":{\"align\":\"left\"},\"hovermode\":\"closest\",\"mapbox\":{\"style\":\"light\"},\"paper_bgcolor\":\"white\",\"plot_bgcolor\":\"white\",\"polar\":{\"angularaxis\":{\"gridcolor\":\"#EBF0F8\",\"linecolor\":\"#EBF0F8\",\"ticks\":\"\"},\"bgcolor\":\"white\",\"radialaxis\":{\"gridcolor\":\"#EBF0F8\",\"linecolor\":\"#EBF0F8\",\"ticks\":\"\"}},\"scene\":{\"xaxis\":{\"backgroundcolor\":\"white\",\"gridcolor\":\"#DFE8F3\",\"gridwidth\":2,\"linecolor\":\"#EBF0F8\",\"showbackground\":true,\"ticks\":\"\",\"zerolinecolor\":\"#EBF0F8\"},\"yaxis\":{\"backgroundcolor\":\"white\",\"gridcolor\":\"#DFE8F3\",\"gridwidth\":2,\"linecolor\":\"#EBF0F8\",\"showbackground\":true,\"ticks\":\"\",\"zerolinecolor\":\"#EBF0F8\"},\"zaxis\":{\"backgroundcolor\":\"white\",\"gridcolor\":\"#DFE8F3\",\"gridwidth\":2,\"linecolor\":\"#EBF0F8\",\"showbackground\":true,\"ticks\":\"\",\"zerolinecolor\":\"#EBF0F8\"}},\"shapedefaults\":{\"line\":{\"color\":\"#2a3f5f\"}},\"ternary\":{\"aaxis\":{\"gridcolor\":\"#DFE8F3\",\"linecolor\":\"#A2B1C6\",\"ticks\":\"\"},\"baxis\":{\"gridcolor\":\"#DFE8F3\",\"linecolor\":\"#A2B1C6\",\"ticks\":\"\"},\"bgcolor\":\"white\",\"caxis\":{\"gridcolor\":\"#DFE8F3\",\"linecolor\":\"#A2B1C6\",\"ticks\":\"\"}},\"title\":{\"x\":0.05},\"xaxis\":{\"automargin\":true,\"gridcolor\":\"#EBF0F8\",\"linecolor\":\"#EBF0F8\",\"ticks\":\"\",\"title\":{\"standoff\":15},\"zerolinecolor\":\"#EBF0F8\",\"zerolinewidth\":2},\"yaxis\":{\"automargin\":true,\"gridcolor\":\"#EBF0F8\",\"linecolor\":\"#EBF0F8\",\"ticks\":\"\",\"title\":{\"standoff\":15},\"zerolinecolor\":\"#EBF0F8\",\"zerolinewidth\":2}}},\"xaxis\":{\"anchor\":\"y\",\"domain\":[0.0,1.0],\"type\":\"date\",\"showgrid\":false},\"yaxis\":{\"anchor\":\"x\",\"domain\":[0.0,1.0],\"title\":{\"text\":\"File\"},\"showgrid\":false},\"legend\":{\"title\":{\"text\":\"Visits\"},\"tracegroupgap\":0},\"title\":{\"text\":\"Metric: free_bowls_time. Stage: Tutorial. File: control1 session1\"},\"barmode\":\"overlay\"},                        {\"responsive\": true}                    ).then(function(){\n",
       "                            \n",
       "var gd = document.getElementById('7ec21dbf-5421-4740-bb0d-153bb6dfb589');\n",
       "var x = new MutationObserver(function (mutations, observer) {{\n",
       "        var display = window.getComputedStyle(gd).display;\n",
       "        if (!display || display === 'none') {{\n",
       "            console.log([gd, 'removed!']);\n",
       "            Plotly.purge(gd);\n",
       "            observer.disconnect();\n",
       "        }}\n",
       "}});\n",
       "\n",
       "// Listen for the removal of the full notebook cells\n",
       "var notebookContainer = gd.closest('#notebook-container');\n",
       "if (notebookContainer) {{\n",
       "    x.observe(notebookContainer, {childList: true});\n",
       "}}\n",
       "\n",
       "// Listen for the clearing of the current output cell\n",
       "var outputEl = gd.closest('.output');\n",
       "if (outputEl) {{\n",
       "    x.observe(outputEl, {childList: true});\n",
       "}}\n",
       "\n",
       "                        })                };                });            </script>        </div>"
      ]
     },
     "metadata": {},
     "output_type": "display_data"
    }
   ],
   "source": [
    "exp.timeline(metric = 'free_bowls_time',\n",
    "             start='2022-03-26_12:00:00',\n",
    "             finish='2022-03-26_16:00:00',\n",
    "             slide = None,\n",
    "             step = None,\n",
    "             time_start_median = None,\n",
    "             time_finish_median = None,\n",
    "             lick = None,             \n",
    "             time = None,\n",
    "             replacing_value='auto',\n",
    "             without_dem_base=False,          \n",
    "             input_time_interval='auto',\n",
    "             delete_zero_in_intervals_for_median = False,\n",
    "             median_special_time = False,\n",
    "             dynamic = False,\n",
    "             intellicage = 'all_time',\n",
    "             parser_condition = None,\n",
    "             division_coef = 1,\n",
    "             plotly_verbose = True,\n",
    "             output_file = 'html')\n",
    "\n",
    "# See the tutorial_data\\output\\free_bowls_time-Tutorial-control1 session1.html"
   ]
  },
  {
   "cell_type": "markdown",
   "id": "3b99227c",
   "metadata": {},
   "source": [
    "## 6. Custom statistic <a class=\"anchor\" id=\"18\"></a>"
   ]
  },
  {
   "cell_type": "markdown",
   "id": "9e8744cd",
   "metadata": {},
   "source": [
    "Sometimes we need to calculate some simple arbitrary statistics - there is the 'eda_target' method for this. You can sum, count ot anything else on column you want."
   ]
  },
  {
   "cell_type": "code",
   "execution_count": 11,
   "id": "2f936307",
   "metadata": {},
   "outputs": [
    {
     "data": {
      "text/plain": [
       "{'Tutorial_LickContactTime_SUM':                  LickContactTime\n",
       " Tag                             \n",
       " 900200000069462      1296.991000\n",
       " 900200000071374       710.551000\n",
       " 900200000071624       333.265000\n",
       " 900200000072028      1148.048998\n",
       " 900200000072076       220.332000}"
      ]
     },
     "execution_count": 11,
     "metadata": {},
     "output_type": "execute_result"
    },
    {
     "data": {
      "image/png": "[encoded data removed]",
      "text/plain": [
       "<Figure size 360x360 with 1 Axes>"
      ]
     },
     "metadata": {
      "needs_background": "light"
     },
     "output_type": "display_data"
    }
   ],
   "source": [
    "names = {'Tutorial_LickContactTime_SUM':['control1 session1']}\n",
    "\n",
    "exp = RBCA(input_path=r'tutorial_data\\input',\n",
    "           output_path=r'tutorial_data\\output', \n",
    "           name_animal_file='animals',\n",
    "           dict_names=names,\n",
    "           show_warnings = False,\n",
    "           corners=[1,2])\n",
    "\n",
    "exp.eda_target(target_column_name = 'LickContactTime',\n",
    "               column_name_for_group = 'Tag',\n",
    "               group_func = 'sum',\n",
    "               lick=None,\n",
    "               intellicage='all_time',\n",
    "               verbose = True,\n",
    "               density = True)\n",
    "\n",
    "# See the tutorial_data\\output\\dg_Tutorial_LickContactTime_SUM_control1 session1.html"
   ]
  }
 ],
 "metadata": {
  "kernelspec": {
   "display_name": "Python 3 (ipykernel)",
   "language": "python",
   "name": "python3"
  },
  "language_info": {
   "codemirror_mode": {
    "name": "ipython",
    "version": 3
   },
   "file_extension": ".py",
   "mimetype": "text/x-python",
   "name": "python",
   "nbconvert_exporter": "python",
   "pygments_lexer": "ipython3",
   "version": "3.9.7"
  }
 },
 "nbformat": 4,
 "nbformat_minor": 5
}
